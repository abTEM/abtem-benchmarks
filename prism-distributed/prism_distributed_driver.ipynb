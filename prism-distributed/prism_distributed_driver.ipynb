{
 "cells": [
  {
   "cell_type": "code",
   "execution_count": 23,
   "id": "a11fff16-38e4-4146-b2a3-20d7ab4102f5",
   "metadata": {},
   "outputs": [],
   "source": [
    "import functools\n",
    "import itertools\n",
    "import operator\n",
    "from collections import defaultdict\n",
    "\n",
    "import pandas as pd\n",
    "import papermill as pm\n",
    "import scrapbook as sb\n",
    "from tqdm.auto import tqdm\n",
    "from pathlib import Path"
   ]
  },
  {
   "cell_type": "code",
   "execution_count": 24,
   "id": "c7500f4c-084f-4367-985f-1d0fa54f37bb",
   "metadata": {},
   "outputs": [],
   "source": [
    "gpts = (128, 256, 512, 1024, 2048, 4096)"
   ]
  },
  {
   "cell_type": "code",
   "execution_count": 25,
   "id": "2831988e-0769-45f6-a526-cc4d030323a6",
   "metadata": {},
   "outputs": [],
   "source": [
    "name = \"intel_core_i9-9900k\""
   ]
  },
  {
   "cell_type": "code",
   "execution_count": 26,
   "id": "57f64756-3c84-400d-ae99-b74a0405dbc0",
   "metadata": {},
   "outputs": [],
   "source": [
    "reports_path = Path(f\"{name}-reports\")\n",
    "reports_path.mkdir(parents=True, exist_ok=True)\n",
    "\n",
    "template_path = \"prism_distributed_template.ipynb\""
   ]
  },
  {
   "cell_type": "code",
   "execution_count": null,
   "id": "90490e81-132c-4ba8-94de-bbded405895f",
   "metadata": {},
   "outputs": [
    {
     "data": {
      "application/vnd.jupyter.widget-view+json": {
       "model_id": "92a17cbe6ea0443396455d36a5899a4c",
       "version_major": 2,
       "version_minor": 0
      },
      "text/plain": [
       "  0%|          | 0/6 [00:00<?, ?it/s]"
      ]
     },
     "metadata": {},
     "output_type": "display_data"
    },
    {
     "data": {
      "application/vnd.jupyter.widget-view+json": {
       "model_id": "2f0e93a0b06c4526acce9b2a5df57e18",
       "version_major": 2,
       "version_minor": 0
      },
      "text/plain": [
       "Executing:   0%|          | 0/16 [00:00<?, ?cell/s]"
      ]
     },
     "metadata": {},
     "output_type": "display_data"
    },
    {
     "data": {
      "application/vnd.jupyter.widget-view+json": {
       "model_id": "8aa9d7989f824ebb9a6e2852405be998",
       "version_major": 2,
       "version_minor": 0
      },
      "text/plain": [
       "Executing:   0%|          | 0/16 [00:00<?, ?cell/s]"
      ]
     },
     "metadata": {},
     "output_type": "display_data"
    },
    {
     "data": {
      "application/vnd.jupyter.widget-view+json": {
       "model_id": "96c24c2fd5fb434ca5ef976877699eaf",
       "version_major": 2,
       "version_minor": 0
      },
      "text/plain": [
       "Executing:   0%|          | 0/16 [00:00<?, ?cell/s]"
      ]
     },
     "metadata": {},
     "output_type": "display_data"
    },
    {
     "data": {
      "application/vnd.jupyter.widget-view+json": {
       "model_id": "be47b58e7880421f8b7f1ebedc7baa38",
       "version_major": 2,
       "version_minor": 0
      },
      "text/plain": [
       "Executing:   0%|          | 0/16 [00:00<?, ?cell/s]"
      ]
     },
     "metadata": {},
     "output_type": "display_data"
    },
    {
     "data": {
      "application/vnd.jupyter.widget-view+json": {
       "model_id": "bfbe90a815be44f3951215e77964e157",
       "version_major": 2,
       "version_minor": 0
      },
      "text/plain": [
       "Executing:   0%|          | 0/16 [00:00<?, ?cell/s]"
      ]
     },
     "metadata": {},
     "output_type": "display_data"
    },
    {
     "data": {
      "application/vnd.jupyter.widget-view+json": {
       "model_id": "9dcfa846e6924dfd9c2135084ad4946d",
       "version_major": 2,
       "version_minor": 0
      },
      "text/plain": [
       "Executing:   0%|          | 0/16 [00:00<?, ?cell/s]"
      ]
     },
     "metadata": {},
     "output_type": "display_data"
    }
   ],
   "source": [
    "parameters = (gpts,)\n",
    "total = functools.reduce(operator.mul, tuple(len(p) for p in parameters))\n",
    "\n",
    "for (n,) in tqdm(itertools.product(*parameters), total=total):\n",
    "    pm.execute_notebook(\n",
    "        template_path,\n",
    "        reports_path / f\"prism_distributed-gpts={n}.ipynb\",\n",
    "        parameters=dict(gpts=n),\n",
    "    )"
   ]
  },
  {
   "cell_type": "code",
   "execution_count": null,
   "id": "40a96f12-aa19-45df-ab3f-bfc8e0c04e63",
   "metadata": {},
   "outputs": [],
   "source": [
    "notebooks = sb.read_notebooks(f\"{name}-reports\").notebooks\n",
    "\n",
    "notebooks\n",
    "\n",
    "index = []\n",
    "data = defaultdict(list)\n",
    "for nb in notebooks:\n",
    "    index.append((nb.parameters[\"gpts\"],))\n",
    "    data[\"time_per_phonon\"].append(nb.scraps.data_dict[\"time_per_phonon\"])\n",
    "    data[\"peak_memory\"].append(nb.scraps.data_dict[\"peak_memory\"])\n",
    "\n",
    "index = pd.MultiIndex.from_tuples(index, names=[\"gpts\"])\n",
    "df = pd.DataFrame(data, index=index)\n",
    "df = df.sort_index()\n",
    "\n",
    "df"
   ]
  }
 ],
 "metadata": {
  "kernelspec": {
   "display_name": "abtem-dask",
   "language": "python",
   "name": "abtem-dask"
  },
  "language_info": {
   "codemirror_mode": {
    "name": "ipython",
    "version": 3
   },
   "file_extension": ".py",
   "mimetype": "text/x-python",
   "name": "python",
   "nbconvert_exporter": "python",
   "pygments_lexer": "ipython3",
   "version": "3.10.8"
  }
 },
 "nbformat": 4,
 "nbformat_minor": 5
}
