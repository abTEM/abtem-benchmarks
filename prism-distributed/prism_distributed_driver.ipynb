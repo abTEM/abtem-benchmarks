{
 "cells": [
  {
   "cell_type": "code",
   "execution_count": 4,
   "id": "a11fff16-38e4-4146-b2a3-20d7ab4102f5",
   "metadata": {},
   "outputs": [],
   "source": [
    "import functools\n",
    "import itertools\n",
    "import operator\n",
    "from collections import defaultdict\n",
    "\n",
    "import pandas as pd\n",
    "import papermill as pm\n",
    "import scrapbook as sb\n",
    "from tqdm.auto import tqdm\n",
    "from pathlib import Path"
   ]
  },
  {
   "cell_type": "code",
   "execution_count": 5,
   "id": "c7500f4c-084f-4367-985f-1d0fa54f37bb",
   "metadata": {},
   "outputs": [],
   "source": [
    "gpts = (256, 512, 1024, 2048)"
   ]
  },
  {
   "cell_type": "code",
   "execution_count": 6,
   "id": "2831988e-0769-45f6-a526-cc4d030323a6",
   "metadata": {},
   "outputs": [],
   "source": [
    "name = \"benchmark_name\" # Please rename this"
   ]
  },
  {
   "cell_type": "code",
   "execution_count": 7,
   "id": "57f64756-3c84-400d-ae99-b74a0405dbc0",
   "metadata": {},
   "outputs": [],
   "source": [
    "reports_path = Path(f\"{name}-reports\")\n",
    "reports_path.mkdir(parents=True, exist_ok=True)\n",
    "\n",
    "template_path = \"prism_distributed_template.ipynb\""
   ]
  },
  {
   "cell_type": "code",
   "execution_count": 8,
   "id": "90490e81-132c-4ba8-94de-bbded405895f",
   "metadata": {},
   "outputs": [
    {
     "data": {
      "application/vnd.jupyter.widget-view+json": {
       "model_id": "8ef999e6eeef47fcada5690fe306efb6",
       "version_major": 2,
       "version_minor": 0
      },
      "text/plain": [
       "  0%|          | 0/2 [00:00<?, ?it/s]"
      ]
     },
     "metadata": {},
     "output_type": "display_data"
    },
    {
     "data": {
      "application/vnd.jupyter.widget-view+json": {
       "model_id": "924dd34b02934e909183419a7c5be4ac",
       "version_major": 2,
       "version_minor": 0
      },
      "text/plain": [
       "Executing:   0%|          | 0/16 [00:00<?, ?cell/s]"
      ]
     },
     "metadata": {},
     "output_type": "display_data"
    },
    {
     "data": {
      "application/vnd.jupyter.widget-view+json": {
       "model_id": "d889d88b20104ded95b944d4ff8ad3c7",
       "version_major": 2,
       "version_minor": 0
      },
      "text/plain": [
       "Executing:   0%|          | 0/16 [00:00<?, ?cell/s]"
      ]
     },
     "metadata": {},
     "output_type": "display_data"
    }
   ],
   "source": [
    "parameters = (gpts,)\n",
    "total = functools.reduce(operator.mul, tuple(len(p) for p in parameters))\n",
    "\n",
    "for (n,) in tqdm(itertools.product(*parameters), total=total):\n",
    "    pm.execute_notebook(\n",
    "        template_path,\n",
    "        reports_path / f\"prism_distributed-gpts={n}.ipynb\",\n",
    "        parameters=dict(gpts=n),\n",
    "    )"
   ]
  },
  {
   "cell_type": "code",
   "execution_count": 15,
   "id": "40a96f12-aa19-45df-ab3f-bfc8e0c04e63",
   "metadata": {},
   "outputs": [
    {
     "data": {
      "text/html": [
       "<div>\n",
       "<style scoped>\n",
       "    .dataframe tbody tr th:only-of-type {\n",
       "        vertical-align: middle;\n",
       "    }\n",
       "\n",
       "    .dataframe tbody tr th {\n",
       "        vertical-align: top;\n",
       "    }\n",
       "\n",
       "    .dataframe thead th {\n",
       "        text-align: right;\n",
       "    }\n",
       "</style>\n",
       "<table border=\"1\" class=\"dataframe\">\n",
       "  <thead>\n",
       "    <tr style=\"text-align: right;\">\n",
       "      <th></th>\n",
       "      <th>time_per_phonon</th>\n",
       "      <th>peak_memory</th>\n",
       "    </tr>\n",
       "    <tr>\n",
       "      <th>gpts</th>\n",
       "      <th></th>\n",
       "      <th></th>\n",
       "    </tr>\n",
       "  </thead>\n",
       "  <tbody>\n",
       "    <tr>\n",
       "      <th>256</th>\n",
       "      <td>0.839942</td>\n",
       "      <td>3.232156</td>\n",
       "    </tr>\n",
       "    <tr>\n",
       "      <th>512</th>\n",
       "      <td>5.016680</td>\n",
       "      <td>6.052173</td>\n",
       "    </tr>\n",
       "  </tbody>\n",
       "</table>\n",
       "</div>"
      ],
      "text/plain": [
       "      time_per_phonon  peak_memory\n",
       "gpts                              \n",
       "256          0.839942     3.232156\n",
       "512          5.016680     6.052173"
      ]
     },
     "execution_count": 15,
     "metadata": {},
     "output_type": "execute_result"
    }
   ],
   "source": [
    "notebooks = sb.read_notebooks(f\"{name}-reports\").notebooks\n",
    "\n",
    "notebooks\n",
    "\n",
    "index = []\n",
    "data = defaultdict(list)\n",
    "for nb in notebooks:\n",
    "    index.append((nb.parameters[\"gpts\"],))\n",
    "    data[\"time_per_phonon\"].append(nb.scraps.data_dict[\"time_per_phonon\"])\n",
    "    data[\"peak_memory\"].append(nb.scraps.data_dict[\"peak_memory\"])\n",
    "\n",
    "index = pd.MultiIndex.from_tuples(index, names=[\"gpts\"])\n",
    "df = pd.DataFrame(data, index=index)\n",
    "df = df.sort_index()\n",
    "\n",
    "df"
   ]
  }
 ],
 "metadata": {
  "kernelspec": {
   "display_name": "abtem-dask",
   "language": "python",
   "name": "abtem-dask"
  },
  "language_info": {
   "codemirror_mode": {
    "name": "ipython",
    "version": 3
   },
   "file_extension": ".py",
   "mimetype": "text/x-python",
   "name": "python",
   "nbconvert_exporter": "python",
   "pygments_lexer": "ipython3",
   "version": "3.9.15"
  },
  "widgets": {
   "application/vnd.jupyter.widget-state+json": {
    "state": {
     "0c9a2e49189b4e45927f65852bc9f115": {
      "model_module": "@jupyter-widgets/base",
      "model_module_version": "1.2.0",
      "model_name": "LayoutModel",
      "state": {}
     },
     "1627a37164034992991eeb3473bf0a6d": {
      "model_module": "@jupyter-widgets/controls",
      "model_module_version": "1.5.0",
      "model_name": "FloatProgressModel",
      "state": {
       "bar_style": "success",
       "layout": "IPY_MODEL_2d4d8f38386e4c22b8475d0b006f8f94",
       "max": 16,
       "style": "IPY_MODEL_73d370ade2024454addabf478d880ee2",
       "value": 16
      }
     },
     "1fcea7af7d564c0595d5c6d803e66917": {
      "model_module": "@jupyter-widgets/controls",
      "model_module_version": "1.5.0",
      "model_name": "FloatProgressModel",
      "state": {
       "bar_style": "success",
       "layout": "IPY_MODEL_99e7eb69e17d4fd19915d7b2a407b2dc",
       "max": 2,
       "style": "IPY_MODEL_99a53ad5ab0f489095f6d6abab0c1d7e",
       "value": 2
      }
     },
     "26f5656214f241d5a19427714261ed1b": {
      "model_module": "@jupyter-widgets/controls",
      "model_module_version": "1.5.0",
      "model_name": "ProgressStyleModel",
      "state": {
       "description_width": ""
      }
     },
     "2d4d8f38386e4c22b8475d0b006f8f94": {
      "model_module": "@jupyter-widgets/base",
      "model_module_version": "1.2.0",
      "model_name": "LayoutModel",
      "state": {}
     },
     "325af5fcf6b4434886c4f1bcc0b345bf": {
      "model_module": "@jupyter-widgets/controls",
      "model_module_version": "1.5.0",
      "model_name": "HTMLModel",
      "state": {
       "layout": "IPY_MODEL_0c9a2e49189b4e45927f65852bc9f115",
       "style": "IPY_MODEL_febf3779a84b49d4ad2031715607f10a",
       "value": " 16/16 [01:12&lt;00:00,  3.56s/cell]"
      }
     },
     "385a785c11ca41deb859fb4f1a506b81": {
      "model_module": "@jupyter-widgets/base",
      "model_module_version": "1.2.0",
      "model_name": "LayoutModel",
      "state": {}
     },
     "3c2045f531c84db7a97a6b568ca4c88b": {
      "model_module": "@jupyter-widgets/controls",
      "model_module_version": "1.5.0",
      "model_name": "FloatProgressModel",
      "state": {
       "bar_style": "success",
       "layout": "IPY_MODEL_460d5337f145473b88d23db259fb3db1",
       "max": 16,
       "style": "IPY_MODEL_26f5656214f241d5a19427714261ed1b",
       "value": 16
      }
     },
     "460d5337f145473b88d23db259fb3db1": {
      "model_module": "@jupyter-widgets/base",
      "model_module_version": "1.2.0",
      "model_name": "LayoutModel",
      "state": {}
     },
     "47eaaee4bc904e858f6fc8026a864bca": {
      "model_module": "@jupyter-widgets/controls",
      "model_module_version": "1.5.0",
      "model_name": "HTMLModel",
      "state": {
       "layout": "IPY_MODEL_6fb3e22a45a140a19861aefd349f2f4f",
       "style": "IPY_MODEL_a358e0595c6248ba8bf374e5f5794bd5",
       "value": " 16/16 [00:37&lt;00:00,  1.68s/cell]"
      }
     },
     "57e6ece58efc4da09c0e9058eadf6487": {
      "model_module": "@jupyter-widgets/base",
      "model_module_version": "1.2.0",
      "model_name": "LayoutModel",
      "state": {}
     },
     "6fb3e22a45a140a19861aefd349f2f4f": {
      "model_module": "@jupyter-widgets/base",
      "model_module_version": "1.2.0",
      "model_name": "LayoutModel",
      "state": {}
     },
     "73d370ade2024454addabf478d880ee2": {
      "model_module": "@jupyter-widgets/controls",
      "model_module_version": "1.5.0",
      "model_name": "ProgressStyleModel",
      "state": {
       "description_width": ""
      }
     },
     "891bf93b13994dd588a852ec1cd9d41d": {
      "model_module": "@jupyter-widgets/base",
      "model_module_version": "1.2.0",
      "model_name": "LayoutModel",
      "state": {}
     },
     "8ef999e6eeef47fcada5690fe306efb6": {
      "model_module": "@jupyter-widgets/controls",
      "model_module_version": "1.5.0",
      "model_name": "HBoxModel",
      "state": {
       "children": [
        "IPY_MODEL_a13400dee04f469c88cd4224278802e1",
        "IPY_MODEL_1fcea7af7d564c0595d5c6d803e66917",
        "IPY_MODEL_90e66d2eaf484bcfb73a45710ee8fb3c"
       ],
       "layout": "IPY_MODEL_f85e4bad6a4646989e761876dc15ad6b"
      }
     },
     "90e66d2eaf484bcfb73a45710ee8fb3c": {
      "model_module": "@jupyter-widgets/controls",
      "model_module_version": "1.5.0",
      "model_name": "HTMLModel",
      "state": {
       "layout": "IPY_MODEL_891bf93b13994dd588a852ec1cd9d41d",
       "style": "IPY_MODEL_fa59c6559e0b4193a8a8d2fe5f3b4f3d",
       "value": " 2/2 [01:50&lt;00:00, 58.09s/it]"
      }
     },
     "924dd34b02934e909183419a7c5be4ac": {
      "model_module": "@jupyter-widgets/controls",
      "model_module_version": "1.5.0",
      "model_name": "HBoxModel",
      "state": {
       "children": [
        "IPY_MODEL_da7d9424884043f7a6419bfe95128e89",
        "IPY_MODEL_1627a37164034992991eeb3473bf0a6d",
        "IPY_MODEL_47eaaee4bc904e858f6fc8026a864bca"
       ],
       "layout": "IPY_MODEL_c3fd67f2d9b14e2d8040382441b51984"
      }
     },
     "99a53ad5ab0f489095f6d6abab0c1d7e": {
      "model_module": "@jupyter-widgets/controls",
      "model_module_version": "1.5.0",
      "model_name": "ProgressStyleModel",
      "state": {
       "description_width": ""
      }
     },
     "99e7eb69e17d4fd19915d7b2a407b2dc": {
      "model_module": "@jupyter-widgets/base",
      "model_module_version": "1.2.0",
      "model_name": "LayoutModel",
      "state": {}
     },
     "9db6c1b4761044bd94936a0e4f0787f5": {
      "model_module": "@jupyter-widgets/controls",
      "model_module_version": "1.5.0",
      "model_name": "DescriptionStyleModel",
      "state": {
       "description_width": ""
      }
     },
     "a13400dee04f469c88cd4224278802e1": {
      "model_module": "@jupyter-widgets/controls",
      "model_module_version": "1.5.0",
      "model_name": "HTMLModel",
      "state": {
       "layout": "IPY_MODEL_57e6ece58efc4da09c0e9058eadf6487",
       "style": "IPY_MODEL_f9ecc7b8cdc44d6487b5e5757197b048",
       "value": "100%"
      }
     },
     "a358e0595c6248ba8bf374e5f5794bd5": {
      "model_module": "@jupyter-widgets/controls",
      "model_module_version": "1.5.0",
      "model_name": "DescriptionStyleModel",
      "state": {
       "description_width": ""
      }
     },
     "b1be2e24b87945c2aca3a1c11c62bcd2": {
      "model_module": "@jupyter-widgets/controls",
      "model_module_version": "1.5.0",
      "model_name": "DescriptionStyleModel",
      "state": {
       "description_width": ""
      }
     },
     "c3fd67f2d9b14e2d8040382441b51984": {
      "model_module": "@jupyter-widgets/base",
      "model_module_version": "1.2.0",
      "model_name": "LayoutModel",
      "state": {}
     },
     "c5fe2a94a2864659a6066d2055a71431": {
      "model_module": "@jupyter-widgets/controls",
      "model_module_version": "1.5.0",
      "model_name": "HTMLModel",
      "state": {
       "layout": "IPY_MODEL_e567d3d29f014e3ab7e96a8b94c53205",
       "style": "IPY_MODEL_b1be2e24b87945c2aca3a1c11c62bcd2",
       "value": "Executing: 100%"
      }
     },
     "d889d88b20104ded95b944d4ff8ad3c7": {
      "model_module": "@jupyter-widgets/controls",
      "model_module_version": "1.5.0",
      "model_name": "HBoxModel",
      "state": {
       "children": [
        "IPY_MODEL_c5fe2a94a2864659a6066d2055a71431",
        "IPY_MODEL_3c2045f531c84db7a97a6b568ca4c88b",
        "IPY_MODEL_325af5fcf6b4434886c4f1bcc0b345bf"
       ],
       "layout": "IPY_MODEL_385a785c11ca41deb859fb4f1a506b81"
      }
     },
     "da7d9424884043f7a6419bfe95128e89": {
      "model_module": "@jupyter-widgets/controls",
      "model_module_version": "1.5.0",
      "model_name": "HTMLModel",
      "state": {
       "layout": "IPY_MODEL_f8d75b09de0c462c9f115ecd857e6564",
       "style": "IPY_MODEL_9db6c1b4761044bd94936a0e4f0787f5",
       "value": "Executing: 100%"
      }
     },
     "e567d3d29f014e3ab7e96a8b94c53205": {
      "model_module": "@jupyter-widgets/base",
      "model_module_version": "1.2.0",
      "model_name": "LayoutModel",
      "state": {}
     },
     "f85e4bad6a4646989e761876dc15ad6b": {
      "model_module": "@jupyter-widgets/base",
      "model_module_version": "1.2.0",
      "model_name": "LayoutModel",
      "state": {}
     },
     "f8d75b09de0c462c9f115ecd857e6564": {
      "model_module": "@jupyter-widgets/base",
      "model_module_version": "1.2.0",
      "model_name": "LayoutModel",
      "state": {}
     },
     "f9ecc7b8cdc44d6487b5e5757197b048": {
      "model_module": "@jupyter-widgets/controls",
      "model_module_version": "1.5.0",
      "model_name": "DescriptionStyleModel",
      "state": {
       "description_width": ""
      }
     },
     "fa59c6559e0b4193a8a8d2fe5f3b4f3d": {
      "model_module": "@jupyter-widgets/controls",
      "model_module_version": "1.5.0",
      "model_name": "DescriptionStyleModel",
      "state": {
       "description_width": ""
      }
     },
     "febf3779a84b49d4ad2031715607f10a": {
      "model_module": "@jupyter-widgets/controls",
      "model_module_version": "1.5.0",
      "model_name": "DescriptionStyleModel",
      "state": {
       "description_width": ""
      }
     }
    },
    "version_major": 2,
    "version_minor": 0
   }
  }
 },
 "nbformat": 4,
 "nbformat_minor": 5
}
