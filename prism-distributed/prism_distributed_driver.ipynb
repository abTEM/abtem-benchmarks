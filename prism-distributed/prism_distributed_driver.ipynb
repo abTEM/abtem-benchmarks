{
 "cells": [
  {
   "cell_type": "code",
   "execution_count": 1,
   "id": "a11fff16-38e4-4146-b2a3-20d7ab4102f5",
   "metadata": {},
   "outputs": [],
   "source": [
    "import functools\n",
    "import itertools\n",
    "import operator\n",
    "from collections import defaultdict\n",
    "\n",
    "import pandas as pd\n",
    "import papermill as pm\n",
    "import scrapbook as sb\n",
    "from tqdm.auto import tqdm\n",
    "from pathlib import Path"
   ]
  },
  {
   "cell_type": "code",
   "execution_count": 2,
   "id": "c7500f4c-084f-4367-985f-1d0fa54f37bb",
   "metadata": {},
   "outputs": [],
   "source": [
    "gpts = (256, 512, 1024, 2048, 4096)"
   ]
  },
  {
   "cell_type": "code",
   "execution_count": 3,
   "id": "2831988e-0769-45f6-a526-cc4d030323a6",
   "metadata": {},
   "outputs": [],
   "source": [
    "name = \"intel_core_i9-9900k\""
   ]
  },
  {
   "cell_type": "code",
   "execution_count": 4,
   "id": "57f64756-3c84-400d-ae99-b74a0405dbc0",
   "metadata": {},
   "outputs": [],
   "source": [
    "reports_path = Path(f\"{name}-reports\")\n",
    "reports_path.mkdir(parents=True, exist_ok=True)\n",
    "\n",
    "template_path = \"prism_distributed_template.ipynb\""
   ]
  },
  {
   "cell_type": "code",
   "execution_count": null,
   "id": "90490e81-132c-4ba8-94de-bbded405895f",
   "metadata": {},
   "outputs": [
    {
     "data": {
      "application/vnd.jupyter.widget-view+json": {
       "model_id": "cd0e261c00aa4edca612d1ef281cbd4d",
       "version_major": 2,
       "version_minor": 0
      },
      "text/plain": [
       "  0%|          | 0/5 [00:00<?, ?it/s]"
      ]
     },
     "metadata": {},
     "output_type": "display_data"
    },
    {
     "data": {
      "application/vnd.jupyter.widget-view+json": {
       "model_id": "6479c4da23d94537b51e54fc45bb111c",
       "version_major": 2,
       "version_minor": 0
      },
      "text/plain": [
       "Executing:   0%|          | 0/16 [00:00<?, ?cell/s]"
      ]
     },
     "metadata": {},
     "output_type": "display_data"
    },
    {
     "data": {
      "application/vnd.jupyter.widget-view+json": {
       "model_id": "b97faad31b4e48268d320cd60709603a",
       "version_major": 2,
       "version_minor": 0
      },
      "text/plain": [
       "Executing:   0%|          | 0/16 [00:00<?, ?cell/s]"
      ]
     },
     "metadata": {},
     "output_type": "display_data"
    },
    {
     "data": {
      "application/vnd.jupyter.widget-view+json": {
       "model_id": "d2afe047ce2a48259b4d68307331461d",
       "version_major": 2,
       "version_minor": 0
      },
      "text/plain": [
       "Executing:   0%|          | 0/16 [00:00<?, ?cell/s]"
      ]
     },
     "metadata": {},
     "output_type": "display_data"
    },
    {
     "data": {
      "application/vnd.jupyter.widget-view+json": {
       "model_id": "38ecace9a4b14829b9aa77428d14676b",
       "version_major": 2,
       "version_minor": 0
      },
      "text/plain": [
       "Executing:   0%|          | 0/16 [00:00<?, ?cell/s]"
      ]
     },
     "metadata": {},
     "output_type": "display_data"
    },
    {
     "data": {
      "application/vnd.jupyter.widget-view+json": {
       "model_id": "b16c1a061419427784bfdc21fcee6cb4",
       "version_major": 2,
       "version_minor": 0
      },
      "text/plain": [
       "Executing:   0%|          | 0/16 [00:00<?, ?cell/s]"
      ]
     },
     "metadata": {},
     "output_type": "display_data"
    }
   ],
   "source": [
    "parameters = (gpts,)\n",
    "total = functools.reduce(operator.mul, tuple(len(p) for p in parameters))\n",
    "\n",
    "for (n,) in tqdm(itertools.product(*parameters), total=total):\n",
    "    pm.execute_notebook(\n",
    "        template_path,\n",
    "        reports_path / f\"prism_distributed-gpts={n}.ipynb\",\n",
    "        parameters=dict(gpts=n),\n",
    "    )"
   ]
  },
  {
   "cell_type": "code",
   "execution_count": 15,
   "id": "40a96f12-aa19-45df-ab3f-bfc8e0c04e63",
   "metadata": {},
   "outputs": [
    {
     "data": {
      "text/html": [
       "<div>\n",
       "<style scoped>\n",
       "    .dataframe tbody tr th:only-of-type {\n",
       "        vertical-align: middle;\n",
       "    }\n",
       "\n",
       "    .dataframe tbody tr th {\n",
       "        vertical-align: top;\n",
       "    }\n",
       "\n",
       "    .dataframe thead th {\n",
       "        text-align: right;\n",
       "    }\n",
       "</style>\n",
       "<table border=\"1\" class=\"dataframe\">\n",
       "  <thead>\n",
       "    <tr style=\"text-align: right;\">\n",
       "      <th></th>\n",
       "      <th>time_per_phonon</th>\n",
       "      <th>peak_memory</th>\n",
       "    </tr>\n",
       "    <tr>\n",
       "      <th>gpts</th>\n",
       "      <th></th>\n",
       "      <th></th>\n",
       "    </tr>\n",
       "  </thead>\n",
       "  <tbody>\n",
       "    <tr>\n",
       "      <th>256</th>\n",
       "      <td>0.839942</td>\n",
       "      <td>3.232156</td>\n",
       "    </tr>\n",
       "    <tr>\n",
       "      <th>512</th>\n",
       "      <td>5.016680</td>\n",
       "      <td>6.052173</td>\n",
       "    </tr>\n",
       "  </tbody>\n",
       "</table>\n",
       "</div>"
      ],
      "text/plain": [
       "      time_per_phonon  peak_memory\n",
       "gpts                              \n",
       "256          0.839942     3.232156\n",
       "512          5.016680     6.052173"
      ]
     },
     "execution_count": 15,
     "metadata": {},
     "output_type": "execute_result"
    }
   ],
   "source": [
    "notebooks = sb.read_notebooks(f\"{name}-reports\").notebooks\n",
    "\n",
    "notebooks\n",
    "\n",
    "index = []\n",
    "data = defaultdict(list)\n",
    "for nb in notebooks:\n",
    "    index.append((nb.parameters[\"gpts\"],))\n",
    "    data[\"time_per_phonon\"].append(nb.scraps.data_dict[\"time_per_phonon\"])\n",
    "    data[\"peak_memory\"].append(nb.scraps.data_dict[\"peak_memory\"])\n",
    "\n",
    "index = pd.MultiIndex.from_tuples(index, names=[\"gpts\"])\n",
    "df = pd.DataFrame(data, index=index)\n",
    "df = df.sort_index()\n",
    "\n",
    "df"
   ]
  }
 ],
 "metadata": {
  "kernelspec": {
   "display_name": "abtem-dask",
   "language": "python",
   "name": "abtem-dask"
  },
  "language_info": {
   "codemirror_mode": {
    "name": "ipython",
    "version": 3
   },
   "file_extension": ".py",
   "mimetype": "text/x-python",
   "name": "python",
   "nbconvert_exporter": "python",
   "pygments_lexer": "ipython3",
   "version": "3.10.8"
  }
 },
 "nbformat": 4,
 "nbformat_minor": 5
}
