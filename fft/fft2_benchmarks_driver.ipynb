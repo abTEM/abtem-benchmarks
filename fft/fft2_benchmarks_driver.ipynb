{
 "cells": [
  {
   "cell_type": "code",
   "execution_count": 10,
   "id": "49e8db95-65f8-4e0c-a99a-88df8f52c6b8",
   "metadata": {},
   "outputs": [],
   "source": [
    "import functools\n",
    "import itertools\n",
    "import operator\n",
    "\n",
    "import papermill as pm\n",
    "from tqdm.auto import tqdm"
   ]
  },
  {
   "cell_type": "code",
   "execution_count": 11,
   "id": "4cc19031-caad-4500-8697-ac4f1654ad1f",
   "metadata": {},
   "outputs": [],
   "source": [
    "batch_sizes = (1, 2, 4, 8)\n",
    "sizes = (512, 1024, 2048, 4096)\n",
    "threads = (1, 2, 4, 8)"
   ]
  },
  {
   "cell_type": "code",
   "execution_count": 12,
   "id": "3af62154-31c0-4df3-9c1a-334a6334aa89",
   "metadata": {
    "collapsed": true,
    "jupyter": {
     "outputs_hidden": true
    },
    "tags": []
   },
   "outputs": [
    {
     "data": {
      "application/vnd.jupyter.widget-view+json": {
       "model_id": "0dc9f318d5514168a072f5b4970e7b53",
       "version_major": 2,
       "version_minor": 0
      },
      "text/plain": [
       "  0%|          | 0/64 [00:00<?, ?it/s]"
      ]
     },
     "metadata": {},
     "output_type": "display_data"
    },
    {
     "data": {
      "application/vnd.jupyter.widget-view+json": {
       "model_id": "0cfac57560a048de8b88b33ed584356e",
       "version_major": 2,
       "version_minor": 0
      },
      "text/plain": [
       "Executing:   0%|          | 0/9 [00:00<?, ?cell/s]"
      ]
     },
     "metadata": {},
     "output_type": "display_data"
    },
    {
     "data": {
      "application/vnd.jupyter.widget-view+json": {
       "model_id": "67b0d66757b84ffc95947b08b838e7a8",
       "version_major": 2,
       "version_minor": 0
      },
      "text/plain": [
       "Executing:   0%|          | 0/9 [00:00<?, ?cell/s]"
      ]
     },
     "metadata": {},
     "output_type": "display_data"
    },
    {
     "data": {
      "application/vnd.jupyter.widget-view+json": {
       "model_id": "ceb96c0502214a518ccb5742a7aff2b7",
       "version_major": 2,
       "version_minor": 0
      },
      "text/plain": [
       "Executing:   0%|          | 0/9 [00:00<?, ?cell/s]"
      ]
     },
     "metadata": {},
     "output_type": "display_data"
    },
    {
     "data": {
      "application/vnd.jupyter.widget-view+json": {
       "model_id": "3aec036e57af4b13bcb25a2622a1aa01",
       "version_major": 2,
       "version_minor": 0
      },
      "text/plain": [
       "Executing:   0%|          | 0/9 [00:00<?, ?cell/s]"
      ]
     },
     "metadata": {},
     "output_type": "display_data"
    },
    {
     "data": {
      "application/vnd.jupyter.widget-view+json": {
       "model_id": "e046aa1ddfee4b0cb5a9ec40d736cd46",
       "version_major": 2,
       "version_minor": 0
      },
      "text/plain": [
       "Executing:   0%|          | 0/9 [00:00<?, ?cell/s]"
      ]
     },
     "metadata": {},
     "output_type": "display_data"
    },
    {
     "data": {
      "application/vnd.jupyter.widget-view+json": {
       "model_id": "f7f56d2824a44406b2b89f52c870635c",
       "version_major": 2,
       "version_minor": 0
      },
      "text/plain": [
       "Executing:   0%|          | 0/9 [00:00<?, ?cell/s]"
      ]
     },
     "metadata": {},
     "output_type": "display_data"
    },
    {
     "data": {
      "application/vnd.jupyter.widget-view+json": {
       "model_id": "a600ae57f61c4122a6a41f6902ce3a80",
       "version_major": 2,
       "version_minor": 0
      },
      "text/plain": [
       "Executing:   0%|          | 0/9 [00:00<?, ?cell/s]"
      ]
     },
     "metadata": {},
     "output_type": "display_data"
    },
    {
     "data": {
      "application/vnd.jupyter.widget-view+json": {
       "model_id": "50bd43e1f7e048a698af1af0d88dff2d",
       "version_major": 2,
       "version_minor": 0
      },
      "text/plain": [
       "Executing:   0%|          | 0/9 [00:00<?, ?cell/s]"
      ]
     },
     "metadata": {},
     "output_type": "display_data"
    },
    {
     "data": {
      "application/vnd.jupyter.widget-view+json": {
       "model_id": "a6f5d0dec84f48e3a6fc99af96476e71",
       "version_major": 2,
       "version_minor": 0
      },
      "text/plain": [
       "Executing:   0%|          | 0/9 [00:00<?, ?cell/s]"
      ]
     },
     "metadata": {},
     "output_type": "display_data"
    },
    {
     "data": {
      "application/vnd.jupyter.widget-view+json": {
       "model_id": "f86681a9fafa464a8a19427bf567071f",
       "version_major": 2,
       "version_minor": 0
      },
      "text/plain": [
       "Executing:   0%|          | 0/9 [00:00<?, ?cell/s]"
      ]
     },
     "metadata": {},
     "output_type": "display_data"
    },
    {
     "data": {
      "application/vnd.jupyter.widget-view+json": {
       "model_id": "b3b45e8d7245414f9324455d4d455ecc",
       "version_major": 2,
       "version_minor": 0
      },
      "text/plain": [
       "Executing:   0%|          | 0/9 [00:00<?, ?cell/s]"
      ]
     },
     "metadata": {},
     "output_type": "display_data"
    },
    {
     "data": {
      "application/vnd.jupyter.widget-view+json": {
       "model_id": "129fc024f8a04728855c5bda644ba0fe",
       "version_major": 2,
       "version_minor": 0
      },
      "text/plain": [
       "Executing:   0%|          | 0/9 [00:00<?, ?cell/s]"
      ]
     },
     "metadata": {},
     "output_type": "display_data"
    },
    {
     "data": {
      "application/vnd.jupyter.widget-view+json": {
       "model_id": "b739c8e4a89e4af284a7de59657b7756",
       "version_major": 2,
       "version_minor": 0
      },
      "text/plain": [
       "Executing:   0%|          | 0/9 [00:00<?, ?cell/s]"
      ]
     },
     "metadata": {},
     "output_type": "display_data"
    },
    {
     "data": {
      "application/vnd.jupyter.widget-view+json": {
       "model_id": "cd49c2af532647a1aa2143b264a458b8",
       "version_major": 2,
       "version_minor": 0
      },
      "text/plain": [
       "Executing:   0%|          | 0/9 [00:00<?, ?cell/s]"
      ]
     },
     "metadata": {},
     "output_type": "display_data"
    },
    {
     "data": {
      "application/vnd.jupyter.widget-view+json": {
       "model_id": "73e1e8990d344879b8f367bfeef841ec",
       "version_major": 2,
       "version_minor": 0
      },
      "text/plain": [
       "Executing:   0%|          | 0/9 [00:00<?, ?cell/s]"
      ]
     },
     "metadata": {},
     "output_type": "display_data"
    },
    {
     "data": {
      "application/vnd.jupyter.widget-view+json": {
       "model_id": "65e72911cfe947b7afd70b1ee4b73937",
       "version_major": 2,
       "version_minor": 0
      },
      "text/plain": [
       "Executing:   0%|          | 0/9 [00:00<?, ?cell/s]"
      ]
     },
     "metadata": {},
     "output_type": "display_data"
    },
    {
     "data": {
      "application/vnd.jupyter.widget-view+json": {
       "model_id": "ae05ccb8a03f488891bcb1d54b56341d",
       "version_major": 2,
       "version_minor": 0
      },
      "text/plain": [
       "Executing:   0%|          | 0/9 [00:00<?, ?cell/s]"
      ]
     },
     "metadata": {},
     "output_type": "display_data"
    },
    {
     "data": {
      "application/vnd.jupyter.widget-view+json": {
       "model_id": "8876c18e606d4a19914ddfc19a9c1443",
       "version_major": 2,
       "version_minor": 0
      },
      "text/plain": [
       "Executing:   0%|          | 0/9 [00:00<?, ?cell/s]"
      ]
     },
     "metadata": {},
     "output_type": "display_data"
    },
    {
     "data": {
      "application/vnd.jupyter.widget-view+json": {
       "model_id": "9608b03465cf4f69b998462e5b4b9da9",
       "version_major": 2,
       "version_minor": 0
      },
      "text/plain": [
       "Executing:   0%|          | 0/9 [00:00<?, ?cell/s]"
      ]
     },
     "metadata": {},
     "output_type": "display_data"
    },
    {
     "data": {
      "application/vnd.jupyter.widget-view+json": {
       "model_id": "47270b5a39b64fa58ac1dcc28a7634b9",
       "version_major": 2,
       "version_minor": 0
      },
      "text/plain": [
       "Executing:   0%|          | 0/9 [00:00<?, ?cell/s]"
      ]
     },
     "metadata": {},
     "output_type": "display_data"
    },
    {
     "data": {
      "application/vnd.jupyter.widget-view+json": {
       "model_id": "c4c2abe37feb4821ad655fd4793251af",
       "version_major": 2,
       "version_minor": 0
      },
      "text/plain": [
       "Executing:   0%|          | 0/9 [00:00<?, ?cell/s]"
      ]
     },
     "metadata": {},
     "output_type": "display_data"
    },
    {
     "data": {
      "application/vnd.jupyter.widget-view+json": {
       "model_id": "935f28c2d9fb4d4da0d4e2a85ab5a8f5",
       "version_major": 2,
       "version_minor": 0
      },
      "text/plain": [
       "Executing:   0%|          | 0/9 [00:00<?, ?cell/s]"
      ]
     },
     "metadata": {},
     "output_type": "display_data"
    },
    {
     "data": {
      "application/vnd.jupyter.widget-view+json": {
       "model_id": "53aa7a21d7c94609a0d466782afba562",
       "version_major": 2,
       "version_minor": 0
      },
      "text/plain": [
       "Executing:   0%|          | 0/9 [00:00<?, ?cell/s]"
      ]
     },
     "metadata": {},
     "output_type": "display_data"
    },
    {
     "data": {
      "application/vnd.jupyter.widget-view+json": {
       "model_id": "b147e5e16f1c41968fae45ecf649c95e",
       "version_major": 2,
       "version_minor": 0
      },
      "text/plain": [
       "Executing:   0%|          | 0/9 [00:00<?, ?cell/s]"
      ]
     },
     "metadata": {},
     "output_type": "display_data"
    },
    {
     "data": {
      "application/vnd.jupyter.widget-view+json": {
       "model_id": "836058d03a1a47aea079ed481c18e9d4",
       "version_major": 2,
       "version_minor": 0
      },
      "text/plain": [
       "Executing:   0%|          | 0/9 [00:00<?, ?cell/s]"
      ]
     },
     "metadata": {},
     "output_type": "display_data"
    },
    {
     "data": {
      "application/vnd.jupyter.widget-view+json": {
       "model_id": "44464c49b5214c83aabf8e0ba3bad42c",
       "version_major": 2,
       "version_minor": 0
      },
      "text/plain": [
       "Executing:   0%|          | 0/9 [00:00<?, ?cell/s]"
      ]
     },
     "metadata": {},
     "output_type": "display_data"
    },
    {
     "data": {
      "application/vnd.jupyter.widget-view+json": {
       "model_id": "25cd39842a97482c8e2ae7538141ad51",
       "version_major": 2,
       "version_minor": 0
      },
      "text/plain": [
       "Executing:   0%|          | 0/9 [00:00<?, ?cell/s]"
      ]
     },
     "metadata": {},
     "output_type": "display_data"
    },
    {
     "data": {
      "application/vnd.jupyter.widget-view+json": {
       "model_id": "d2796b1395e34471a8abc88c28c1c88b",
       "version_major": 2,
       "version_minor": 0
      },
      "text/plain": [
       "Executing:   0%|          | 0/9 [00:00<?, ?cell/s]"
      ]
     },
     "metadata": {},
     "output_type": "display_data"
    },
    {
     "data": {
      "application/vnd.jupyter.widget-view+json": {
       "model_id": "06042ffae2ff4400904a16713894f3a7",
       "version_major": 2,
       "version_minor": 0
      },
      "text/plain": [
       "Executing:   0%|          | 0/9 [00:00<?, ?cell/s]"
      ]
     },
     "metadata": {},
     "output_type": "display_data"
    },
    {
     "data": {
      "application/vnd.jupyter.widget-view+json": {
       "model_id": "e77e2242a3bb4696adb0cae3f85a74c3",
       "version_major": 2,
       "version_minor": 0
      },
      "text/plain": [
       "Executing:   0%|          | 0/9 [00:00<?, ?cell/s]"
      ]
     },
     "metadata": {},
     "output_type": "display_data"
    },
    {
     "data": {
      "application/vnd.jupyter.widget-view+json": {
       "model_id": "88d481daeee44ba3ba5bd7d926b308f6",
       "version_major": 2,
       "version_minor": 0
      },
      "text/plain": [
       "Executing:   0%|          | 0/9 [00:00<?, ?cell/s]"
      ]
     },
     "metadata": {},
     "output_type": "display_data"
    },
    {
     "data": {
      "application/vnd.jupyter.widget-view+json": {
       "model_id": "4c41da0ac0464a44bb83f5552fb26f4a",
       "version_major": 2,
       "version_minor": 0
      },
      "text/plain": [
       "Executing:   0%|          | 0/9 [00:00<?, ?cell/s]"
      ]
     },
     "metadata": {},
     "output_type": "display_data"
    },
    {
     "data": {
      "application/vnd.jupyter.widget-view+json": {
       "model_id": "276846810add412d9b080d6d6061dbfc",
       "version_major": 2,
       "version_minor": 0
      },
      "text/plain": [
       "Executing:   0%|          | 0/9 [00:00<?, ?cell/s]"
      ]
     },
     "metadata": {},
     "output_type": "display_data"
    },
    {
     "data": {
      "application/vnd.jupyter.widget-view+json": {
       "model_id": "7ace9ca0d4fd4e939e0912aec7d04ea7",
       "version_major": 2,
       "version_minor": 0
      },
      "text/plain": [
       "Executing:   0%|          | 0/9 [00:00<?, ?cell/s]"
      ]
     },
     "metadata": {},
     "output_type": "display_data"
    },
    {
     "data": {
      "application/vnd.jupyter.widget-view+json": {
       "model_id": "ad5b4d564288413e8d0d68bb5f341b29",
       "version_major": 2,
       "version_minor": 0
      },
      "text/plain": [
       "Executing:   0%|          | 0/9 [00:00<?, ?cell/s]"
      ]
     },
     "metadata": {},
     "output_type": "display_data"
    },
    {
     "data": {
      "application/vnd.jupyter.widget-view+json": {
       "model_id": "4a9237e1755744dd9683a61a3fdaa1db",
       "version_major": 2,
       "version_minor": 0
      },
      "text/plain": [
       "Executing:   0%|          | 0/9 [00:00<?, ?cell/s]"
      ]
     },
     "metadata": {},
     "output_type": "display_data"
    },
    {
     "data": {
      "application/vnd.jupyter.widget-view+json": {
       "model_id": "e1cf84f6eb324bc0a09613320f6bc1a2",
       "version_major": 2,
       "version_minor": 0
      },
      "text/plain": [
       "Executing:   0%|          | 0/9 [00:00<?, ?cell/s]"
      ]
     },
     "metadata": {},
     "output_type": "display_data"
    },
    {
     "data": {
      "application/vnd.jupyter.widget-view+json": {
       "model_id": "906e10e84ab64199ad5bcbe40dbd37ee",
       "version_major": 2,
       "version_minor": 0
      },
      "text/plain": [
       "Executing:   0%|          | 0/9 [00:00<?, ?cell/s]"
      ]
     },
     "metadata": {},
     "output_type": "display_data"
    },
    {
     "data": {
      "application/vnd.jupyter.widget-view+json": {
       "model_id": "baba13350cfd465ca8e6f494cb2331b5",
       "version_major": 2,
       "version_minor": 0
      },
      "text/plain": [
       "Executing:   0%|          | 0/9 [00:00<?, ?cell/s]"
      ]
     },
     "metadata": {},
     "output_type": "display_data"
    },
    {
     "data": {
      "application/vnd.jupyter.widget-view+json": {
       "model_id": "68ac4f768b884237b2e28f974b3484e5",
       "version_major": 2,
       "version_minor": 0
      },
      "text/plain": [
       "Executing:   0%|          | 0/9 [00:00<?, ?cell/s]"
      ]
     },
     "metadata": {},
     "output_type": "display_data"
    },
    {
     "data": {
      "application/vnd.jupyter.widget-view+json": {
       "model_id": "fdeeea8c845d40b59443ca9785f02cd1",
       "version_major": 2,
       "version_minor": 0
      },
      "text/plain": [
       "Executing:   0%|          | 0/9 [00:00<?, ?cell/s]"
      ]
     },
     "metadata": {},
     "output_type": "display_data"
    },
    {
     "data": {
      "application/vnd.jupyter.widget-view+json": {
       "model_id": "eeae8a8d51d34ee7bbeef247abd060f5",
       "version_major": 2,
       "version_minor": 0
      },
      "text/plain": [
       "Executing:   0%|          | 0/9 [00:00<?, ?cell/s]"
      ]
     },
     "metadata": {},
     "output_type": "display_data"
    },
    {
     "data": {
      "application/vnd.jupyter.widget-view+json": {
       "model_id": "f8d5c0546c8d4e829248166a2fb314ed",
       "version_major": 2,
       "version_minor": 0
      },
      "text/plain": [
       "Executing:   0%|          | 0/9 [00:00<?, ?cell/s]"
      ]
     },
     "metadata": {},
     "output_type": "display_data"
    },
    {
     "data": {
      "application/vnd.jupyter.widget-view+json": {
       "model_id": "4df551f541c742f2b082da72327c58bc",
       "version_major": 2,
       "version_minor": 0
      },
      "text/plain": [
       "Executing:   0%|          | 0/9 [00:00<?, ?cell/s]"
      ]
     },
     "metadata": {},
     "output_type": "display_data"
    },
    {
     "data": {
      "application/vnd.jupyter.widget-view+json": {
       "model_id": "f295933bbf3c4051bcc275d8897585d2",
       "version_major": 2,
       "version_minor": 0
      },
      "text/plain": [
       "Executing:   0%|          | 0/9 [00:00<?, ?cell/s]"
      ]
     },
     "metadata": {},
     "output_type": "display_data"
    },
    {
     "data": {
      "application/vnd.jupyter.widget-view+json": {
       "model_id": "5534d0cb53bd434cb37885c922774d01",
       "version_major": 2,
       "version_minor": 0
      },
      "text/plain": [
       "Executing:   0%|          | 0/9 [00:00<?, ?cell/s]"
      ]
     },
     "metadata": {},
     "output_type": "display_data"
    },
    {
     "data": {
      "application/vnd.jupyter.widget-view+json": {
       "model_id": "baa77adb787a46f088989ee1f7a67ca3",
       "version_major": 2,
       "version_minor": 0
      },
      "text/plain": [
       "Executing:   0%|          | 0/9 [00:00<?, ?cell/s]"
      ]
     },
     "metadata": {},
     "output_type": "display_data"
    },
    {
     "data": {
      "application/vnd.jupyter.widget-view+json": {
       "model_id": "fd5eb78d71174620a8541fcc237f520b",
       "version_major": 2,
       "version_minor": 0
      },
      "text/plain": [
       "Executing:   0%|          | 0/9 [00:00<?, ?cell/s]"
      ]
     },
     "metadata": {},
     "output_type": "display_data"
    },
    {
     "data": {
      "application/vnd.jupyter.widget-view+json": {
       "model_id": "278a4d3a428841098118cfa79bade345",
       "version_major": 2,
       "version_minor": 0
      },
      "text/plain": [
       "Executing:   0%|          | 0/9 [00:00<?, ?cell/s]"
      ]
     },
     "metadata": {},
     "output_type": "display_data"
    },
    {
     "data": {
      "application/vnd.jupyter.widget-view+json": {
       "model_id": "0eebfd0ef288476bbc58a19081bbb445",
       "version_major": 2,
       "version_minor": 0
      },
      "text/plain": [
       "Executing:   0%|          | 0/9 [00:00<?, ?cell/s]"
      ]
     },
     "metadata": {},
     "output_type": "display_data"
    },
    {
     "data": {
      "application/vnd.jupyter.widget-view+json": {
       "model_id": "a2703f18981f457d834eebc3f028ed2c",
       "version_major": 2,
       "version_minor": 0
      },
      "text/plain": [
       "Executing:   0%|          | 0/9 [00:00<?, ?cell/s]"
      ]
     },
     "metadata": {},
     "output_type": "display_data"
    },
    {
     "data": {
      "application/vnd.jupyter.widget-view+json": {
       "model_id": "f872d129cf504d848e734637ff7100da",
       "version_major": 2,
       "version_minor": 0
      },
      "text/plain": [
       "Executing:   0%|          | 0/9 [00:00<?, ?cell/s]"
      ]
     },
     "metadata": {},
     "output_type": "display_data"
    },
    {
     "data": {
      "application/vnd.jupyter.widget-view+json": {
       "model_id": "e41d3ec778ce40cda1ae0f40a07a31ee",
       "version_major": 2,
       "version_minor": 0
      },
      "text/plain": [
       "Executing:   0%|          | 0/9 [00:00<?, ?cell/s]"
      ]
     },
     "metadata": {},
     "output_type": "display_data"
    },
    {
     "data": {
      "application/vnd.jupyter.widget-view+json": {
       "model_id": "1b08aa33d452439ebb966ed33c6f26cf",
       "version_major": 2,
       "version_minor": 0
      },
      "text/plain": [
       "Executing:   0%|          | 0/9 [00:00<?, ?cell/s]"
      ]
     },
     "metadata": {},
     "output_type": "display_data"
    },
    {
     "data": {
      "application/vnd.jupyter.widget-view+json": {
       "model_id": "660a5e5ab199435fb6d24cc0087d3c68",
       "version_major": 2,
       "version_minor": 0
      },
      "text/plain": [
       "Executing:   0%|          | 0/9 [00:00<?, ?cell/s]"
      ]
     },
     "metadata": {},
     "output_type": "display_data"
    },
    {
     "data": {
      "application/vnd.jupyter.widget-view+json": {
       "model_id": "b1456c4457464a5aa9de15748679ff3e",
       "version_major": 2,
       "version_minor": 0
      },
      "text/plain": [
       "Executing:   0%|          | 0/9 [00:00<?, ?cell/s]"
      ]
     },
     "metadata": {},
     "output_type": "display_data"
    },
    {
     "data": {
      "application/vnd.jupyter.widget-view+json": {
       "model_id": "3018ff6d14a34044a4c2702d6a42c0db",
       "version_major": 2,
       "version_minor": 0
      },
      "text/plain": [
       "Executing:   0%|          | 0/9 [00:00<?, ?cell/s]"
      ]
     },
     "metadata": {},
     "output_type": "display_data"
    },
    {
     "data": {
      "application/vnd.jupyter.widget-view+json": {
       "model_id": "39f17f4fffba4d2ebd5282717f8dc917",
       "version_major": 2,
       "version_minor": 0
      },
      "text/plain": [
       "Executing:   0%|          | 0/9 [00:00<?, ?cell/s]"
      ]
     },
     "metadata": {},
     "output_type": "display_data"
    },
    {
     "data": {
      "application/vnd.jupyter.widget-view+json": {
       "model_id": "dd59cea379214b4c91f2494dd6b634fe",
       "version_major": 2,
       "version_minor": 0
      },
      "text/plain": [
       "Executing:   0%|          | 0/9 [00:00<?, ?cell/s]"
      ]
     },
     "metadata": {},
     "output_type": "display_data"
    },
    {
     "data": {
      "application/vnd.jupyter.widget-view+json": {
       "model_id": "b4407f285eae4eb39bc961577c483a1d",
       "version_major": 2,
       "version_minor": 0
      },
      "text/plain": [
       "Executing:   0%|          | 0/9 [00:00<?, ?cell/s]"
      ]
     },
     "metadata": {},
     "output_type": "display_data"
    },
    {
     "data": {
      "application/vnd.jupyter.widget-view+json": {
       "model_id": "1ed3010720ef4869a14eb7155433663f",
       "version_major": 2,
       "version_minor": 0
      },
      "text/plain": [
       "Executing:   0%|          | 0/9 [00:00<?, ?cell/s]"
      ]
     },
     "metadata": {},
     "output_type": "display_data"
    },
    {
     "data": {
      "application/vnd.jupyter.widget-view+json": {
       "model_id": "fa168ef066b9412d8cf8b43e580288b3",
       "version_major": 2,
       "version_minor": 0
      },
      "text/plain": [
       "Executing:   0%|          | 0/9 [00:00<?, ?cell/s]"
      ]
     },
     "metadata": {},
     "output_type": "display_data"
    },
    {
     "data": {
      "application/vnd.jupyter.widget-view+json": {
       "model_id": "0c21d92febdf494da979d4c09e0b7f2e",
       "version_major": 2,
       "version_minor": 0
      },
      "text/plain": [
       "Executing:   0%|          | 0/9 [00:00<?, ?cell/s]"
      ]
     },
     "metadata": {},
     "output_type": "display_data"
    },
    {
     "data": {
      "application/vnd.jupyter.widget-view+json": {
       "model_id": "a6fd5efff45440eb886adab289c53374",
       "version_major": 2,
       "version_minor": 0
      },
      "text/plain": [
       "Executing:   0%|          | 0/9 [00:00<?, ?cell/s]"
      ]
     },
     "metadata": {},
     "output_type": "display_data"
    }
   ],
   "source": [
    "parameters = (batch_sizes, sizes, threads)\n",
    "total = functools.reduce(operator.mul, tuple(len(p) for p in parameters))\n",
    "\n",
    "for batch_size, size, threads in tqdm(itertools.product(*parameters), total=total):\n",
    "    pm.execute_notebook(\n",
    "        \"fft2_benchmarks_template.ipynb\",\n",
    "        f\"reports/fft2_benchmarks_report-batch_size={batch_size}-size={size}-threads={threads}.ipynb\",\n",
    "        parameters=dict(batch_size=batch_size, size=size, threads=threads),\n",
    "    )"
   ]
  }
 ],
 "metadata": {
  "kernelspec": {
   "display_name": "abtem-dask",
   "language": "python",
   "name": "abtem-dask"
  },
  "language_info": {
   "codemirror_mode": {
    "name": "ipython",
    "version": 3
   },
   "file_extension": ".py",
   "mimetype": "text/x-python",
   "name": "python",
   "nbconvert_exporter": "python",
   "pygments_lexer": "ipython3",
   "version": "3.10.8"
  },
  "widgets": {
   "application/vnd.jupyter.widget-state+json": {
    "state": {
     "003ffec7434747ad97f13de378a2d8e4": {
      "model_module": "@jupyter-widgets/base",
      "model_module_version": "2.0.0",
      "model_name": "LayoutModel",
      "state": {}
     },
     "0071e3bf61fc473b98a337c000940874": {
      "model_module": "@jupyter-widgets/base",
      "model_module_version": "2.0.0",
      "model_name": "LayoutModel",
      "state": {}
     },
     "0101f09322c24b6cbcabb315218dffed": {
      "model_module": "@jupyter-widgets/base",
      "model_module_version": "2.0.0",
      "model_name": "LayoutModel",
      "state": {}
     },
     "011ffdf778004cbbaf146e09bc68b5c2": {
      "model_module": "@jupyter-widgets/base",
      "model_module_version": "2.0.0",
      "model_name": "LayoutModel",
      "state": {}
     },
     "01322588150241efab6b579c3f191dd8": {
      "model_module": "@jupyter-widgets/controls",
      "model_module_version": "2.0.0",
      "model_name": "HTMLStyleModel",
      "state": {
       "description_width": "",
       "font_size": null,
       "text_color": null
      }
     },
     "013f4555f735441aa32b11ff486c861f": {
      "model_module": "@jupyter-widgets/base",
      "model_module_version": "2.0.0",
      "model_name": "LayoutModel",
      "state": {}
     },
     "0185647edded4cd4b7b442d896a47c85": {
      "model_module": "@jupyter-widgets/controls",
      "model_module_version": "2.0.0",
      "model_name": "ProgressStyleModel",
      "state": {
       "description_width": ""
      }
     },
     "01a25ce269b44bf980e4be01d1d5c987": {
      "model_module": "@jupyter-widgets/controls",
      "model_module_version": "2.0.0",
      "model_name": "ProgressStyleModel",
      "state": {
       "description_width": ""
      }
     },
     "020abe8f5a5840b89f8f3b4ad47bca70": {
      "model_module": "@jupyter-widgets/base",
      "model_module_version": "2.0.0",
      "model_name": "LayoutModel",
      "state": {}
     },
     "02155c3c35604dc3a1fd0c5ffb8bbd0d": {
      "model_module": "@jupyter-widgets/controls",
      "model_module_version": "2.0.0",
      "model_name": "HTMLStyleModel",
      "state": {
       "description_width": "",
       "font_size": null,
       "text_color": null
      }
     },
     "022c199cb4c644009607c42326df531a": {
      "model_module": "@jupyter-widgets/base",
      "model_module_version": "2.0.0",
      "model_name": "LayoutModel",
      "state": {}
     },
     "0235d11806be4f1ab020c005d06f3fe2": {
      "model_module": "@jupyter-widgets/base",
      "model_module_version": "2.0.0",
      "model_name": "LayoutModel",
      "state": {}
     },
     "02ed249b7c204b4887462ce176d53154": {
      "model_module": "@jupyter-widgets/base",
      "model_module_version": "2.0.0",
      "model_name": "LayoutModel",
      "state": {}
     },
     "03102f160d9446f2afd87fff8e9aeb88": {
      "model_module": "@jupyter-widgets/controls",
      "model_module_version": "2.0.0",
      "model_name": "HTMLModel",
      "state": {
       "layout": "IPY_MODEL_90db59a5bac54ebf97ca065646f36658",
       "style": "IPY_MODEL_abbd0b1cc94e478d86d9c5d67eaf95da",
       "value": "Executing: 100%"
      }
     },
     "03210f895cd6408f816ce45d8a055849": {
      "model_module": "@jupyter-widgets/controls",
      "model_module_version": "2.0.0",
      "model_name": "FloatProgressModel",
      "state": {
       "bar_style": "success",
       "layout": "IPY_MODEL_020abe8f5a5840b89f8f3b4ad47bca70",
       "max": 9,
       "style": "IPY_MODEL_cc6def6781a7452c81217cf4f42c25eb",
       "value": 9
      }
     },
     "036b37ecc61c4e69a683a483d1e0f7c6": {
      "model_module": "@jupyter-widgets/controls",
      "model_module_version": "2.0.0",
      "model_name": "HTMLStyleModel",
      "state": {
       "description_width": "",
       "font_size": null,
       "text_color": null
      }
     },
     "037efb65db784aac98e98d31611bd990": {
      "model_module": "@jupyter-widgets/controls",
      "model_module_version": "2.0.0",
      "model_name": "ProgressStyleModel",
      "state": {
       "description_width": ""
      }
     },
     "0396e67ffdef4afba9f9586fb8bba60b": {
      "model_module": "@jupyter-widgets/base",
      "model_module_version": "2.0.0",
      "model_name": "LayoutModel",
      "state": {}
     },
     "03977957ebde4fb0a4070323126cb973": {
      "model_module": "@jupyter-widgets/controls",
      "model_module_version": "2.0.0",
      "model_name": "ProgressStyleModel",
      "state": {
       "description_width": ""
      }
     },
     "053a100210ed4a6ab16b8ad401f49f0e": {
      "model_module": "@jupyter-widgets/base",
      "model_module_version": "2.0.0",
      "model_name": "LayoutModel",
      "state": {}
     },
     "057e90efc9754f94974c9ae357056ee1": {
      "model_module": "@jupyter-widgets/base",
      "model_module_version": "2.0.0",
      "model_name": "LayoutModel",
      "state": {}
     },
     "058f82287ba7457197c1d9ec4e80ac9c": {
      "model_module": "@jupyter-widgets/controls",
      "model_module_version": "2.0.0",
      "model_name": "HTMLModel",
      "state": {
       "layout": "IPY_MODEL_0a14a55ef4fa4339afdbc9d9f320b324",
       "style": "IPY_MODEL_fe673f882c784b3c9f9aaf3c74d7681f",
       "value": "Executing: 100%"
      }
     },
     "05fb690872534f6fa50308dc96b25660": {
      "model_module": "@jupyter-widgets/controls",
      "model_module_version": "2.0.0",
      "model_name": "FloatProgressModel",
      "state": {
       "bar_style": "success",
       "layout": "IPY_MODEL_72700fd68bda4d22a94039cded62ea82",
       "max": 9,
       "style": "IPY_MODEL_9e185295441b4b5a9cfc0adc53acb634",
       "value": 9
      }
     },
     "06042ffae2ff4400904a16713894f3a7": {
      "model_module": "@jupyter-widgets/controls",
      "model_module_version": "2.0.0",
      "model_name": "HBoxModel",
      "state": {
       "children": [
        "IPY_MODEL_1f35b7a552344698ba829e8475d4692a",
        "IPY_MODEL_1712f2aad67747a0afbb0eb6e5496684",
        "IPY_MODEL_dd493582e17549daaac68ad88979e9a2"
       ],
       "layout": "IPY_MODEL_ea745d467d684587afb1cbeeb1af8d6e"
      }
     },
     "063a3a8c322b4db5b39190f47cc5f872": {
      "model_module": "@jupyter-widgets/controls",
      "model_module_version": "2.0.0",
      "model_name": "HTMLModel",
      "state": {
       "layout": "IPY_MODEL_f8b92d4029aa4c47af5ded1481c15180",
       "style": "IPY_MODEL_d4200cf6c685499cb87e9242031ac779",
       "value": "Executing: 100%"
      }
     },
     "06dce1180f8545d0acd4404f4977334f": {
      "model_module": "@jupyter-widgets/base",
      "model_module_version": "2.0.0",
      "model_name": "LayoutModel",
      "state": {}
     },
     "0727fd8299174b6cbfec6ef065f9a3e3": {
      "model_module": "@jupyter-widgets/controls",
      "model_module_version": "2.0.0",
      "model_name": "ProgressStyleModel",
      "state": {
       "description_width": ""
      }
     },
     "08570e2021dd4276a56331ac356074d1": {
      "model_module": "@jupyter-widgets/controls",
      "model_module_version": "2.0.0",
      "model_name": "HTMLModel",
      "state": {
       "layout": "IPY_MODEL_95ab75fb3f0c49548a82b30f266f54ef",
       "style": "IPY_MODEL_e8c4a341615d45acb043a6e4567f66cd",
       "value": " 9/9 [00:28&lt;00:00,  3.30s/cell]"
      }
     },
     "08782582b5304f59a781acb87a7363cd": {
      "model_module": "@jupyter-widgets/base",
      "model_module_version": "2.0.0",
      "model_name": "LayoutModel",
      "state": {}
     },
     "087a15586ec84ef0946c3acc5a1c0f9b": {
      "model_module": "@jupyter-widgets/controls",
      "model_module_version": "2.0.0",
      "model_name": "HTMLModel",
      "state": {
       "layout": "IPY_MODEL_a3bd7629077e4a5c885af6f6fe2befd9",
       "style": "IPY_MODEL_2b8fc66af39f46fbbebd1ad41c78f24b",
       "value": " 9/9 [00:13&lt;00:00,  1.41s/cell]"
      }
     },
     "08936dfb61b64f0fae51166380771548": {
      "model_module": "@jupyter-widgets/base",
      "model_module_version": "2.0.0",
      "model_name": "LayoutModel",
      "state": {}
     },
     "09cd4435b7c2427e8bc33af028539abe": {
      "model_module": "@jupyter-widgets/base",
      "model_module_version": "2.0.0",
      "model_name": "LayoutModel",
      "state": {}
     },
     "0a14a55ef4fa4339afdbc9d9f320b324": {
      "model_module": "@jupyter-widgets/base",
      "model_module_version": "2.0.0",
      "model_name": "LayoutModel",
      "state": {}
     },
     "0a95d0cbc352475faf287cd7c49e667d": {
      "model_module": "@jupyter-widgets/base",
      "model_module_version": "2.0.0",
      "model_name": "LayoutModel",
      "state": {}
     },
     "0ac28d05b0ea460d947f6e2b39448dfa": {
      "model_module": "@jupyter-widgets/controls",
      "model_module_version": "2.0.0",
      "model_name": "HTMLModel",
      "state": {
       "layout": "IPY_MODEL_7b7d6f66759a4d4fbd5836269950e291",
       "style": "IPY_MODEL_15fe0543c1ca40dbb3e5105b4a4e301e",
       "value": " 9/9 [00:27&lt;00:00,  3.67s/cell]"
      }
     },
     "0aee059872854b0394c8e593895d0d1d": {
      "model_module": "@jupyter-widgets/controls",
      "model_module_version": "2.0.0",
      "model_name": "FloatProgressModel",
      "state": {
       "bar_style": "success",
       "layout": "IPY_MODEL_724b4be191214ae59779bacd7c59c2c4",
       "max": 9,
       "style": "IPY_MODEL_43e46786939a46fcb76b76cc479052d1",
       "value": 9
      }
     },
     "0b2461c8543f44ffb83a0a49f28fe933": {
      "model_module": "@jupyter-widgets/controls",
      "model_module_version": "2.0.0",
      "model_name": "ProgressStyleModel",
      "state": {
       "description_width": ""
      }
     },
     "0b8c8802775e4b3fa420853a75bbe9c8": {
      "model_module": "@jupyter-widgets/controls",
      "model_module_version": "2.0.0",
      "model_name": "HTMLModel",
      "state": {
       "layout": "IPY_MODEL_0396e67ffdef4afba9f9586fb8bba60b",
       "style": "IPY_MODEL_909d4e02a20842b885f2b93ff511a0ca",
       "value": " 9/9 [00:20&lt;00:00,  2.21s/cell]"
      }
     },
     "0c21d92febdf494da979d4c09e0b7f2e": {
      "model_module": "@jupyter-widgets/controls",
      "model_module_version": "2.0.0",
      "model_name": "HBoxModel",
      "state": {
       "children": [
        "IPY_MODEL_ae20c4a1842c4cf5ab068b075b3bac90",
        "IPY_MODEL_b6e7a7db6ad44f7ba30129ab46a4b22b",
        "IPY_MODEL_c7036db7fa614aaba546861e32e5019a"
       ],
       "layout": "IPY_MODEL_dcb46157cca64c949262759ac8e2c8d6"
      }
     },
     "0c4bd75b9b364aafa5d9ae8c1002d5d0": {
      "model_module": "@jupyter-widgets/controls",
      "model_module_version": "2.0.0",
      "model_name": "ProgressStyleModel",
      "state": {
       "description_width": ""
      }
     },
     "0cfac57560a048de8b88b33ed584356e": {
      "model_module": "@jupyter-widgets/controls",
      "model_module_version": "2.0.0",
      "model_name": "HBoxModel",
      "state": {
       "children": [
        "IPY_MODEL_03102f160d9446f2afd87fff8e9aeb88",
        "IPY_MODEL_5d3315c5d471446b893407497b36b611",
        "IPY_MODEL_3756b0f4a5ac4e6c8816e048c2e38e66"
       ],
       "layout": "IPY_MODEL_af9a402e7de8473db00b21a2074bf566"
      }
     },
     "0cff69cebb43497490aca36a0ea4ba5e": {
      "model_module": "@jupyter-widgets/controls",
      "model_module_version": "2.0.0",
      "model_name": "HTMLModel",
      "state": {
       "layout": "IPY_MODEL_e128065f340548e08309656dc863daeb",
       "style": "IPY_MODEL_8f7743f562c0490c99e7ef4c220544ea",
       "value": " 9/9 [00:20&lt;00:00,  2.46s/cell]"
      }
     },
     "0d630fe80c0a4880bae63d2f26fbe4a2": {
      "model_module": "@jupyter-widgets/base",
      "model_module_version": "2.0.0",
      "model_name": "LayoutModel",
      "state": {}
     },
     "0db4de825d5a43d696ccb73a2fb1e3bc": {
      "model_module": "@jupyter-widgets/controls",
      "model_module_version": "2.0.0",
      "model_name": "HTMLStyleModel",
      "state": {
       "description_width": "",
       "font_size": null,
       "text_color": null
      }
     },
     "0dc9f318d5514168a072f5b4970e7b53": {
      "model_module": "@jupyter-widgets/controls",
      "model_module_version": "2.0.0",
      "model_name": "HBoxModel",
      "state": {
       "children": [
        "IPY_MODEL_c2fe21fe73dd4abc8fe3fd2f458d5081",
        "IPY_MODEL_4f68f57db77f473f91902fb84b2e524d",
        "IPY_MODEL_d0eac22470e04c309c5e429dbe685277"
       ],
       "layout": "IPY_MODEL_f525eb5c0e1c4e0097101e4c07e78a06"
      }
     },
     "0e6cafbf0a864f9eacbdc4d21b25009e": {
      "model_module": "@jupyter-widgets/controls",
      "model_module_version": "2.0.0",
      "model_name": "HTMLStyleModel",
      "state": {
       "description_width": "",
       "font_size": null,
       "text_color": null
      }
     },
     "0ed4bc19262149fb81ddb8962e3c3467": {
      "model_module": "@jupyter-widgets/controls",
      "model_module_version": "2.0.0",
      "model_name": "HTMLStyleModel",
      "state": {
       "description_width": "",
       "font_size": null,
       "text_color": null
      }
     },
     "0eebfd0ef288476bbc58a19081bbb445": {
      "model_module": "@jupyter-widgets/controls",
      "model_module_version": "2.0.0",
      "model_name": "HBoxModel",
      "state": {
       "children": [
        "IPY_MODEL_828cf1492a1a4197b995ed1c31cbc050",
        "IPY_MODEL_7763af00ba3d4327af925f893165e13a",
        "IPY_MODEL_e253d327c96e43768bb894777744d2e1"
       ],
       "layout": "IPY_MODEL_656e390fba324ff2a679203083dadab2"
      }
     },
     "1027495d4ec240d49a793e1ead45cbc9": {
      "model_module": "@jupyter-widgets/base",
      "model_module_version": "2.0.0",
      "model_name": "LayoutModel",
      "state": {}
     },
     "10c153a213364ad7959f47516848575e": {
      "model_module": "@jupyter-widgets/base",
      "model_module_version": "2.0.0",
      "model_name": "LayoutModel",
      "state": {}
     },
     "110189d9669a43929b5788e549ad60cc": {
      "model_module": "@jupyter-widgets/controls",
      "model_module_version": "2.0.0",
      "model_name": "FloatProgressModel",
      "state": {
       "bar_style": "success",
       "layout": "IPY_MODEL_2a1ca7f99eb8405ca48d496ec6352538",
       "max": 9,
       "style": "IPY_MODEL_ea9f5949cb3448df97782e08e00bcf47",
       "value": 9
      }
     },
     "120f50485ad54f7d8183ef37250c90d6": {
      "model_module": "@jupyter-widgets/controls",
      "model_module_version": "2.0.0",
      "model_name": "HTMLStyleModel",
      "state": {
       "description_width": "",
       "font_size": null,
       "text_color": null
      }
     },
     "123d47a3616c4bb38fc04d1daa24e2a0": {
      "model_module": "@jupyter-widgets/base",
      "model_module_version": "2.0.0",
      "model_name": "LayoutModel",
      "state": {}
     },
     "12824ccd84c24154876b1ea50ec24f74": {
      "model_module": "@jupyter-widgets/controls",
      "model_module_version": "2.0.0",
      "model_name": "HTMLModel",
      "state": {
       "layout": "IPY_MODEL_0101f09322c24b6cbcabb315218dffed",
       "style": "IPY_MODEL_2f821ce4cff7407a8183ec23835c0a1c",
       "value": "Executing: 100%"
      }
     },
     "12838ff6c70e4c27a343f87380d85a6d": {
      "model_module": "@jupyter-widgets/base",
      "model_module_version": "2.0.0",
      "model_name": "LayoutModel",
      "state": {}
     },
     "129fc024f8a04728855c5bda644ba0fe": {
      "model_module": "@jupyter-widgets/controls",
      "model_module_version": "2.0.0",
      "model_name": "HBoxModel",
      "state": {
       "children": [
        "IPY_MODEL_14a359ce4ded4d0b8b44914df4c34481",
        "IPY_MODEL_c15bfd1060f14db0817dac732c9f3995",
        "IPY_MODEL_de463c41d5554b41b0b3c15b9a60b019"
       ],
       "layout": "IPY_MODEL_5336321fbbaf4b9eb875ebc833450268"
      }
     },
     "12a3909ae4e24e139b886cd6a1a673ec": {
      "model_module": "@jupyter-widgets/base",
      "model_module_version": "2.0.0",
      "model_name": "LayoutModel",
      "state": {}
     },
     "13500e932a1f4703818ca124a43015a5": {
      "model_module": "@jupyter-widgets/controls",
      "model_module_version": "2.0.0",
      "model_name": "ProgressStyleModel",
      "state": {
       "description_width": ""
      }
     },
     "13b159cf6fe94a64b9f09fa02a2371d7": {
      "model_module": "@jupyter-widgets/controls",
      "model_module_version": "2.0.0",
      "model_name": "HTMLModel",
      "state": {
       "layout": "IPY_MODEL_2ecaed3cb7ab4b898286f10dd2035452",
       "style": "IPY_MODEL_c4e24fbcbc7b437f86ea816b697f739e",
       "value": "Executing: 100%"
      }
     },
     "14120d6c75bc4d989d1f1dbe21e274e8": {
      "model_module": "@jupyter-widgets/base",
      "model_module_version": "2.0.0",
      "model_name": "LayoutModel",
      "state": {}
     },
     "1492dfb890d5476588ea0c524b2f1d21": {
      "model_module": "@jupyter-widgets/controls",
      "model_module_version": "2.0.0",
      "model_name": "HTMLStyleModel",
      "state": {
       "description_width": "",
       "font_size": null,
       "text_color": null
      }
     },
     "14a359ce4ded4d0b8b44914df4c34481": {
      "model_module": "@jupyter-widgets/controls",
      "model_module_version": "2.0.0",
      "model_name": "HTMLModel",
      "state": {
       "layout": "IPY_MODEL_1027495d4ec240d49a793e1ead45cbc9",
       "style": "IPY_MODEL_57ef7c32b9d94786b3d2398baf1ee9c9",
       "value": "Executing: 100%"
      }
     },
     "14b46f1c7fe74cbcb295fdd0133e0ad5": {
      "model_module": "@jupyter-widgets/base",
      "model_module_version": "2.0.0",
      "model_name": "LayoutModel",
      "state": {}
     },
     "1533b74c73194d188efd069a21b47eef": {
      "model_module": "@jupyter-widgets/base",
      "model_module_version": "2.0.0",
      "model_name": "LayoutModel",
      "state": {}
     },
     "1547e1421d1947e19e012c55af63ec72": {
      "model_module": "@jupyter-widgets/base",
      "model_module_version": "2.0.0",
      "model_name": "LayoutModel",
      "state": {}
     },
     "15fe0543c1ca40dbb3e5105b4a4e301e": {
      "model_module": "@jupyter-widgets/controls",
      "model_module_version": "2.0.0",
      "model_name": "HTMLStyleModel",
      "state": {
       "description_width": "",
       "font_size": null,
       "text_color": null
      }
     },
     "161d952d8dd0480e9f16e4ddb0e61e42": {
      "model_module": "@jupyter-widgets/controls",
      "model_module_version": "2.0.0",
      "model_name": "ProgressStyleModel",
      "state": {
       "description_width": ""
      }
     },
     "1628b68e38fa459b812f6b632f593131": {
      "model_module": "@jupyter-widgets/controls",
      "model_module_version": "2.0.0",
      "model_name": "HTMLStyleModel",
      "state": {
       "description_width": "",
       "font_size": null,
       "text_color": null
      }
     },
     "16b3eaff07bf419b9fc9d7ae18103b70": {
      "model_module": "@jupyter-widgets/controls",
      "model_module_version": "2.0.0",
      "model_name": "HTMLModel",
      "state": {
       "layout": "IPY_MODEL_b3763ecbc39a4b699e4b37ff68a4a0d9",
       "style": "IPY_MODEL_e0726f67b75241ef90ef3388174db5f9",
       "value": " 9/9 [00:29&lt;00:00,  3.55s/cell]"
      }
     },
     "1712f2aad67747a0afbb0eb6e5496684": {
      "model_module": "@jupyter-widgets/controls",
      "model_module_version": "2.0.0",
      "model_name": "FloatProgressModel",
      "state": {
       "bar_style": "success",
       "layout": "IPY_MODEL_d280e529b5ac46398db4020789c2674c",
       "max": 9,
       "style": "IPY_MODEL_3d2656aef9c24639a0ceb8a13f6bc08d",
       "value": 9
      }
     },
     "17837decaa484bee81248bc304666a92": {
      "model_module": "@jupyter-widgets/controls",
      "model_module_version": "2.0.0",
      "model_name": "FloatProgressModel",
      "state": {
       "bar_style": "success",
       "layout": "IPY_MODEL_94436da6b90646b78b3a97594000075b",
       "max": 9,
       "style": "IPY_MODEL_798557a71a9a44749b3b44d8f38fa328",
       "value": 9
      }
     },
     "17939df8bb304e15aa7ba4ae365189fc": {
      "model_module": "@jupyter-widgets/base",
      "model_module_version": "2.0.0",
      "model_name": "LayoutModel",
      "state": {}
     },
     "183ddd2e6b3c4eb8895e75e160aa05c6": {
      "model_module": "@jupyter-widgets/base",
      "model_module_version": "2.0.0",
      "model_name": "LayoutModel",
      "state": {}
     },
     "18d3fee5e13d4fb09d46613aed31213c": {
      "model_module": "@jupyter-widgets/controls",
      "model_module_version": "2.0.0",
      "model_name": "HTMLStyleModel",
      "state": {
       "description_width": "",
       "font_size": null,
       "text_color": null
      }
     },
     "1912322e72744c27aa847ba65fcd7797": {
      "model_module": "@jupyter-widgets/controls",
      "model_module_version": "2.0.0",
      "model_name": "HTMLModel",
      "state": {
       "layout": "IPY_MODEL_8ec34654ff7a49979172040096be71e0",
       "style": "IPY_MODEL_25546104c2714d93bae394509802b9dc",
       "value": "Executing: 100%"
      }
     },
     "1a27bed6bb7d47628e3eca2c76a55e48": {
      "model_module": "@jupyter-widgets/controls",
      "model_module_version": "2.0.0",
      "model_name": "HTMLStyleModel",
      "state": {
       "description_width": "",
       "font_size": null,
       "text_color": null
      }
     },
     "1a612738966e4a4f839e73d7c195ce87": {
      "model_module": "@jupyter-widgets/controls",
      "model_module_version": "2.0.0",
      "model_name": "HTMLStyleModel",
      "state": {
       "description_width": "",
       "font_size": null,
       "text_color": null
      }
     },
     "1a69aa3b363a48228eeb890fa9f9c4ca": {
      "model_module": "@jupyter-widgets/base",
      "model_module_version": "2.0.0",
      "model_name": "LayoutModel",
      "state": {}
     },
     "1a74d58397fc491dbfc408474a476c61": {
      "model_module": "@jupyter-widgets/controls",
      "model_module_version": "2.0.0",
      "model_name": "FloatProgressModel",
      "state": {
       "bar_style": "success",
       "layout": "IPY_MODEL_7aac76dcf13b4efabdaa4644f5d04760",
       "max": 9,
       "style": "IPY_MODEL_f9e0343cdf314aa7b2790dbc874aeaff",
       "value": 9
      }
     },
     "1a7da5b9441b4ef6b3e2a615d1ae168f": {
      "model_module": "@jupyter-widgets/base",
      "model_module_version": "2.0.0",
      "model_name": "LayoutModel",
      "state": {}
     },
     "1a8b8ae93eac4bf5b7b7948baaf9f7c9": {
      "model_module": "@jupyter-widgets/controls",
      "model_module_version": "2.0.0",
      "model_name": "HTMLStyleModel",
      "state": {
       "description_width": "",
       "font_size": null,
       "text_color": null
      }
     },
     "1ad5413a699a4480b8803b61f523f5ac": {
      "model_module": "@jupyter-widgets/controls",
      "model_module_version": "2.0.0",
      "model_name": "HTMLModel",
      "state": {
       "layout": "IPY_MODEL_ed95b0273ae94e31a4e5dea9a9bf11ef",
       "style": "IPY_MODEL_8a02dc5ec82443809068d4933523517a",
       "value": " 9/9 [00:24&lt;00:00,  2.63s/cell]"
      }
     },
     "1b08aa33d452439ebb966ed33c6f26cf": {
      "model_module": "@jupyter-widgets/controls",
      "model_module_version": "2.0.0",
      "model_name": "HBoxModel",
      "state": {
       "children": [
        "IPY_MODEL_ae4f9aae4a6341f68f5a0a458e3d3e9f",
        "IPY_MODEL_379c384e54a0459085fb184602ba81da",
        "IPY_MODEL_8fd8722a772645eb91cd7c2ef9104b0d"
       ],
       "layout": "IPY_MODEL_4a6761ac20174fc3adeaaf300f577b45"
      }
     },
     "1bbab123aef94dcfb208f186a3b500e5": {
      "model_module": "@jupyter-widgets/controls",
      "model_module_version": "2.0.0",
      "model_name": "HTMLModel",
      "state": {
       "layout": "IPY_MODEL_4df9f19249e849d38841d97c8aa30a41",
       "style": "IPY_MODEL_3d9d92c70ee94aae8f0ae0a6e33cf0d2",
       "value": "Executing: 100%"
      }
     },
     "1bcacf3018434c7692907c965eabf400": {
      "model_module": "@jupyter-widgets/controls",
      "model_module_version": "2.0.0",
      "model_name": "FloatProgressModel",
      "state": {
       "bar_style": "success",
       "layout": "IPY_MODEL_bfec000c2d0a45358087763f55630671",
       "max": 9,
       "style": "IPY_MODEL_8b0e95d306c54697b49e398fdff87bbd",
       "value": 9
      }
     },
     "1bdf8dd9153f48f68ad66542e47a8cdf": {
      "model_module": "@jupyter-widgets/controls",
      "model_module_version": "2.0.0",
      "model_name": "HTMLModel",
      "state": {
       "layout": "IPY_MODEL_d9d11f19fa2645a68c03c913f50fa4dc",
       "style": "IPY_MODEL_204673e0e4cc4981a1f7c1dcdfef9720",
       "value": " 9/9 [00:31&lt;00:00,  3.69s/cell]"
      }
     },
     "1ca15017636f41d3b19408a33cfd2359": {
      "model_module": "@jupyter-widgets/controls",
      "model_module_version": "2.0.0",
      "model_name": "HTMLStyleModel",
      "state": {
       "description_width": "",
       "font_size": null,
       "text_color": null
      }
     },
     "1cad0522bbe64725b3f790b62928cfc9": {
      "model_module": "@jupyter-widgets/controls",
      "model_module_version": "2.0.0",
      "model_name": "HBoxModel",
      "state": {
       "children": [
        "IPY_MODEL_7903e5831d0e4b9aa2e7f07ffd0ea74c",
        "IPY_MODEL_17837decaa484bee81248bc304666a92",
        "IPY_MODEL_f55e30f33cb94c7fbafc8062a76529fb"
       ],
       "layout": "IPY_MODEL_9bee48b116784a7691faa77afea3234b"
      }
     },
     "1d1c011d0cc44b9cb133a53223c431e8": {
      "model_module": "@jupyter-widgets/controls",
      "model_module_version": "2.0.0",
      "model_name": "HTMLStyleModel",
      "state": {
       "description_width": "",
       "font_size": null,
       "text_color": null
      }
     },
     "1d2c9672e8ed4148a9242cdf85b4f67e": {
      "model_module": "@jupyter-widgets/controls",
      "model_module_version": "2.0.0",
      "model_name": "HTMLModel",
      "state": {
       "layout": "IPY_MODEL_942d375462fd44b893097189b3b5cf24",
       "style": "IPY_MODEL_667c1c5ffbc7463f92c895c3b9ef0860",
       "value": " 12%"
      }
     },
     "1d69d7e1fa5a40f0a0a34c68127e609b": {
      "model_module": "@jupyter-widgets/base",
      "model_module_version": "2.0.0",
      "model_name": "LayoutModel",
      "state": {}
     },
     "1e1642609ec44971a2b1dfe563ba3c5d": {
      "model_module": "@jupyter-widgets/controls",
      "model_module_version": "2.0.0",
      "model_name": "HTMLStyleModel",
      "state": {
       "description_width": "",
       "font_size": null,
       "text_color": null
      }
     },
     "1e5e2eea96e641cb959fed7700c1a508": {
      "model_module": "@jupyter-widgets/controls",
      "model_module_version": "2.0.0",
      "model_name": "HTMLModel",
      "state": {
       "layout": "IPY_MODEL_12838ff6c70e4c27a343f87380d85a6d",
       "style": "IPY_MODEL_73b903a6c9054dcea04a2185ce4c4fba",
       "value": " 9/9 [00:22&lt;00:00,  2.86s/cell]"
      }
     },
     "1e649c54ac1b44e8aa6dcae95fce102b": {
      "model_module": "@jupyter-widgets/base",
      "model_module_version": "2.0.0",
      "model_name": "LayoutModel",
      "state": {}
     },
     "1ed3010720ef4869a14eb7155433663f": {
      "model_module": "@jupyter-widgets/controls",
      "model_module_version": "2.0.0",
      "model_name": "HBoxModel",
      "state": {
       "children": [
        "IPY_MODEL_13b159cf6fe94a64b9f09fa02a2371d7",
        "IPY_MODEL_c51e6080c3e1492493fcc2f6e24982b4",
        "IPY_MODEL_b32d88794e25455ba5032e3d61d5fa55"
       ],
       "layout": "IPY_MODEL_45d807ab2ff74498a9aef1e2fb93f81a"
      }
     },
     "1f35b7a552344698ba829e8475d4692a": {
      "model_module": "@jupyter-widgets/controls",
      "model_module_version": "2.0.0",
      "model_name": "HTMLModel",
      "state": {
       "layout": "IPY_MODEL_6e39e027723b463fa4e7daa6f46c6860",
       "style": "IPY_MODEL_50d1c20b06994a769483a610e9d2f6aa",
       "value": "Executing: 100%"
      }
     },
     "1fb17c0d90074b96bfefb6352dbd6b29": {
      "model_module": "@jupyter-widgets/controls",
      "model_module_version": "2.0.0",
      "model_name": "HTMLStyleModel",
      "state": {
       "description_width": "",
       "font_size": null,
       "text_color": null
      }
     },
     "204673e0e4cc4981a1f7c1dcdfef9720": {
      "model_module": "@jupyter-widgets/controls",
      "model_module_version": "2.0.0",
      "model_name": "HTMLStyleModel",
      "state": {
       "description_width": "",
       "font_size": null,
       "text_color": null
      }
     },
     "20ca38961d134d8ba616101553217320": {
      "model_module": "@jupyter-widgets/controls",
      "model_module_version": "2.0.0",
      "model_name": "HTMLModel",
      "state": {
       "layout": "IPY_MODEL_b020d91edb644e62be18e7ab87ce438d",
       "style": "IPY_MODEL_b6b69767804c4409885f5ab5d0098fc7",
       "value": " 9/9 [00:17&lt;00:00,  2.05s/cell]"
      }
     },
     "2127be068455487992c74e28ae2356f4": {
      "model_module": "@jupyter-widgets/controls",
      "model_module_version": "2.0.0",
      "model_name": "ProgressStyleModel",
      "state": {
       "description_width": ""
      }
     },
     "215ffddc6f1d42a7ad11bade2c622f9c": {
      "model_module": "@jupyter-widgets/controls",
      "model_module_version": "2.0.0",
      "model_name": "HTMLModel",
      "state": {
       "layout": "IPY_MODEL_7cf97b15435a4d1c833180d8c00ba105",
       "style": "IPY_MODEL_a9d0677f6952430ab47fe22be07d2ef2",
       "value": "Executing: 100%"
      }
     },
     "21863d22ff9842a2bb7a19317d2b072f": {
      "model_module": "@jupyter-widgets/controls",
      "model_module_version": "2.0.0",
      "model_name": "HTMLStyleModel",
      "state": {
       "description_width": "",
       "font_size": null,
       "text_color": null
      }
     },
     "2218588bfe214bd8b0b7d6fa2e8df4a3": {
      "model_module": "@jupyter-widgets/base",
      "model_module_version": "2.0.0",
      "model_name": "LayoutModel",
      "state": {}
     },
     "226cf39bf33f45b780b0bd6ae8c58dab": {
      "model_module": "@jupyter-widgets/base",
      "model_module_version": "2.0.0",
      "model_name": "LayoutModel",
      "state": {}
     },
     "22f2a7f63cfd4808b929a08a756a40c7": {
      "model_module": "@jupyter-widgets/controls",
      "model_module_version": "2.0.0",
      "model_name": "HTMLStyleModel",
      "state": {
       "description_width": "",
       "font_size": null,
       "text_color": null
      }
     },
     "242dc11bbbd545e59acd77cd4f334a56": {
      "model_module": "@jupyter-widgets/base",
      "model_module_version": "2.0.0",
      "model_name": "LayoutModel",
      "state": {}
     },
     "24693dd31d5d445587b49092c65497ec": {
      "model_module": "@jupyter-widgets/controls",
      "model_module_version": "2.0.0",
      "model_name": "HTMLModel",
      "state": {
       "layout": "IPY_MODEL_7337273dd10043ff963f8b4b3cbfc868",
       "style": "IPY_MODEL_27a8631f28544eb3bd95c4b1a133a017",
       "value": "Executing: 100%"
      }
     },
     "24acc4ab6a224c33b1285a5adb66b7f8": {
      "model_module": "@jupyter-widgets/controls",
      "model_module_version": "2.0.0",
      "model_name": "HTMLModel",
      "state": {
       "layout": "IPY_MODEL_f156673d15b24efab9c607af4594c10e",
       "style": "IPY_MODEL_3e06ef343814465ba3a3e88dc9f1d3bc",
       "value": " 9/9 [00:26&lt;00:00,  3.20s/cell]"
      }
     },
     "24bce5886e364dbfb7db6e2353d90617": {
      "model_module": "@jupyter-widgets/controls",
      "model_module_version": "2.0.0",
      "model_name": "ProgressStyleModel",
      "state": {
       "description_width": ""
      }
     },
     "251447425569428bb73551b0deb4c888": {
      "model_module": "@jupyter-widgets/controls",
      "model_module_version": "2.0.0",
      "model_name": "HTMLModel",
      "state": {
       "layout": "IPY_MODEL_2ae533d645fd4a5f805e893c17b0cc33",
       "style": "IPY_MODEL_21863d22ff9842a2bb7a19317d2b072f",
       "value": " 9/9 [00:15&lt;00:00,  1.63s/cell]"
      }
     },
     "25546104c2714d93bae394509802b9dc": {
      "model_module": "@jupyter-widgets/controls",
      "model_module_version": "2.0.0",
      "model_name": "HTMLStyleModel",
      "state": {
       "description_width": "",
       "font_size": null,
       "text_color": null
      }
     },
     "257619313214477a87f0351df445d988": {
      "model_module": "@jupyter-widgets/base",
      "model_module_version": "2.0.0",
      "model_name": "LayoutModel",
      "state": {}
     },
     "25cd39842a97482c8e2ae7538141ad51": {
      "model_module": "@jupyter-widgets/controls",
      "model_module_version": "2.0.0",
      "model_name": "HBoxModel",
      "state": {
       "children": [
        "IPY_MODEL_215ffddc6f1d42a7ad11bade2c622f9c",
        "IPY_MODEL_cfb7129cf02f4182ac178a28ad0ca4f0",
        "IPY_MODEL_251447425569428bb73551b0deb4c888"
       ],
       "layout": "IPY_MODEL_1a69aa3b363a48228eeb890fa9f9c4ca"
      }
     },
     "25d3cc67eb45448ca3d07486880cd44e": {
      "model_module": "@jupyter-widgets/controls",
      "model_module_version": "2.0.0",
      "model_name": "FloatProgressModel",
      "state": {
       "bar_style": "success",
       "layout": "IPY_MODEL_de9bb6df982149438481089c00280bf8",
       "max": 9,
       "style": "IPY_MODEL_3bd397e761384c47b688ac8df2acc094",
       "value": 9
      }
     },
     "25eca04a3a6c4e56b07f871249421a57": {
      "model_module": "@jupyter-widgets/base",
      "model_module_version": "2.0.0",
      "model_name": "LayoutModel",
      "state": {}
     },
     "2622ac41e6284a278fa981633237bfe6": {
      "model_module": "@jupyter-widgets/controls",
      "model_module_version": "2.0.0",
      "model_name": "HTMLStyleModel",
      "state": {
       "description_width": "",
       "font_size": null,
       "text_color": null
      }
     },
     "26ed5072ed3d49efa787a43bb5c177e8": {
      "model_module": "@jupyter-widgets/base",
      "model_module_version": "2.0.0",
      "model_name": "LayoutModel",
      "state": {}
     },
     "276846810add412d9b080d6d6061dbfc": {
      "model_module": "@jupyter-widgets/controls",
      "model_module_version": "2.0.0",
      "model_name": "HBoxModel",
      "state": {
       "children": [
        "IPY_MODEL_df5d089c33cb431198a3297f8187c46e",
        "IPY_MODEL_df094fbfdb2a46518fc5bbbb6884eb23",
        "IPY_MODEL_d391442f10ec49f2bdc2304f1a79e8ec"
       ],
       "layout": "IPY_MODEL_ba93545faf784371bb88b9537ef909ff"
      }
     },
     "278a4d3a428841098118cfa79bade345": {
      "model_module": "@jupyter-widgets/controls",
      "model_module_version": "2.0.0",
      "model_name": "HBoxModel",
      "state": {
       "children": [
        "IPY_MODEL_063a3a8c322b4db5b39190f47cc5f872",
        "IPY_MODEL_64c5dd6750a942d1a7d19ee5e3ae5171",
        "IPY_MODEL_e287aff9800643068d36ca6c9b4cf08f"
       ],
       "layout": "IPY_MODEL_9b83abb04df84444854a9403a1d73755"
      }
     },
     "27a8631f28544eb3bd95c4b1a133a017": {
      "model_module": "@jupyter-widgets/controls",
      "model_module_version": "2.0.0",
      "model_name": "HTMLStyleModel",
      "state": {
       "description_width": "",
       "font_size": null,
       "text_color": null
      }
     },
     "28765ce57ada497c8416ce916d413111": {
      "model_module": "@jupyter-widgets/base",
      "model_module_version": "2.0.0",
      "model_name": "LayoutModel",
      "state": {}
     },
     "28ab392384454ec58a6d6b3e7553c00b": {
      "model_module": "@jupyter-widgets/base",
      "model_module_version": "2.0.0",
      "model_name": "LayoutModel",
      "state": {}
     },
     "291cb6b2ff554d528366208e38ea7abc": {
      "model_module": "@jupyter-widgets/controls",
      "model_module_version": "2.0.0",
      "model_name": "FloatProgressModel",
      "state": {
       "bar_style": "success",
       "layout": "IPY_MODEL_4a5e5bb7d0964ef7ae48454d85a72a5f",
       "max": 9,
       "style": "IPY_MODEL_6688df0f8f9e4084b33fcd6e4f7909c8",
       "value": 9
      }
     },
     "2934abc39d1f42839fe5ae6d9d30fc3c": {
      "model_module": "@jupyter-widgets/base",
      "model_module_version": "2.0.0",
      "model_name": "LayoutModel",
      "state": {}
     },
     "2936c6c938bb4b65ac12c5fe4204f444": {
      "model_module": "@jupyter-widgets/controls",
      "model_module_version": "2.0.0",
      "model_name": "HTMLStyleModel",
      "state": {
       "description_width": "",
       "font_size": null,
       "text_color": null
      }
     },
     "2a1ca7f99eb8405ca48d496ec6352538": {
      "model_module": "@jupyter-widgets/base",
      "model_module_version": "2.0.0",
      "model_name": "LayoutModel",
      "state": {}
     },
     "2aa5037fb7fd486a81b6b9ffe998a23b": {
      "model_module": "@jupyter-widgets/controls",
      "model_module_version": "2.0.0",
      "model_name": "HTMLStyleModel",
      "state": {
       "description_width": "",
       "font_size": null,
       "text_color": null
      }
     },
     "2aabf77cdfe84747b4407ada2db4289a": {
      "model_module": "@jupyter-widgets/base",
      "model_module_version": "2.0.0",
      "model_name": "LayoutModel",
      "state": {}
     },
     "2ab141a8988c4088980f93fec977cce7": {
      "model_module": "@jupyter-widgets/controls",
      "model_module_version": "2.0.0",
      "model_name": "HTMLStyleModel",
      "state": {
       "description_width": "",
       "font_size": null,
       "text_color": null
      }
     },
     "2ade1593202b4f83aaf356dba938df3d": {
      "model_module": "@jupyter-widgets/controls",
      "model_module_version": "2.0.0",
      "model_name": "HTMLStyleModel",
      "state": {
       "description_width": "",
       "font_size": null,
       "text_color": null
      }
     },
     "2ae533d645fd4a5f805e893c17b0cc33": {
      "model_module": "@jupyter-widgets/base",
      "model_module_version": "2.0.0",
      "model_name": "LayoutModel",
      "state": {}
     },
     "2b0b403c40cf468795ac6db88427e4e9": {
      "model_module": "@jupyter-widgets/controls",
      "model_module_version": "2.0.0",
      "model_name": "ProgressStyleModel",
      "state": {
       "description_width": ""
      }
     },
     "2b6917dae40c408ba306fb884ac553c7": {
      "model_module": "@jupyter-widgets/base",
      "model_module_version": "2.0.0",
      "model_name": "LayoutModel",
      "state": {}
     },
     "2b8176b68168448a8683289af2dd9274": {
      "model_module": "@jupyter-widgets/base",
      "model_module_version": "2.0.0",
      "model_name": "LayoutModel",
      "state": {}
     },
     "2b8fc66af39f46fbbebd1ad41c78f24b": {
      "model_module": "@jupyter-widgets/controls",
      "model_module_version": "2.0.0",
      "model_name": "HTMLStyleModel",
      "state": {
       "description_width": "",
       "font_size": null,
       "text_color": null
      }
     },
     "2bb79ed41bee45849fa4eaf10d8f90bf": {
      "model_module": "@jupyter-widgets/base",
      "model_module_version": "2.0.0",
      "model_name": "LayoutModel",
      "state": {}
     },
     "2bed831558a14f0181f27abcb662c39d": {
      "model_module": "@jupyter-widgets/controls",
      "model_module_version": "2.0.0",
      "model_name": "ProgressStyleModel",
      "state": {
       "description_width": ""
      }
     },
     "2c01bd35d233431ca32c925bbdcc1fe6": {
      "model_module": "@jupyter-widgets/controls",
      "model_module_version": "2.0.0",
      "model_name": "HTMLModel",
      "state": {
       "layout": "IPY_MODEL_a80d74bb3ff543dba9a5945898866b6f",
       "style": "IPY_MODEL_b34f89b649b64efbbe3ca32d4fce3884",
       "value": "Executing: 100%"
      }
     },
     "2cb40363b86746e58339593708010955": {
      "model_module": "@jupyter-widgets/base",
      "model_module_version": "2.0.0",
      "model_name": "LayoutModel",
      "state": {}
     },
     "2cefc6148a8f4cac9ef6b18d5bceaf7f": {
      "model_module": "@jupyter-widgets/controls",
      "model_module_version": "2.0.0",
      "model_name": "HTMLModel",
      "state": {
       "layout": "IPY_MODEL_76dcebb81f6f4c919736af7a002ed954",
       "style": "IPY_MODEL_1628b68e38fa459b812f6b632f593131",
       "value": "Executing: 100%"
      }
     },
     "2dc5e6e6553d4f838d4a5cfb8eba0009": {
      "model_module": "@jupyter-widgets/base",
      "model_module_version": "2.0.0",
      "model_name": "LayoutModel",
      "state": {}
     },
     "2dde2c7e6aba483ca04bd83d9f60a87e": {
      "model_module": "@jupyter-widgets/controls",
      "model_module_version": "2.0.0",
      "model_name": "HTMLStyleModel",
      "state": {
       "description_width": "",
       "font_size": null,
       "text_color": null
      }
     },
     "2de689efb4ce455b803a842d7f6cd9c3": {
      "model_module": "@jupyter-widgets/base",
      "model_module_version": "2.0.0",
      "model_name": "LayoutModel",
      "state": {}
     },
     "2e2e3bb3fb0746e0bb3b434e32eb06dc": {
      "model_module": "@jupyter-widgets/controls",
      "model_module_version": "2.0.0",
      "model_name": "HTMLStyleModel",
      "state": {
       "description_width": "",
       "font_size": null,
       "text_color": null
      }
     },
     "2ecaed3cb7ab4b898286f10dd2035452": {
      "model_module": "@jupyter-widgets/base",
      "model_module_version": "2.0.0",
      "model_name": "LayoutModel",
      "state": {}
     },
     "2ecc2eb5461b48b8a1c8a8d337db780f": {
      "model_module": "@jupyter-widgets/base",
      "model_module_version": "2.0.0",
      "model_name": "LayoutModel",
      "state": {}
     },
     "2f163ed3b3c944bd8d6e978d3ab81ff7": {
      "model_module": "@jupyter-widgets/controls",
      "model_module_version": "2.0.0",
      "model_name": "HTMLStyleModel",
      "state": {
       "description_width": "",
       "font_size": null,
       "text_color": null
      }
     },
     "2f625003b98e496c9fe58323683e7e65": {
      "model_module": "@jupyter-widgets/base",
      "model_module_version": "2.0.0",
      "model_name": "LayoutModel",
      "state": {}
     },
     "2f821ce4cff7407a8183ec23835c0a1c": {
      "model_module": "@jupyter-widgets/controls",
      "model_module_version": "2.0.0",
      "model_name": "HTMLStyleModel",
      "state": {
       "description_width": "",
       "font_size": null,
       "text_color": null
      }
     },
     "2f95ab0bb7904378ac589f9c27f68aa5": {
      "model_module": "@jupyter-widgets/controls",
      "model_module_version": "2.0.0",
      "model_name": "HTMLModel",
      "state": {
       "layout": "IPY_MODEL_64ed67cc310c4f3f8e32ac4bb6f3d9cf",
       "style": "IPY_MODEL_60de423f26e544129c60388bddda71a9",
       "value": " 9/9 [00:16&lt;00:00,  1.72s/cell]"
      }
     },
     "2fa27eea892d47168e96d879f7f88bfd": {
      "model_module": "@jupyter-widgets/controls",
      "model_module_version": "2.0.0",
      "model_name": "ProgressStyleModel",
      "state": {
       "description_width": ""
      }
     },
     "2fb642edb7a1462bb984b134bb1b8690": {
      "model_module": "@jupyter-widgets/base",
      "model_module_version": "2.0.0",
      "model_name": "LayoutModel",
      "state": {}
     },
     "3018ff6d14a34044a4c2702d6a42c0db": {
      "model_module": "@jupyter-widgets/controls",
      "model_module_version": "2.0.0",
      "model_name": "HBoxModel",
      "state": {
       "children": [
        "IPY_MODEL_2cefc6148a8f4cac9ef6b18d5bceaf7f",
        "IPY_MODEL_be4e5445abbb4161aca5b2e7d8fabfd0",
        "IPY_MODEL_856e74a13c614c59ae48883b22ebc477"
       ],
       "layout": "IPY_MODEL_003ffec7434747ad97f13de378a2d8e4"
      }
     },
     "30339098f18c4723afca3176cda67799": {
      "model_module": "@jupyter-widgets/controls",
      "model_module_version": "2.0.0",
      "model_name": "HTMLStyleModel",
      "state": {
       "description_width": "",
       "font_size": null,
       "text_color": null
      }
     },
     "3103cf590eb9459aa6fbb390344bf294": {
      "model_module": "@jupyter-widgets/controls",
      "model_module_version": "2.0.0",
      "model_name": "HTMLStyleModel",
      "state": {
       "description_width": "",
       "font_size": null,
       "text_color": null
      }
     },
     "3173a8a26e5f48519f942d452aa94140": {
      "model_module": "@jupyter-widgets/controls",
      "model_module_version": "2.0.0",
      "model_name": "HTMLStyleModel",
      "state": {
       "description_width": "",
       "font_size": null,
       "text_color": null
      }
     },
     "31e425a76882401ca507295a3b7aaeea": {
      "model_module": "@jupyter-widgets/controls",
      "model_module_version": "2.0.0",
      "model_name": "HTMLStyleModel",
      "state": {
       "description_width": "",
       "font_size": null,
       "text_color": null
      }
     },
     "326c21a6124945c5b599c0ab3c488ba5": {
      "model_module": "@jupyter-widgets/controls",
      "model_module_version": "2.0.0",
      "model_name": "HTMLModel",
      "state": {
       "layout": "IPY_MODEL_0071e3bf61fc473b98a337c000940874",
       "style": "IPY_MODEL_b728b258214944ff9c63c5f5019d66d1",
       "value": " 9/9 [00:15&lt;00:00,  1.62s/cell]"
      }
     },
     "32888038ec4e460997e63e900e41dfac": {
      "model_module": "@jupyter-widgets/controls",
      "model_module_version": "2.0.0",
      "model_name": "HTMLModel",
      "state": {
       "layout": "IPY_MODEL_6fc751f0f9a8448cb03833106fa98d2a",
       "style": "IPY_MODEL_d2a79df06c644f22a8306d1ad94392d4",
       "value": " 9/9 [00:13&lt;00:00,  1.35s/cell]"
      }
     },
     "33460f5f3b6548e1b2b47307da0483cd": {
      "model_module": "@jupyter-widgets/controls",
      "model_module_version": "2.0.0",
      "model_name": "HTMLModel",
      "state": {
       "layout": "IPY_MODEL_f4ff33d021684273b51b7ad3e1e57a2a",
       "style": "IPY_MODEL_689f578a1e0447bf9cff888644ef435a",
       "value": "Executing: 100%"
      }
     },
     "335f17cafdb642fba9f7277d3aa41a33": {
      "model_module": "@jupyter-widgets/base",
      "model_module_version": "2.0.0",
      "model_name": "LayoutModel",
      "state": {}
     },
     "33ad6ac511bd42ec8e6e1cd5587499e2": {
      "model_module": "@jupyter-widgets/controls",
      "model_module_version": "2.0.0",
      "model_name": "HTMLModel",
      "state": {
       "layout": "IPY_MODEL_8b5d0054443d47f78573892d50fb4463",
       "style": "IPY_MODEL_4bcfcead35b44e57b446df53d4d792e7",
       "value": " 9/9 [00:14&lt;00:00,  1.55s/cell]"
      }
     },
     "33e4b6f2fb2340dd97a898ce2c33401e": {
      "model_module": "@jupyter-widgets/base",
      "model_module_version": "2.0.0",
      "model_name": "LayoutModel",
      "state": {}
     },
     "33f8116a27624601b2fb461002bdc4a9": {
      "model_module": "@jupyter-widgets/controls",
      "model_module_version": "2.0.0",
      "model_name": "HTMLModel",
      "state": {
       "layout": "IPY_MODEL_b1ce5b49f2ab40209e5de4955d898fe8",
       "style": "IPY_MODEL_4b33ca205a494587bca3db30fd643a7c",
       "value": "Executing: 100%"
      }
     },
     "3455afb3464d4a5dae13da41a055d377": {
      "model_module": "@jupyter-widgets/base",
      "model_module_version": "2.0.0",
      "model_name": "LayoutModel",
      "state": {}
     },
     "354b555b37ee486b95ba4f3e6bb2f6fc": {
      "model_module": "@jupyter-widgets/controls",
      "model_module_version": "2.0.0",
      "model_name": "ProgressStyleModel",
      "state": {
       "description_width": ""
      }
     },
     "35aa177280fe44f0901bffcad21ef2cc": {
      "model_module": "@jupyter-widgets/controls",
      "model_module_version": "2.0.0",
      "model_name": "ProgressStyleModel",
      "state": {
       "description_width": ""
      }
     },
     "35bf1aabb644405395765c22a1e4dcd8": {
      "model_module": "@jupyter-widgets/controls",
      "model_module_version": "2.0.0",
      "model_name": "HTMLStyleModel",
      "state": {
       "description_width": "",
       "font_size": null,
       "text_color": null
      }
     },
     "3655f4ebbd3c47e5a4a9f70673a5597d": {
      "model_module": "@jupyter-widgets/base",
      "model_module_version": "2.0.0",
      "model_name": "LayoutModel",
      "state": {}
     },
     "368a9d533d9e4b49b7411413fd1e8eb0": {
      "model_module": "@jupyter-widgets/controls",
      "model_module_version": "2.0.0",
      "model_name": "FloatProgressModel",
      "state": {
       "bar_style": "success",
       "layout": "IPY_MODEL_a9964076331e40c6b5abd7e13a9be717",
       "max": 9,
       "style": "IPY_MODEL_2b0b403c40cf468795ac6db88427e4e9",
       "value": 9
      }
     },
     "3727f528280f44d380bb73217e91eebd": {
      "model_module": "@jupyter-widgets/controls",
      "model_module_version": "2.0.0",
      "model_name": "FloatProgressModel",
      "state": {
       "bar_style": "danger",
       "layout": "IPY_MODEL_fa5083e454b24b6191234b454901eecb",
       "max": 16,
       "style": "IPY_MODEL_24bce5886e364dbfb7db6e2353d90617",
       "value": 2
      }
     },
     "3756b0f4a5ac4e6c8816e048c2e38e66": {
      "model_module": "@jupyter-widgets/controls",
      "model_module_version": "2.0.0",
      "model_name": "HTMLModel",
      "state": {
       "layout": "IPY_MODEL_b9d1b4579a2b45e6add5882c05f71e89",
       "style": "IPY_MODEL_84f4c718a6094165a2e2755adf0d4856",
       "value": " 9/9 [00:21&lt;00:00,  2.42s/cell]"
      }
     },
     "379c384e54a0459085fb184602ba81da": {
      "model_module": "@jupyter-widgets/controls",
      "model_module_version": "2.0.0",
      "model_name": "FloatProgressModel",
      "state": {
       "bar_style": "success",
       "layout": "IPY_MODEL_013f4555f735441aa32b11ff486c861f",
       "max": 9,
       "style": "IPY_MODEL_037efb65db784aac98e98d31611bd990",
       "value": 9
      }
     },
     "3821b27fbd6f443b882ce00ebf8f0b10": {
      "model_module": "@jupyter-widgets/base",
      "model_module_version": "2.0.0",
      "model_name": "LayoutModel",
      "state": {}
     },
     "383e314a40114540b6c242928a459b99": {
      "model_module": "@jupyter-widgets/base",
      "model_module_version": "2.0.0",
      "model_name": "LayoutModel",
      "state": {}
     },
     "3968317e20f6429da0f3d7b93c0eb800": {
      "model_module": "@jupyter-widgets/base",
      "model_module_version": "2.0.0",
      "model_name": "LayoutModel",
      "state": {}
     },
     "3969f40e6e0f41468b0fcb514117693e": {
      "model_module": "@jupyter-widgets/controls",
      "model_module_version": "2.0.0",
      "model_name": "ProgressStyleModel",
      "state": {
       "description_width": ""
      }
     },
     "39f17f4fffba4d2ebd5282717f8dc917": {
      "model_module": "@jupyter-widgets/controls",
      "model_module_version": "2.0.0",
      "model_name": "HBoxModel",
      "state": {
       "children": [
        "IPY_MODEL_57184bad516a4ce482e6f5da6c319c16",
        "IPY_MODEL_b7a8e7aa806b4f76b57a66050f8df4a5",
        "IPY_MODEL_b943b18e29794e66b280b7aa4717d759"
       ],
       "layout": "IPY_MODEL_f2d8566093384d11a7e73bc63e4a51ee"
      }
     },
     "3a0e050f96ff464f83ed4a6e35906e62": {
      "model_module": "@jupyter-widgets/controls",
      "model_module_version": "2.0.0",
      "model_name": "HTMLModel",
      "state": {
       "layout": "IPY_MODEL_c04d4aac2fdd47859eaa7e7f8edc1ccb",
       "style": "IPY_MODEL_0e6cafbf0a864f9eacbdc4d21b25009e",
       "value": "Executing: 100%"
      }
     },
     "3a62fff6a8a84a54ad72521dc535a059": {
      "model_module": "@jupyter-widgets/controls",
      "model_module_version": "2.0.0",
      "model_name": "HTMLModel",
      "state": {
       "layout": "IPY_MODEL_6fda38cf8a954898a3e7fa1515fe9b14",
       "style": "IPY_MODEL_22f2a7f63cfd4808b929a08a756a40c7",
       "value": "Executing: 100%"
      }
     },
     "3a9d57605f6b499aaae7bf1d86b2fa23": {
      "model_module": "@jupyter-widgets/base",
      "model_module_version": "2.0.0",
      "model_name": "LayoutModel",
      "state": {}
     },
     "3ae63a60c38c42f5830d788da9dde9be": {
      "model_module": "@jupyter-widgets/base",
      "model_module_version": "2.0.0",
      "model_name": "LayoutModel",
      "state": {}
     },
     "3aec036e57af4b13bcb25a2622a1aa01": {
      "model_module": "@jupyter-widgets/controls",
      "model_module_version": "2.0.0",
      "model_name": "HBoxModel",
      "state": {
       "children": [
        "IPY_MODEL_2c01bd35d233431ca32c925bbdcc1fe6",
        "IPY_MODEL_368a9d533d9e4b49b7411413fd1e8eb0",
        "IPY_MODEL_83021f24f02f4dfa9aa3196a91c79fa0"
       ],
       "layout": "IPY_MODEL_55763d098f3946aa96874faaedb579fd"
      }
     },
     "3b493152593449308a4f02fed5a88e57": {
      "model_module": "@jupyter-widgets/controls",
      "model_module_version": "2.0.0",
      "model_name": "HTMLStyleModel",
      "state": {
       "description_width": "",
       "font_size": null,
       "text_color": null
      }
     },
     "3b9a2fde7f3c489299ef08ae5260bfc8": {
      "model_module": "@jupyter-widgets/base",
      "model_module_version": "2.0.0",
      "model_name": "LayoutModel",
      "state": {}
     },
     "3bd397e761384c47b688ac8df2acc094": {
      "model_module": "@jupyter-widgets/controls",
      "model_module_version": "2.0.0",
      "model_name": "ProgressStyleModel",
      "state": {
       "description_width": ""
      }
     },
     "3c6ef026eca9496e81e938373cea1a29": {
      "model_module": "@jupyter-widgets/controls",
      "model_module_version": "2.0.0",
      "model_name": "HTMLModel",
      "state": {
       "layout": "IPY_MODEL_40618e750c6b41159ced1caad0d68cc4",
       "style": "IPY_MODEL_5b7307934c194068b0dd1893712d044f",
       "value": " 9/9 [00:14&lt;00:00,  1.49s/cell]"
      }
     },
     "3d170843ba184dbeb43a4ec2ea77381a": {
      "model_module": "@jupyter-widgets/controls",
      "model_module_version": "2.0.0",
      "model_name": "HTMLModel",
      "state": {
       "layout": "IPY_MODEL_e3fa65928e6d4e5ab5e649dc7f2dbbc6",
       "style": "IPY_MODEL_2dde2c7e6aba483ca04bd83d9f60a87e",
       "value": "Executing: 100%"
      }
     },
     "3d2656aef9c24639a0ceb8a13f6bc08d": {
      "model_module": "@jupyter-widgets/controls",
      "model_module_version": "2.0.0",
      "model_name": "ProgressStyleModel",
      "state": {
       "description_width": ""
      }
     },
     "3d9d92c70ee94aae8f0ae0a6e33cf0d2": {
      "model_module": "@jupyter-widgets/controls",
      "model_module_version": "2.0.0",
      "model_name": "HTMLStyleModel",
      "state": {
       "description_width": "",
       "font_size": null,
       "text_color": null
      }
     },
     "3e06ef343814465ba3a3e88dc9f1d3bc": {
      "model_module": "@jupyter-widgets/controls",
      "model_module_version": "2.0.0",
      "model_name": "HTMLStyleModel",
      "state": {
       "description_width": "",
       "font_size": null,
       "text_color": null
      }
     },
     "3efc9e365ac94ee38b387c23182c6a94": {
      "model_module": "@jupyter-widgets/base",
      "model_module_version": "2.0.0",
      "model_name": "LayoutModel",
      "state": {}
     },
     "3f6c310c01e744d8890aa34183f4f7de": {
      "model_module": "@jupyter-widgets/base",
      "model_module_version": "2.0.0",
      "model_name": "LayoutModel",
      "state": {}
     },
     "3ff34ff70e2448238ef89457f4c9efb2": {
      "model_module": "@jupyter-widgets/controls",
      "model_module_version": "2.0.0",
      "model_name": "HTMLStyleModel",
      "state": {
       "description_width": "",
       "font_size": null,
       "text_color": null
      }
     },
     "404303c46a224b6e8fa6bfbe5e28310e": {
      "model_module": "@jupyter-widgets/controls",
      "model_module_version": "2.0.0",
      "model_name": "HTMLStyleModel",
      "state": {
       "description_width": "",
       "font_size": null,
       "text_color": null
      }
     },
     "40618e750c6b41159ced1caad0d68cc4": {
      "model_module": "@jupyter-widgets/base",
      "model_module_version": "2.0.0",
      "model_name": "LayoutModel",
      "state": {}
     },
     "407097d804eb422d8e3745e3368dce9e": {
      "model_module": "@jupyter-widgets/base",
      "model_module_version": "2.0.0",
      "model_name": "LayoutModel",
      "state": {}
     },
     "408c6c6f382048f8990db5e8d04325a4": {
      "model_module": "@jupyter-widgets/base",
      "model_module_version": "2.0.0",
      "model_name": "LayoutModel",
      "state": {}
     },
     "42a1d3209b9b4570804c370c06364cd0": {
      "model_module": "@jupyter-widgets/controls",
      "model_module_version": "2.0.0",
      "model_name": "HTMLStyleModel",
      "state": {
       "description_width": "",
       "font_size": null,
       "text_color": null
      }
     },
     "43e46786939a46fcb76b76cc479052d1": {
      "model_module": "@jupyter-widgets/controls",
      "model_module_version": "2.0.0",
      "model_name": "ProgressStyleModel",
      "state": {
       "description_width": ""
      }
     },
     "44373fdac407451794610d7de571d15e": {
      "model_module": "@jupyter-widgets/controls",
      "model_module_version": "2.0.0",
      "model_name": "HTMLStyleModel",
      "state": {
       "description_width": "",
       "font_size": null,
       "text_color": null
      }
     },
     "44464c49b5214c83aabf8e0ba3bad42c": {
      "model_module": "@jupyter-widgets/controls",
      "model_module_version": "2.0.0",
      "model_name": "HBoxModel",
      "state": {
       "children": [
        "IPY_MODEL_daa20e8aceb14a358b889f0ca75e614c",
        "IPY_MODEL_a9635fe1b95f4833bfb99b6e5cf0cfcc",
        "IPY_MODEL_c3dabbd20c85479b922a0db42ebb12f9"
       ],
       "layout": "IPY_MODEL_b108f0d7f5d64c2bb492e32021a895a1"
      }
     },
     "44842430723c440a94c42c6025284b0f": {
      "model_module": "@jupyter-widgets/base",
      "model_module_version": "2.0.0",
      "model_name": "LayoutModel",
      "state": {}
     },
     "454be62cee7d4e23a6095d3a5893734b": {
      "model_module": "@jupyter-widgets/controls",
      "model_module_version": "2.0.0",
      "model_name": "FloatProgressModel",
      "state": {
       "bar_style": "danger",
       "layout": "IPY_MODEL_7128e3a6667249438c3bcfaccc20bd07",
       "max": 64,
       "style": "IPY_MODEL_c89470349cfe4cdb9e35d14efcea999c"
      }
     },
     "45c69bee22d348d4a411f9854d6f659b": {
      "model_module": "@jupyter-widgets/base",
      "model_module_version": "2.0.0",
      "model_name": "LayoutModel",
      "state": {}
     },
     "45d807ab2ff74498a9aef1e2fb93f81a": {
      "model_module": "@jupyter-widgets/base",
      "model_module_version": "2.0.0",
      "model_name": "LayoutModel",
      "state": {}
     },
     "464c12e214554369bc37dad26c77baf8": {
      "model_module": "@jupyter-widgets/base",
      "model_module_version": "2.0.0",
      "model_name": "LayoutModel",
      "state": {}
     },
     "47270b5a39b64fa58ac1dcc28a7634b9": {
      "model_module": "@jupyter-widgets/controls",
      "model_module_version": "2.0.0",
      "model_name": "HBoxModel",
      "state": {
       "children": [
        "IPY_MODEL_facccc3e3fc84c23a9554441cc392212",
        "IPY_MODEL_bd7288463e9a4df8a455838bb7163309",
        "IPY_MODEL_c3951e0d51ff49dca08aa0fea9a58402"
       ],
       "layout": "IPY_MODEL_2218588bfe214bd8b0b7d6fa2e8df4a3"
      }
     },
     "477c1eb7edef451485eb116097c77513": {
      "model_module": "@jupyter-widgets/base",
      "model_module_version": "2.0.0",
      "model_name": "LayoutModel",
      "state": {}
     },
     "47f0a448e6b94971a536c430fb77d983": {
      "model_module": "@jupyter-widgets/base",
      "model_module_version": "2.0.0",
      "model_name": "LayoutModel",
      "state": {}
     },
     "482b6064fd61404795b7eec766b9e186": {
      "model_module": "@jupyter-widgets/controls",
      "model_module_version": "2.0.0",
      "model_name": "ProgressStyleModel",
      "state": {
       "description_width": ""
      }
     },
     "48b7f90e307846979097f4f660acec3d": {
      "model_module": "@jupyter-widgets/controls",
      "model_module_version": "2.0.0",
      "model_name": "ProgressStyleModel",
      "state": {
       "description_width": ""
      }
     },
     "4a5e5bb7d0964ef7ae48454d85a72a5f": {
      "model_module": "@jupyter-widgets/base",
      "model_module_version": "2.0.0",
      "model_name": "LayoutModel",
      "state": {}
     },
     "4a5ee619c45c4a9abeffe576e890f475": {
      "model_module": "@jupyter-widgets/base",
      "model_module_version": "2.0.0",
      "model_name": "LayoutModel",
      "state": {}
     },
     "4a6761ac20174fc3adeaaf300f577b45": {
      "model_module": "@jupyter-widgets/base",
      "model_module_version": "2.0.0",
      "model_name": "LayoutModel",
      "state": {}
     },
     "4a9237e1755744dd9683a61a3fdaa1db": {
      "model_module": "@jupyter-widgets/controls",
      "model_module_version": "2.0.0",
      "model_name": "HBoxModel",
      "state": {
       "children": [
        "IPY_MODEL_d0252802a13e441a98b55d7655169d86",
        "IPY_MODEL_e1c2b6ce04344d3fa51952f77aeb2a3e",
        "IPY_MODEL_fd3eaafbe4c748e388ace5ba6e34c251"
       ],
       "layout": "IPY_MODEL_ae84bc99af0b4c37a7a24c84b07322b8"
      }
     },
     "4b2fe6ba98ac40a3b6009ee91427752e": {
      "model_module": "@jupyter-widgets/base",
      "model_module_version": "2.0.0",
      "model_name": "LayoutModel",
      "state": {}
     },
     "4b33ca205a494587bca3db30fd643a7c": {
      "model_module": "@jupyter-widgets/controls",
      "model_module_version": "2.0.0",
      "model_name": "HTMLStyleModel",
      "state": {
       "description_width": "",
       "font_size": null,
       "text_color": null
      }
     },
     "4bcfcead35b44e57b446df53d4d792e7": {
      "model_module": "@jupyter-widgets/controls",
      "model_module_version": "2.0.0",
      "model_name": "HTMLStyleModel",
      "state": {
       "description_width": "",
       "font_size": null,
       "text_color": null
      }
     },
     "4c035657462b4da6a6875856ab7d36a8": {
      "model_module": "@jupyter-widgets/controls",
      "model_module_version": "2.0.0",
      "model_name": "HTMLStyleModel",
      "state": {
       "description_width": "",
       "font_size": null,
       "text_color": null
      }
     },
     "4c41da0ac0464a44bb83f5552fb26f4a": {
      "model_module": "@jupyter-widgets/controls",
      "model_module_version": "2.0.0",
      "model_name": "HBoxModel",
      "state": {
       "children": [
        "IPY_MODEL_74d38a4944c349578ea25086688a405f",
        "IPY_MODEL_cfe79e351cc640a3b99a22937c22c638",
        "IPY_MODEL_baa9c07deed54cdaaf4733ac4eb8c4d3"
       ],
       "layout": "IPY_MODEL_383e314a40114540b6c242928a459b99"
      }
     },
     "4cad378ab9784b41a5ca3c3c479b42f2": {
      "model_module": "@jupyter-widgets/controls",
      "model_module_version": "2.0.0",
      "model_name": "HTMLStyleModel",
      "state": {
       "description_width": "",
       "font_size": null,
       "text_color": null
      }
     },
     "4d21f0e330bc46eb9b2ed9b62b571ac2": {
      "model_module": "@jupyter-widgets/base",
      "model_module_version": "2.0.0",
      "model_name": "LayoutModel",
      "state": {}
     },
     "4d237722b0ea41b2a99ecb3c90f08b9c": {
      "model_module": "@jupyter-widgets/controls",
      "model_module_version": "2.0.0",
      "model_name": "ProgressStyleModel",
      "state": {
       "description_width": ""
      }
     },
     "4db76a037f2b4cb6b997fdb6ebe73faf": {
      "model_module": "@jupyter-widgets/base",
      "model_module_version": "2.0.0",
      "model_name": "LayoutModel",
      "state": {}
     },
     "4df551f541c742f2b082da72327c58bc": {
      "model_module": "@jupyter-widgets/controls",
      "model_module_version": "2.0.0",
      "model_name": "HBoxModel",
      "state": {
       "children": [
        "IPY_MODEL_90026cb9e3cb46f4a231764259511e4c",
        "IPY_MODEL_9d2cdf490cad477f9e5c12d5dd072352",
        "IPY_MODEL_e005845f545948b196a52d54ffe7dcf3"
       ],
       "layout": "IPY_MODEL_55673297dcda4f7284890235d92a6879"
      }
     },
     "4df9f19249e849d38841d97c8aa30a41": {
      "model_module": "@jupyter-widgets/base",
      "model_module_version": "2.0.0",
      "model_name": "LayoutModel",
      "state": {}
     },
     "4e61e2aa9488415ca6a93945b70ed735": {
      "model_module": "@jupyter-widgets/base",
      "model_module_version": "2.0.0",
      "model_name": "LayoutModel",
      "state": {}
     },
     "4eb582a093af40348076ab72b66457e2": {
      "model_module": "@jupyter-widgets/controls",
      "model_module_version": "2.0.0",
      "model_name": "FloatProgressModel",
      "state": {
       "bar_style": "success",
       "layout": "IPY_MODEL_f487843c7a1a498395d6525a9168f477",
       "max": 9,
       "style": "IPY_MODEL_0b2461c8543f44ffb83a0a49f28fe933",
       "value": 9
      }
     },
     "4ec90007e0cd4b48a92d20f633b9a31d": {
      "model_module": "@jupyter-widgets/base",
      "model_module_version": "2.0.0",
      "model_name": "LayoutModel",
      "state": {}
     },
     "4ee0f3314e324dcdbe5ffde30d2f6115": {
      "model_module": "@jupyter-widgets/controls",
      "model_module_version": "2.0.0",
      "model_name": "FloatProgressModel",
      "state": {
       "bar_style": "success",
       "layout": "IPY_MODEL_9ad2548c56e14099adf6db1bb2023723",
       "max": 9,
       "style": "IPY_MODEL_c2acd41b52d34fda8700100a47e93786",
       "value": 9
      }
     },
     "4f68f57db77f473f91902fb84b2e524d": {
      "model_module": "@jupyter-widgets/controls",
      "model_module_version": "2.0.0",
      "model_name": "FloatProgressModel",
      "state": {
       "bar_style": "success",
       "layout": "IPY_MODEL_a90242aad6e14e2295d643d15413a1ed",
       "max": 64,
       "style": "IPY_MODEL_61353371e53c4bc799f9a092bfe7e941",
       "value": 64
      }
     },
     "4f7433d089024adda640a00b53cb8bc0": {
      "model_module": "@jupyter-widgets/controls",
      "model_module_version": "2.0.0",
      "model_name": "FloatProgressModel",
      "state": {
       "bar_style": "success",
       "layout": "IPY_MODEL_1533b74c73194d188efd069a21b47eef",
       "max": 9,
       "style": "IPY_MODEL_b29446779d4b4a3ea628d6911d0ba78a",
       "value": 9
      }
     },
     "4fa6a059b2384bef8e14193efa3c4056": {
      "model_module": "@jupyter-widgets/controls",
      "model_module_version": "2.0.0",
      "model_name": "HTMLStyleModel",
      "state": {
       "description_width": "",
       "font_size": null,
       "text_color": null
      }
     },
     "4fd5b69aba3f4d35840bcad4f1f2f5af": {
      "model_module": "@jupyter-widgets/base",
      "model_module_version": "2.0.0",
      "model_name": "LayoutModel",
      "state": {}
     },
     "5088f782a638461ba13d5dabf8903b36": {
      "model_module": "@jupyter-widgets/controls",
      "model_module_version": "2.0.0",
      "model_name": "HTMLStyleModel",
      "state": {
       "description_width": "",
       "font_size": null,
       "text_color": null
      }
     },
     "50bd43e1f7e048a698af1af0d88dff2d": {
      "model_module": "@jupyter-widgets/controls",
      "model_module_version": "2.0.0",
      "model_name": "HBoxModel",
      "state": {
       "children": [
        "IPY_MODEL_88f09bcaeb2f40cdb796da293bbb1e65",
        "IPY_MODEL_a1e01dad0da94406872dd4663e59a1c1",
        "IPY_MODEL_326c21a6124945c5b599c0ab3c488ba5"
       ],
       "layout": "IPY_MODEL_dba1bf809ec646f3aec4ba9592ff8092"
      }
     },
     "50d1c20b06994a769483a610e9d2f6aa": {
      "model_module": "@jupyter-widgets/controls",
      "model_module_version": "2.0.0",
      "model_name": "HTMLStyleModel",
      "state": {
       "description_width": "",
       "font_size": null,
       "text_color": null
      }
     },
     "50d87bfd6f6e46938f8833e506a88e33": {
      "model_module": "@jupyter-widgets/controls",
      "model_module_version": "2.0.0",
      "model_name": "ProgressStyleModel",
      "state": {
       "description_width": ""
      }
     },
     "5102f763e5c546ea9a6877aa0da774b6": {
      "model_module": "@jupyter-widgets/controls",
      "model_module_version": "2.0.0",
      "model_name": "FloatProgressModel",
      "state": {
       "bar_style": "success",
       "layout": "IPY_MODEL_dd31d7e0de6f41bca92736142aad78cb",
       "max": 9,
       "style": "IPY_MODEL_2127be068455487992c74e28ae2356f4",
       "value": 9
      }
     },
     "511ecf90bbc746ba9e2cffe3a2fbfd2c": {
      "model_module": "@jupyter-widgets/controls",
      "model_module_version": "2.0.0",
      "model_name": "ProgressStyleModel",
      "state": {
       "description_width": ""
      }
     },
     "513de51254894f6ea678f88402d37e5a": {
      "model_module": "@jupyter-widgets/base",
      "model_module_version": "2.0.0",
      "model_name": "LayoutModel",
      "state": {}
     },
     "513eece986504995a8a101a77b4b3d84": {
      "model_module": "@jupyter-widgets/base",
      "model_module_version": "2.0.0",
      "model_name": "LayoutModel",
      "state": {}
     },
     "51a460f860b24633983d0659a08e9d86": {
      "model_module": "@jupyter-widgets/base",
      "model_module_version": "2.0.0",
      "model_name": "LayoutModel",
      "state": {}
     },
     "52acea841e11400bb3bcb7a0dadbabbd": {
      "model_module": "@jupyter-widgets/base",
      "model_module_version": "2.0.0",
      "model_name": "LayoutModel",
      "state": {}
     },
     "52f44aa6018b43e59e70b09a69cf7267": {
      "model_module": "@jupyter-widgets/controls",
      "model_module_version": "2.0.0",
      "model_name": "ProgressStyleModel",
      "state": {
       "description_width": ""
      }
     },
     "5336321fbbaf4b9eb875ebc833450268": {
      "model_module": "@jupyter-widgets/base",
      "model_module_version": "2.0.0",
      "model_name": "LayoutModel",
      "state": {}
     },
     "533837a48c50482da47d903b883ef518": {
      "model_module": "@jupyter-widgets/controls",
      "model_module_version": "2.0.0",
      "model_name": "HTMLStyleModel",
      "state": {
       "description_width": "",
       "font_size": null,
       "text_color": null
      }
     },
     "53aa7a21d7c94609a0d466782afba562": {
      "model_module": "@jupyter-widgets/controls",
      "model_module_version": "2.0.0",
      "model_name": "HBoxModel",
      "state": {
       "children": [
        "IPY_MODEL_b6dfabde0a25442486be1e8f64dd9c04",
        "IPY_MODEL_781a4c71b1ce415a97e64f9330a596bc",
        "IPY_MODEL_9a868622ebed43c3ad5484a1263e763a"
       ],
       "layout": "IPY_MODEL_87a3dd4e4ea5420685806a32385dfa31"
      }
     },
     "5437556e798f4736bc0125ecb7989971": {
      "model_module": "@jupyter-widgets/controls",
      "model_module_version": "2.0.0",
      "model_name": "HTMLStyleModel",
      "state": {
       "description_width": "",
       "font_size": null,
       "text_color": null
      }
     },
     "5441d02cda97472f926497efe665a463": {
      "model_module": "@jupyter-widgets/base",
      "model_module_version": "2.0.0",
      "model_name": "LayoutModel",
      "state": {}
     },
     "5465f98cfdfa4a59b2f61afdf2dfcf0b": {
      "model_module": "@jupyter-widgets/base",
      "model_module_version": "2.0.0",
      "model_name": "LayoutModel",
      "state": {}
     },
     "5534d0cb53bd434cb37885c922774d01": {
      "model_module": "@jupyter-widgets/controls",
      "model_module_version": "2.0.0",
      "model_name": "HBoxModel",
      "state": {
       "children": [
        "IPY_MODEL_1bbab123aef94dcfb208f186a3b500e5",
        "IPY_MODEL_92af60d3a7b34e61bdd1f4413ca2404e",
        "IPY_MODEL_6ce3d4712b324c0db88714d26a7cc71d"
       ],
       "layout": "IPY_MODEL_2bb79ed41bee45849fa4eaf10d8f90bf"
      }
     },
     "55673297dcda4f7284890235d92a6879": {
      "model_module": "@jupyter-widgets/base",
      "model_module_version": "2.0.0",
      "model_name": "LayoutModel",
      "state": {}
     },
     "55763d098f3946aa96874faaedb579fd": {
      "model_module": "@jupyter-widgets/base",
      "model_module_version": "2.0.0",
      "model_name": "LayoutModel",
      "state": {}
     },
     "55de9c5576fd4c2da4151c7cedda76cf": {
      "model_module": "@jupyter-widgets/controls",
      "model_module_version": "2.0.0",
      "model_name": "HTMLModel",
      "state": {
       "layout": "IPY_MODEL_44842430723c440a94c42c6025284b0f",
       "style": "IPY_MODEL_747bc39d7da44ae78da2b9bab1c811f4",
       "value": "Executing: 100%"
      }
     },
     "56506932da1d4bdcbe32651f65f5005c": {
      "model_module": "@jupyter-widgets/base",
      "model_module_version": "2.0.0",
      "model_name": "LayoutModel",
      "state": {}
     },
     "57184bad516a4ce482e6f5da6c319c16": {
      "model_module": "@jupyter-widgets/controls",
      "model_module_version": "2.0.0",
      "model_name": "HTMLModel",
      "state": {
       "layout": "IPY_MODEL_7f1eb00d357f45d4b83532ac85a90af2",
       "style": "IPY_MODEL_6d311674352a4837aa3d64015a8ca47d",
       "value": "Executing: 100%"
      }
     },
     "57ef7c32b9d94786b3d2398baf1ee9c9": {
      "model_module": "@jupyter-widgets/controls",
      "model_module_version": "2.0.0",
      "model_name": "HTMLStyleModel",
      "state": {
       "description_width": "",
       "font_size": null,
       "text_color": null
      }
     },
     "595312e53aff4e32b569c538ee320a4a": {
      "model_module": "@jupyter-widgets/controls",
      "model_module_version": "2.0.0",
      "model_name": "HTMLStyleModel",
      "state": {
       "description_width": "",
       "font_size": null,
       "text_color": null
      }
     },
     "595f2fa456fd4dd9897ccf1235cbb57f": {
      "model_module": "@jupyter-widgets/controls",
      "model_module_version": "2.0.0",
      "model_name": "HTMLModel",
      "state": {
       "layout": "IPY_MODEL_057e90efc9754f94974c9ae357056ee1",
       "style": "IPY_MODEL_93c61215a26e4a75baeaa5992eb5019e",
       "value": " 9/9 [00:20&lt;00:00,  2.49s/cell]"
      }
     },
     "5a0e751f2983417a83c91480c7225690": {
      "model_module": "@jupyter-widgets/controls",
      "model_module_version": "2.0.0",
      "model_name": "HTMLStyleModel",
      "state": {
       "description_width": "",
       "font_size": null,
       "text_color": null
      }
     },
     "5b7307934c194068b0dd1893712d044f": {
      "model_module": "@jupyter-widgets/controls",
      "model_module_version": "2.0.0",
      "model_name": "HTMLStyleModel",
      "state": {
       "description_width": "",
       "font_size": null,
       "text_color": null
      }
     },
     "5b7cc55af6ec4432a65fc18609e26569": {
      "model_module": "@jupyter-widgets/base",
      "model_module_version": "2.0.0",
      "model_name": "LayoutModel",
      "state": {}
     },
     "5ba836fb9dbc43e3ae9d7f60f01328e0": {
      "model_module": "@jupyter-widgets/controls",
      "model_module_version": "2.0.0",
      "model_name": "HTMLModel",
      "state": {
       "layout": "IPY_MODEL_88ea1661dd8c4798b9e5165c30430d05",
       "style": "IPY_MODEL_948f4fef663a4bdbb9caaed9a51077f7",
       "value": " 9/9 [00:38&lt;00:00,  4.83s/cell]"
      }
     },
     "5c3fd5d598734ae7a4ff46d664e66e50": {
      "model_module": "@jupyter-widgets/controls",
      "model_module_version": "2.0.0",
      "model_name": "ProgressStyleModel",
      "state": {
       "description_width": ""
      }
     },
     "5c400e53bbde4208997afaf60e41343e": {
      "model_module": "@jupyter-widgets/controls",
      "model_module_version": "2.0.0",
      "model_name": "HBoxModel",
      "state": {
       "children": [
        "IPY_MODEL_1d2c9672e8ed4148a9242cdf85b4f67e",
        "IPY_MODEL_3727f528280f44d380bb73217e91eebd",
        "IPY_MODEL_7cfd2d13b057449986d4cfdd4e5abcbb"
       ],
       "layout": "IPY_MODEL_242dc11bbbd545e59acd77cd4f334a56"
      }
     },
     "5c878a2dc2a948b38828489b82d5539c": {
      "model_module": "@jupyter-widgets/base",
      "model_module_version": "2.0.0",
      "model_name": "LayoutModel",
      "state": {}
     },
     "5cb91294ecbf44528a6357918642030c": {
      "model_module": "@jupyter-widgets/controls",
      "model_module_version": "2.0.0",
      "model_name": "ProgressStyleModel",
      "state": {
       "description_width": ""
      }
     },
     "5cc3b496f4b34301ac745d29284aaa06": {
      "model_module": "@jupyter-widgets/controls",
      "model_module_version": "2.0.0",
      "model_name": "HTMLModel",
      "state": {
       "layout": "IPY_MODEL_de1e53b2f64d4656a5af236ec20f6c4b",
       "style": "IPY_MODEL_ca6d24e92f9e4c7fb49026bd62e0012f",
       "value": " 9/9 [00:26&lt;00:00,  3.27s/cell]"
      }
     },
     "5cc97a1e30d646eba9089bf819c2d7f5": {
      "model_module": "@jupyter-widgets/base",
      "model_module_version": "2.0.0",
      "model_name": "LayoutModel",
      "state": {}
     },
     "5d04e33387ec46fda854569576ac0112": {
      "model_module": "@jupyter-widgets/base",
      "model_module_version": "2.0.0",
      "model_name": "LayoutModel",
      "state": {}
     },
     "5d3315c5d471446b893407497b36b611": {
      "model_module": "@jupyter-widgets/controls",
      "model_module_version": "2.0.0",
      "model_name": "FloatProgressModel",
      "state": {
       "bar_style": "success",
       "layout": "IPY_MODEL_a7f51f735f1e4e75a6be0ca2842ea8b3",
       "max": 9,
       "style": "IPY_MODEL_48b7f90e307846979097f4f660acec3d",
       "value": 9
      }
     },
     "5dbfd032d0464791b6ec9f34f3494db5": {
      "model_module": "@jupyter-widgets/base",
      "model_module_version": "2.0.0",
      "model_name": "LayoutModel",
      "state": {}
     },
     "5dd43845564640a08103c68f9bb320a6": {
      "model_module": "@jupyter-widgets/controls",
      "model_module_version": "2.0.0",
      "model_name": "HTMLModel",
      "state": {
       "layout": "IPY_MODEL_f07cea20da1e4c2dbfcab43ad7f9f33e",
       "style": "IPY_MODEL_70540aee553843e79a04ef58d3d58221",
       "value": " 6/9 [00:07&lt;00:03,  1.11s/cell]"
      }
     },
     "5dd60b7260fc4b6085b7235519e8d3b0": {
      "model_module": "@jupyter-widgets/controls",
      "model_module_version": "2.0.0",
      "model_name": "FloatProgressModel",
      "state": {
       "bar_style": "success",
       "layout": "IPY_MODEL_25eca04a3a6c4e56b07f871249421a57",
       "max": 9,
       "style": "IPY_MODEL_f1689d12808842baac3b0af8b50ab63e",
       "value": 9
      }
     },
     "5e892edfc7ac4850b556d054824953d9": {
      "model_module": "@jupyter-widgets/controls",
      "model_module_version": "2.0.0",
      "model_name": "HTMLStyleModel",
      "state": {
       "description_width": "",
       "font_size": null,
       "text_color": null
      }
     },
     "5f0ecc9b0c86429c8fc8e8f1a04c5dfe": {
      "model_module": "@jupyter-widgets/controls",
      "model_module_version": "2.0.0",
      "model_name": "HTMLModel",
      "state": {
       "layout": "IPY_MODEL_26ed5072ed3d49efa787a43bb5c177e8",
       "style": "IPY_MODEL_7f400b299da3493085ad2fa5f5b091d1",
       "value": " 9/9 [00:25&lt;00:00,  3.44s/cell]"
      }
     },
     "5f455518e8004c7a81dc184d9d766431": {
      "model_module": "@jupyter-widgets/base",
      "model_module_version": "2.0.0",
      "model_name": "LayoutModel",
      "state": {}
     },
     "60de423f26e544129c60388bddda71a9": {
      "model_module": "@jupyter-widgets/controls",
      "model_module_version": "2.0.0",
      "model_name": "HTMLStyleModel",
      "state": {
       "description_width": "",
       "font_size": null,
       "text_color": null
      }
     },
     "61353371e53c4bc799f9a092bfe7e941": {
      "model_module": "@jupyter-widgets/controls",
      "model_module_version": "2.0.0",
      "model_name": "ProgressStyleModel",
      "state": {
       "description_width": ""
      }
     },
     "617b78de16724e83982709e47d104902": {
      "model_module": "@jupyter-widgets/base",
      "model_module_version": "2.0.0",
      "model_name": "LayoutModel",
      "state": {}
     },
     "623b0e77cba14f62bfbe679ecb59635b": {
      "model_module": "@jupyter-widgets/controls",
      "model_module_version": "2.0.0",
      "model_name": "ProgressStyleModel",
      "state": {
       "description_width": ""
      }
     },
     "624e1ad69ed246cf977fc75cd4f0c5cc": {
      "model_module": "@jupyter-widgets/base",
      "model_module_version": "2.0.0",
      "model_name": "LayoutModel",
      "state": {}
     },
     "6252154e3c0944d3a3cd2d33d498bd1e": {
      "model_module": "@jupyter-widgets/controls",
      "model_module_version": "2.0.0",
      "model_name": "ProgressStyleModel",
      "state": {
       "description_width": ""
      }
     },
     "62f9643c10f146a1b35d44dc76470241": {
      "model_module": "@jupyter-widgets/controls",
      "model_module_version": "2.0.0",
      "model_name": "HTMLStyleModel",
      "state": {
       "description_width": "",
       "font_size": null,
       "text_color": null
      }
     },
     "63c6305155cb4dc395d04e34c0854235": {
      "model_module": "@jupyter-widgets/controls",
      "model_module_version": "2.0.0",
      "model_name": "HTMLModel",
      "state": {
       "layout": "IPY_MODEL_677c910c5af94a8d94a45cf5593fdcc7",
       "style": "IPY_MODEL_9cab8d1554254d85a13575a6276c521c",
       "value": " 9/9 [00:17&lt;00:00,  2.03s/cell]"
      }
     },
     "63db4a3dfb544ece8801e00e2d49f721": {
      "model_module": "@jupyter-widgets/base",
      "model_module_version": "2.0.0",
      "model_name": "LayoutModel",
      "state": {}
     },
     "6442561e22ee44a5b4d08007e26f3b0d": {
      "model_module": "@jupyter-widgets/base",
      "model_module_version": "2.0.0",
      "model_name": "LayoutModel",
      "state": {}
     },
     "64688f9c56954c87acac4cbe6aa522a6": {
      "model_module": "@jupyter-widgets/controls",
      "model_module_version": "2.0.0",
      "model_name": "ProgressStyleModel",
      "state": {
       "description_width": ""
      }
     },
     "648c854a266043bab1a8efac1249152a": {
      "model_module": "@jupyter-widgets/base",
      "model_module_version": "2.0.0",
      "model_name": "LayoutModel",
      "state": {}
     },
     "64c5dd6750a942d1a7d19ee5e3ae5171": {
      "model_module": "@jupyter-widgets/controls",
      "model_module_version": "2.0.0",
      "model_name": "FloatProgressModel",
      "state": {
       "bar_style": "success",
       "layout": "IPY_MODEL_d3b8416e67454928b1a87146aba145d9",
       "max": 9,
       "style": "IPY_MODEL_6a3a053046324651ae70a862dc3e0814",
       "value": 9
      }
     },
     "64ed67cc310c4f3f8e32ac4bb6f3d9cf": {
      "model_module": "@jupyter-widgets/base",
      "model_module_version": "2.0.0",
      "model_name": "LayoutModel",
      "state": {}
     },
     "651a86a35baa4f9cb0986edc474bebd7": {
      "model_module": "@jupyter-widgets/base",
      "model_module_version": "2.0.0",
      "model_name": "LayoutModel",
      "state": {}
     },
     "656e390fba324ff2a679203083dadab2": {
      "model_module": "@jupyter-widgets/base",
      "model_module_version": "2.0.0",
      "model_name": "LayoutModel",
      "state": {}
     },
     "65e72911cfe947b7afd70b1ee4b73937": {
      "model_module": "@jupyter-widgets/controls",
      "model_module_version": "2.0.0",
      "model_name": "HBoxModel",
      "state": {
       "children": [
        "IPY_MODEL_f899933024e84bdda2d7109958fef0a7",
        "IPY_MODEL_25d3cc67eb45448ca3d07486880cd44e",
        "IPY_MODEL_08570e2021dd4276a56331ac356074d1"
       ],
       "layout": "IPY_MODEL_76638c7e249d453691f3db9a74d26868"
      }
     },
     "660a5e5ab199435fb6d24cc0087d3c68": {
      "model_module": "@jupyter-widgets/controls",
      "model_module_version": "2.0.0",
      "model_name": "HBoxModel",
      "state": {
       "children": [
        "IPY_MODEL_c7d4cf00a6c8436c9bf798e4bbcd1366",
        "IPY_MODEL_4f7433d089024adda640a00b53cb8bc0",
        "IPY_MODEL_8f911bc933d5483ba4aeb372fe1fb6d4"
       ],
       "layout": "IPY_MODEL_783b9059e5e442c2a13b22f9e992f2f5"
      }
     },
     "666375fa292e45209bbdaa71406c86c2": {
      "model_module": "@jupyter-widgets/controls",
      "model_module_version": "2.0.0",
      "model_name": "ProgressStyleModel",
      "state": {
       "description_width": ""
      }
     },
     "667c1c5ffbc7463f92c895c3b9ef0860": {
      "model_module": "@jupyter-widgets/controls",
      "model_module_version": "2.0.0",
      "model_name": "HTMLStyleModel",
      "state": {
       "description_width": "",
       "font_size": null,
       "text_color": null
      }
     },
     "6688df0f8f9e4084b33fcd6e4f7909c8": {
      "model_module": "@jupyter-widgets/controls",
      "model_module_version": "2.0.0",
      "model_name": "ProgressStyleModel",
      "state": {
       "description_width": ""
      }
     },
     "673c6c94100744ceb25f7b87193c8a51": {
      "model_module": "@jupyter-widgets/controls",
      "model_module_version": "2.0.0",
      "model_name": "HTMLModel",
      "state": {
       "layout": "IPY_MODEL_b3e3c00edcdd42f381a21843f2ae7101",
       "style": "IPY_MODEL_ee8be27b5aa84b33a6965014aad756e1",
       "value": "Executing: 100%"
      }
     },
     "677c910c5af94a8d94a45cf5593fdcc7": {
      "model_module": "@jupyter-widgets/base",
      "model_module_version": "2.0.0",
      "model_name": "LayoutModel",
      "state": {}
     },
     "6786e6d15f24446698bb51b878c71b99": {
      "model_module": "@jupyter-widgets/controls",
      "model_module_version": "2.0.0",
      "model_name": "HTMLModel",
      "state": {
       "layout": "IPY_MODEL_053a100210ed4a6ab16b8ad401f49f0e",
       "style": "IPY_MODEL_3173a8a26e5f48519f942d452aa94140",
       "value": " 9/9 [00:17&lt;00:00,  2.04s/cell]"
      }
     },
     "67b0d66757b84ffc95947b08b838e7a8": {
      "model_module": "@jupyter-widgets/controls",
      "model_module_version": "2.0.0",
      "model_name": "HBoxModel",
      "state": {
       "children": [
        "IPY_MODEL_eab0395ac4084b22819f05b0116e5e81",
        "IPY_MODEL_c0c53ac3dc524bd5ba23c3a4f3f84997",
        "IPY_MODEL_8f39bfbf7fe54daea8326ebb6fb67f1c"
       ],
       "layout": "IPY_MODEL_bf8cd42371d64439a60818e6604a1c8a"
      }
     },
     "681096ecdacd475d97baab7f64b4f890": {
      "model_module": "@jupyter-widgets/controls",
      "model_module_version": "2.0.0",
      "model_name": "HTMLModel",
      "state": {
       "layout": "IPY_MODEL_79afd2c291b840e6ad7de39537468a5a",
       "style": "IPY_MODEL_02155c3c35604dc3a1fd0c5ffb8bbd0d",
       "value": "Executing: 100%"
      }
     },
     "689f578a1e0447bf9cff888644ef435a": {
      "model_module": "@jupyter-widgets/controls",
      "model_module_version": "2.0.0",
      "model_name": "HTMLStyleModel",
      "state": {
       "description_width": "",
       "font_size": null,
       "text_color": null
      }
     },
     "68ac4f768b884237b2e28f974b3484e5": {
      "model_module": "@jupyter-widgets/controls",
      "model_module_version": "2.0.0",
      "model_name": "HBoxModel",
      "state": {
       "children": [
        "IPY_MODEL_f12b1cfd4b404671ab2345cdb9a1b6ac",
        "IPY_MODEL_dff1b89f4fbe4fbda171cb64069398a2",
        "IPY_MODEL_ad8bc249375748d1a19e01391e48b4a8"
       ],
       "layout": "IPY_MODEL_a1804edf883d45be9450a9ca8812cb60"
      }
     },
     "68e746f689dc47d796d41b6747cb34a2": {
      "model_module": "@jupyter-widgets/base",
      "model_module_version": "2.0.0",
      "model_name": "LayoutModel",
      "state": {}
     },
     "6a02f14765ec435f9fd5efaf136d91d9": {
      "model_module": "@jupyter-widgets/controls",
      "model_module_version": "2.0.0",
      "model_name": "ProgressStyleModel",
      "state": {
       "description_width": ""
      }
     },
     "6a176b45d96448a08d039803fc9561bb": {
      "model_module": "@jupyter-widgets/base",
      "model_module_version": "2.0.0",
      "model_name": "LayoutModel",
      "state": {}
     },
     "6a2b49a4d8924c7a9c7e6a8e48e078ec": {
      "model_module": "@jupyter-widgets/base",
      "model_module_version": "2.0.0",
      "model_name": "LayoutModel",
      "state": {}
     },
     "6a3a053046324651ae70a862dc3e0814": {
      "model_module": "@jupyter-widgets/controls",
      "model_module_version": "2.0.0",
      "model_name": "ProgressStyleModel",
      "state": {
       "description_width": ""
      }
     },
     "6afe4865a5454a9c800cb3a22e4aa67d": {
      "model_module": "@jupyter-widgets/controls",
      "model_module_version": "2.0.0",
      "model_name": "HTMLModel",
      "state": {
       "layout": "IPY_MODEL_befe51c2d2654d218a97eddbe48d55cf",
       "style": "IPY_MODEL_0ed4bc19262149fb81ddb8962e3c3467",
       "value": "Executing: 100%"
      }
     },
     "6bb55123346a4833bbf79da5be1931c0": {
      "model_module": "@jupyter-widgets/controls",
      "model_module_version": "2.0.0",
      "model_name": "HTMLModel",
      "state": {
       "layout": "IPY_MODEL_3655f4ebbd3c47e5a4a9f70673a5597d",
       "style": "IPY_MODEL_35bf1aabb644405395765c22a1e4dcd8",
       "value": "Executing: 100%"
      }
     },
     "6ce3d4712b324c0db88714d26a7cc71d": {
      "model_module": "@jupyter-widgets/controls",
      "model_module_version": "2.0.0",
      "model_name": "HTMLModel",
      "state": {
       "layout": "IPY_MODEL_d983bfca510c4905bbd95f75e3d48a14",
       "style": "IPY_MODEL_a119baead0574b779cf98c932320037c",
       "value": " 9/9 [00:40&lt;00:00,  4.90s/cell]"
      }
     },
     "6d1148caf206474faf58218d008c9646": {
      "model_module": "@jupyter-widgets/base",
      "model_module_version": "2.0.0",
      "model_name": "LayoutModel",
      "state": {}
     },
     "6d311674352a4837aa3d64015a8ca47d": {
      "model_module": "@jupyter-widgets/controls",
      "model_module_version": "2.0.0",
      "model_name": "HTMLStyleModel",
      "state": {
       "description_width": "",
       "font_size": null,
       "text_color": null
      }
     },
     "6d38e5e5024644038d36267560ff6380": {
      "model_module": "@jupyter-widgets/controls",
      "model_module_version": "2.0.0",
      "model_name": "HTMLModel",
      "state": {
       "layout": "IPY_MODEL_08936dfb61b64f0fae51166380771548",
       "style": "IPY_MODEL_da7d60a60eb84b80a4eef9bb376488bd",
       "value": " 9/9 [00:16&lt;00:00,  1.96s/cell]"
      }
     },
     "6e39e027723b463fa4e7daa6f46c6860": {
      "model_module": "@jupyter-widgets/base",
      "model_module_version": "2.0.0",
      "model_name": "LayoutModel",
      "state": {}
     },
     "6e7664f794bf4825a85de9dde458fb2a": {
      "model_module": "@jupyter-widgets/controls",
      "model_module_version": "2.0.0",
      "model_name": "ProgressStyleModel",
      "state": {
       "description_width": ""
      }
     },
     "6eeb28b56565471bbc55db083c067405": {
      "model_module": "@jupyter-widgets/controls",
      "model_module_version": "2.0.0",
      "model_name": "HTMLStyleModel",
      "state": {
       "description_width": "",
       "font_size": null,
       "text_color": null
      }
     },
     "6fc751f0f9a8448cb03833106fa98d2a": {
      "model_module": "@jupyter-widgets/base",
      "model_module_version": "2.0.0",
      "model_name": "LayoutModel",
      "state": {}
     },
     "6fda38cf8a954898a3e7fa1515fe9b14": {
      "model_module": "@jupyter-widgets/base",
      "model_module_version": "2.0.0",
      "model_name": "LayoutModel",
      "state": {}
     },
     "703c53a570e2426ebe077a59a52c9a6c": {
      "model_module": "@jupyter-widgets/controls",
      "model_module_version": "2.0.0",
      "model_name": "FloatProgressModel",
      "state": {
       "bar_style": "success",
       "layout": "IPY_MODEL_3968317e20f6429da0f3d7b93c0eb800",
       "max": 9,
       "style": "IPY_MODEL_c8ae270018b440aba4972e13d02d7c60",
       "value": 9
      }
     },
     "70540aee553843e79a04ef58d3d58221": {
      "model_module": "@jupyter-widgets/controls",
      "model_module_version": "2.0.0",
      "model_name": "HTMLStyleModel",
      "state": {
       "description_width": "",
       "font_size": null,
       "text_color": null
      }
     },
     "7069d196b29c431cbf37ed71bfbe7dc7": {
      "model_module": "@jupyter-widgets/controls",
      "model_module_version": "2.0.0",
      "model_name": "HTMLStyleModel",
      "state": {
       "description_width": "",
       "font_size": null,
       "text_color": null
      }
     },
     "709c98166470422faf1286afe362feca": {
      "model_module": "@jupyter-widgets/base",
      "model_module_version": "2.0.0",
      "model_name": "LayoutModel",
      "state": {}
     },
     "7128e3a6667249438c3bcfaccc20bd07": {
      "model_module": "@jupyter-widgets/base",
      "model_module_version": "2.0.0",
      "model_name": "LayoutModel",
      "state": {}
     },
     "7147fce5f62f4c71bad71478d00dd93c": {
      "model_module": "@jupyter-widgets/controls",
      "model_module_version": "2.0.0",
      "model_name": "HTMLStyleModel",
      "state": {
       "description_width": "",
       "font_size": null,
       "text_color": null
      }
     },
     "717ae492a84d4f8dba744eb06d2f116a": {
      "model_module": "@jupyter-widgets/controls",
      "model_module_version": "2.0.0",
      "model_name": "HTMLStyleModel",
      "state": {
       "description_width": "",
       "font_size": null,
       "text_color": null
      }
     },
     "7188b8818832494ba96c29d3f88e3bd9": {
      "model_module": "@jupyter-widgets/controls",
      "model_module_version": "2.0.0",
      "model_name": "ProgressStyleModel",
      "state": {
       "description_width": ""
      }
     },
     "71f0c43ec2ed433abb9a22866eda9df5": {
      "model_module": "@jupyter-widgets/base",
      "model_module_version": "2.0.0",
      "model_name": "LayoutModel",
      "state": {}
     },
     "7235fc0620e04089994840e57f450533": {
      "model_module": "@jupyter-widgets/controls",
      "model_module_version": "2.0.0",
      "model_name": "HTMLStyleModel",
      "state": {
       "description_width": "",
       "font_size": null,
       "text_color": null
      }
     },
     "723a7b1d86804b72b71372d8184e11a7": {
      "model_module": "@jupyter-widgets/base",
      "model_module_version": "2.0.0",
      "model_name": "LayoutModel",
      "state": {}
     },
     "724b4be191214ae59779bacd7c59c2c4": {
      "model_module": "@jupyter-widgets/base",
      "model_module_version": "2.0.0",
      "model_name": "LayoutModel",
      "state": {}
     },
     "72700fd68bda4d22a94039cded62ea82": {
      "model_module": "@jupyter-widgets/base",
      "model_module_version": "2.0.0",
      "model_name": "LayoutModel",
      "state": {}
     },
     "72d6daea3aad47c7b44ff47590742858": {
      "model_module": "@jupyter-widgets/controls",
      "model_module_version": "2.0.0",
      "model_name": "HTMLStyleModel",
      "state": {
       "description_width": "",
       "font_size": null,
       "text_color": null
      }
     },
     "72f6aab94ca04c548d19f1ef778c9ca1": {
      "model_module": "@jupyter-widgets/controls",
      "model_module_version": "2.0.0",
      "model_name": "ProgressStyleModel",
      "state": {
       "description_width": ""
      }
     },
     "7337273dd10043ff963f8b4b3cbfc868": {
      "model_module": "@jupyter-widgets/base",
      "model_module_version": "2.0.0",
      "model_name": "LayoutModel",
      "state": {}
     },
     "73b903a6c9054dcea04a2185ce4c4fba": {
      "model_module": "@jupyter-widgets/controls",
      "model_module_version": "2.0.0",
      "model_name": "HTMLStyleModel",
      "state": {
       "description_width": "",
       "font_size": null,
       "text_color": null
      }
     },
     "73e1e8990d344879b8f367bfeef841ec": {
      "model_module": "@jupyter-widgets/controls",
      "model_module_version": "2.0.0",
      "model_name": "HBoxModel",
      "state": {
       "children": [
        "IPY_MODEL_ba6b57db09cf412ab31a5c0db36b81e3",
        "IPY_MODEL_bf63d50a135644fdad599ce807caf2d1",
        "IPY_MODEL_16b3eaff07bf419b9fc9d7ae18103b70"
       ],
       "layout": "IPY_MODEL_d01725ef618548af89c552101a1a6799"
      }
     },
     "747bc39d7da44ae78da2b9bab1c811f4": {
      "model_module": "@jupyter-widgets/controls",
      "model_module_version": "2.0.0",
      "model_name": "HTMLStyleModel",
      "state": {
       "description_width": "",
       "font_size": null,
       "text_color": null
      }
     },
     "74816bd4975b4d82976c4e0ec798b87a": {
      "model_module": "@jupyter-widgets/controls",
      "model_module_version": "2.0.0",
      "model_name": "FloatProgressModel",
      "state": {
       "bar_style": "success",
       "layout": "IPY_MODEL_5cc97a1e30d646eba9089bf819c2d7f5",
       "max": 9,
       "style": "IPY_MODEL_c80ca11d82054c44972dc433861e01b0",
       "value": 9
      }
     },
     "74d38a4944c349578ea25086688a405f": {
      "model_module": "@jupyter-widgets/controls",
      "model_module_version": "2.0.0",
      "model_name": "HTMLModel",
      "state": {
       "layout": "IPY_MODEL_3a9d57605f6b499aaae7bf1d86b2fa23",
       "style": "IPY_MODEL_120f50485ad54f7d8183ef37250c90d6",
       "value": "Executing: 100%"
      }
     },
     "757e0631387a460e9d2e6108b668a5ed": {
      "model_module": "@jupyter-widgets/base",
      "model_module_version": "2.0.0",
      "model_name": "LayoutModel",
      "state": {}
     },
     "757e59e0804a49e283c0296ea6076dcc": {
      "model_module": "@jupyter-widgets/controls",
      "model_module_version": "2.0.0",
      "model_name": "ProgressStyleModel",
      "state": {
       "description_width": ""
      }
     },
     "7597f0647a024d0bab7619ddcde7bd65": {
      "model_module": "@jupyter-widgets/base",
      "model_module_version": "2.0.0",
      "model_name": "LayoutModel",
      "state": {}
     },
     "76638c7e249d453691f3db9a74d26868": {
      "model_module": "@jupyter-widgets/base",
      "model_module_version": "2.0.0",
      "model_name": "LayoutModel",
      "state": {}
     },
     "76d3e5e8cd8542cc8d3c209df45727ad": {
      "model_module": "@jupyter-widgets/base",
      "model_module_version": "2.0.0",
      "model_name": "LayoutModel",
      "state": {}
     },
     "76dcebb81f6f4c919736af7a002ed954": {
      "model_module": "@jupyter-widgets/base",
      "model_module_version": "2.0.0",
      "model_name": "LayoutModel",
      "state": {}
     },
     "774f1c780912425b8fa1b0db75746ac7": {
      "model_module": "@jupyter-widgets/controls",
      "model_module_version": "2.0.0",
      "model_name": "FloatProgressModel",
      "state": {
       "bar_style": "success",
       "layout": "IPY_MODEL_b810ac9a7f4744caae9195ee80534802",
       "max": 9,
       "style": "IPY_MODEL_13500e932a1f4703818ca124a43015a5",
       "value": 9
      }
     },
     "7763af00ba3d4327af925f893165e13a": {
      "model_module": "@jupyter-widgets/controls",
      "model_module_version": "2.0.0",
      "model_name": "FloatProgressModel",
      "state": {
       "bar_style": "success",
       "layout": "IPY_MODEL_dfedbc3286aa4d9685c3f333b460c57e",
       "max": 9,
       "style": "IPY_MODEL_35aa177280fe44f0901bffcad21ef2cc",
       "value": 9
      }
     },
     "77ba3452703a406691b276dfeead650f": {
      "model_module": "@jupyter-widgets/controls",
      "model_module_version": "2.0.0",
      "model_name": "HTMLModel",
      "state": {
       "layout": "IPY_MODEL_648c854a266043bab1a8efac1249152a",
       "style": "IPY_MODEL_3103cf590eb9459aa6fbb390344bf294",
       "value": "Executing: 100%"
      }
     },
     "77ed5de1f1da4db795ec0acf26c94326": {
      "model_module": "@jupyter-widgets/controls",
      "model_module_version": "2.0.0",
      "model_name": "HTMLStyleModel",
      "state": {
       "description_width": "",
       "font_size": null,
       "text_color": null
      }
     },
     "77f13d2758a0480688ce4d22454201cd": {
      "model_module": "@jupyter-widgets/base",
      "model_module_version": "2.0.0",
      "model_name": "LayoutModel",
      "state": {}
     },
     "781a4c71b1ce415a97e64f9330a596bc": {
      "model_module": "@jupyter-widgets/controls",
      "model_module_version": "2.0.0",
      "model_name": "FloatProgressModel",
      "state": {
       "bar_style": "success",
       "layout": "IPY_MODEL_5f455518e8004c7a81dc184d9d766431",
       "max": 9,
       "style": "IPY_MODEL_482b6064fd61404795b7eec766b9e186",
       "value": 9
      }
     },
     "783b9059e5e442c2a13b22f9e992f2f5": {
      "model_module": "@jupyter-widgets/base",
      "model_module_version": "2.0.0",
      "model_name": "LayoutModel",
      "state": {}
     },
     "789ebcdb03784ba1a3b46418c8193368": {
      "model_module": "@jupyter-widgets/controls",
      "model_module_version": "2.0.0",
      "model_name": "FloatProgressModel",
      "state": {
       "bar_style": "success",
       "layout": "IPY_MODEL_e5ace6dce5f640d397735ecc686977fe",
       "max": 9,
       "style": "IPY_MODEL_52f44aa6018b43e59e70b09a69cf7267",
       "value": 9
      }
     },
     "7903e5831d0e4b9aa2e7f07ffd0ea74c": {
      "model_module": "@jupyter-widgets/controls",
      "model_module_version": "2.0.0",
      "model_name": "HTMLModel",
      "state": {
       "layout": "IPY_MODEL_ee8a50e8bfa142b7960535fb28c110bc",
       "style": "IPY_MODEL_ff82aa9437fb4a87875bbf70d1282c0e",
       "value": "Executing: 100%"
      }
     },
     "79853335de92418f8cef2ab5e09d2bc4": {
      "model_module": "@jupyter-widgets/base",
      "model_module_version": "2.0.0",
      "model_name": "LayoutModel",
      "state": {}
     },
     "798557a71a9a44749b3b44d8f38fa328": {
      "model_module": "@jupyter-widgets/controls",
      "model_module_version": "2.0.0",
      "model_name": "ProgressStyleModel",
      "state": {
       "description_width": ""
      }
     },
     "79afd2c291b840e6ad7de39537468a5a": {
      "model_module": "@jupyter-widgets/base",
      "model_module_version": "2.0.0",
      "model_name": "LayoutModel",
      "state": {}
     },
     "79f30c59dd29466bb22c6c0225205771": {
      "model_module": "@jupyter-widgets/base",
      "model_module_version": "2.0.0",
      "model_name": "LayoutModel",
      "state": {}
     },
     "7aac76dcf13b4efabdaa4644f5d04760": {
      "model_module": "@jupyter-widgets/base",
      "model_module_version": "2.0.0",
      "model_name": "LayoutModel",
      "state": {}
     },
     "7ace9ca0d4fd4e939e0912aec7d04ea7": {
      "model_module": "@jupyter-widgets/controls",
      "model_module_version": "2.0.0",
      "model_name": "HBoxModel",
      "state": {
       "children": [
        "IPY_MODEL_77ba3452703a406691b276dfeead650f",
        "IPY_MODEL_703c53a570e2426ebe077a59a52c9a6c",
        "IPY_MODEL_aaeabda2a7d0449f821a064eff25e7de"
       ],
       "layout": "IPY_MODEL_2ecc2eb5461b48b8a1c8a8d337db780f"
      }
     },
     "7b7d6f66759a4d4fbd5836269950e291": {
      "model_module": "@jupyter-widgets/base",
      "model_module_version": "2.0.0",
      "model_name": "LayoutModel",
      "state": {}
     },
     "7bfa4ae94df6429d99154abaf2e1feb2": {
      "model_module": "@jupyter-widgets/controls",
      "model_module_version": "2.0.0",
      "model_name": "FloatProgressModel",
      "state": {
       "bar_style": "success",
       "layout": "IPY_MODEL_8b92e22a8258425192f0f4cc349b8ba2",
       "max": 9,
       "style": "IPY_MODEL_50d87bfd6f6e46938f8833e506a88e33",
       "value": 9
      }
     },
     "7cf97b15435a4d1c833180d8c00ba105": {
      "model_module": "@jupyter-widgets/base",
      "model_module_version": "2.0.0",
      "model_name": "LayoutModel",
      "state": {}
     },
     "7cfd2d13b057449986d4cfdd4e5abcbb": {
      "model_module": "@jupyter-widgets/controls",
      "model_module_version": "2.0.0",
      "model_name": "HTMLModel",
      "state": {
       "layout": "IPY_MODEL_10c153a213364ad7959f47516848575e",
       "style": "IPY_MODEL_edd7dc57b7ed4c089a201f9e3cabedb0",
       "value": " 2/16 [00:42&lt;03:58, 17.03s/it]"
      }
     },
     "7d873f2ddc19426f913682ec5265ddfc": {
      "model_module": "@jupyter-widgets/controls",
      "model_module_version": "2.0.0",
      "model_name": "HBoxModel",
      "state": {
       "children": [
        "IPY_MODEL_33460f5f3b6548e1b2b47307da0483cd",
        "IPY_MODEL_0aee059872854b0394c8e593895d0d1d",
        "IPY_MODEL_0b8c8802775e4b3fa420853a75bbe9c8"
       ],
       "layout": "IPY_MODEL_79f30c59dd29466bb22c6c0225205771"
      }
     },
     "7d92f8dfd4f24c8aa0c1ec159aa0266b": {
      "model_module": "@jupyter-widgets/controls",
      "model_module_version": "2.0.0",
      "model_name": "HTMLStyleModel",
      "state": {
       "description_width": "",
       "font_size": null,
       "text_color": null
      }
     },
     "7e6f534995e148f89d0ad293e193fa9a": {
      "model_module": "@jupyter-widgets/base",
      "model_module_version": "2.0.0",
      "model_name": "LayoutModel",
      "state": {}
     },
     "7eaa8b20a81c4e788ca720176a10aa05": {
      "model_module": "@jupyter-widgets/controls",
      "model_module_version": "2.0.0",
      "model_name": "HTMLModel",
      "state": {
       "layout": "IPY_MODEL_8d703357ccc045d88a0efe651c246659",
       "style": "IPY_MODEL_5a0e751f2983417a83c91480c7225690",
       "value": "  0%"
      }
     },
     "7f1eb00d357f45d4b83532ac85a90af2": {
      "model_module": "@jupyter-widgets/base",
      "model_module_version": "2.0.0",
      "model_name": "LayoutModel",
      "state": {}
     },
     "7f400b299da3493085ad2fa5f5b091d1": {
      "model_module": "@jupyter-widgets/controls",
      "model_module_version": "2.0.0",
      "model_name": "HTMLStyleModel",
      "state": {
       "description_width": "",
       "font_size": null,
       "text_color": null
      }
     },
     "7f65d00d9d64419c8dc4407ef2cb6454": {
      "model_module": "@jupyter-widgets/controls",
      "model_module_version": "2.0.0",
      "model_name": "HTMLStyleModel",
      "state": {
       "description_width": "",
       "font_size": null,
       "text_color": null
      }
     },
     "7fcfe5ba18eb40c49d101e3b73797d05": {
      "model_module": "@jupyter-widgets/base",
      "model_module_version": "2.0.0",
      "model_name": "LayoutModel",
      "state": {}
     },
     "8021e0741664468db165b81fac719b2e": {
      "model_module": "@jupyter-widgets/controls",
      "model_module_version": "2.0.0",
      "model_name": "HTMLStyleModel",
      "state": {
       "description_width": "",
       "font_size": null,
       "text_color": null
      }
     },
     "813bb6917def42699750e01dfcf8fb3b": {
      "model_module": "@jupyter-widgets/controls",
      "model_module_version": "2.0.0",
      "model_name": "HTMLModel",
      "state": {
       "layout": "IPY_MODEL_e350a42349784b499f3141252cdf8ef9",
       "style": "IPY_MODEL_1fb17c0d90074b96bfefb6352dbd6b29",
       "value": "Executing: 100%"
      }
     },
     "820e0c91269b4be895af2f706ae3baa6": {
      "model_module": "@jupyter-widgets/controls",
      "model_module_version": "2.0.0",
      "model_name": "HTMLStyleModel",
      "state": {
       "description_width": "",
       "font_size": null,
       "text_color": null
      }
     },
     "828cf1492a1a4197b995ed1c31cbc050": {
      "model_module": "@jupyter-widgets/controls",
      "model_module_version": "2.0.0",
      "model_name": "HTMLModel",
      "state": {
       "layout": "IPY_MODEL_e0297da44cc5430aa236bdb3a18746b6",
       "style": "IPY_MODEL_ca5d40b6caf64fcc8bfdf8535da4b02b",
       "value": "Executing: 100%"
      }
     },
     "83021f24f02f4dfa9aa3196a91c79fa0": {
      "model_module": "@jupyter-widgets/controls",
      "model_module_version": "2.0.0",
      "model_name": "HTMLModel",
      "state": {
       "layout": "IPY_MODEL_bb3bae27ed4b468f879a1eddb6800687",
       "style": "IPY_MODEL_adc0677c968c40d3b884b0b895c670eb",
       "value": " 9/9 [00:20&lt;00:00,  2.31s/cell]"
      }
     },
     "836058d03a1a47aea079ed481c18e9d4": {
      "model_module": "@jupyter-widgets/controls",
      "model_module_version": "2.0.0",
      "model_name": "HBoxModel",
      "state": {
       "children": [
        "IPY_MODEL_86067d2319f44622baa31cddbe2a27cf",
        "IPY_MODEL_05fb690872534f6fa50308dc96b25660",
        "IPY_MODEL_b3e1068c3efb468190d3fb99285eca48"
       ],
       "layout": "IPY_MODEL_ed4ca14b93d4466aac9e2dae2106b00e"
      }
     },
     "845c3c7cdd584492a4003800d931a1ee": {
      "model_module": "@jupyter-widgets/controls",
      "model_module_version": "2.0.0",
      "model_name": "HTMLModel",
      "state": {
       "layout": "IPY_MODEL_4a5ee619c45c4a9abeffe576e890f475",
       "style": "IPY_MODEL_922fd2967a7c4cbb9afe1814ffb807cc",
       "value": " 9/9 [00:20&lt;00:00,  2.35s/cell]"
      }
     },
     "84f4c718a6094165a2e2755adf0d4856": {
      "model_module": "@jupyter-widgets/controls",
      "model_module_version": "2.0.0",
      "model_name": "HTMLStyleModel",
      "state": {
       "description_width": "",
       "font_size": null,
       "text_color": null
      }
     },
     "856e74a13c614c59ae48883b22ebc477": {
      "model_module": "@jupyter-widgets/controls",
      "model_module_version": "2.0.0",
      "model_name": "HTMLModel",
      "state": {
       "layout": "IPY_MODEL_2dc5e6e6553d4f838d4a5cfb8eba0009",
       "style": "IPY_MODEL_44373fdac407451794610d7de571d15e",
       "value": " 9/9 [00:15&lt;00:00,  1.65s/cell]"
      }
     },
     "85b913d2bdf54a498f3a7aff5fbda609": {
      "model_module": "@jupyter-widgets/controls",
      "model_module_version": "2.0.0",
      "model_name": "HTMLStyleModel",
      "state": {
       "description_width": "",
       "font_size": null,
       "text_color": null
      }
     },
     "86067d2319f44622baa31cddbe2a27cf": {
      "model_module": "@jupyter-widgets/controls",
      "model_module_version": "2.0.0",
      "model_name": "HTMLModel",
      "state": {
       "layout": "IPY_MODEL_e50b355d8fe64de1ab00c86f2d99961f",
       "style": "IPY_MODEL_c101f0ae64344e9a9db979ccb410e2be",
       "value": "Executing: 100%"
      }
     },
     "868a8a8206134b3ea66d557cf15dba3f": {
      "model_module": "@jupyter-widgets/controls",
      "model_module_version": "2.0.0",
      "model_name": "FloatProgressModel",
      "state": {
       "bar_style": "success",
       "layout": "IPY_MODEL_b17e825986a14ea5825e449347880e72",
       "max": 9,
       "style": "IPY_MODEL_a83299a583f74241a0395e67b7200a07",
       "value": 9
      }
     },
     "876c271af16d4efbaa98293a11fff0f1": {
      "model_module": "@jupyter-widgets/controls",
      "model_module_version": "2.0.0",
      "model_name": "HTMLModel",
      "state": {
       "layout": "IPY_MODEL_b3b94650855944ecb957153cbad2593f",
       "style": "IPY_MODEL_ba2a20520c41406ca3b08fa5fbb8851f",
       "value": " 9/9 [00:10&lt;00:00,  1.01cell/s]"
      }
     },
     "87a3dd4e4ea5420685806a32385dfa31": {
      "model_module": "@jupyter-widgets/base",
      "model_module_version": "2.0.0",
      "model_name": "LayoutModel",
      "state": {}
     },
     "87f4c65fa11a4030b025a41a1a5df49c": {
      "model_module": "@jupyter-widgets/controls",
      "model_module_version": "2.0.0",
      "model_name": "HTMLStyleModel",
      "state": {
       "description_width": "",
       "font_size": null,
       "text_color": null
      }
     },
     "88042852737f4c5184e6d8a7f0c450d2": {
      "model_module": "@jupyter-widgets/base",
      "model_module_version": "2.0.0",
      "model_name": "LayoutModel",
      "state": {}
     },
     "885761ef14814e1abfba66a983ed19fe": {
      "model_module": "@jupyter-widgets/controls",
      "model_module_version": "2.0.0",
      "model_name": "HTMLModel",
      "state": {
       "layout": "IPY_MODEL_47f0a448e6b94971a536c430fb77d983",
       "style": "IPY_MODEL_abf997954c314b9b846b4337b37a036d",
       "value": "Executing: 100%"
      }
     },
     "8876c18e606d4a19914ddfc19a9c1443": {
      "model_module": "@jupyter-widgets/controls",
      "model_module_version": "2.0.0",
      "model_name": "HBoxModel",
      "state": {
       "children": [
        "IPY_MODEL_aa30e59178974aa28d9bb8359a2e6b67",
        "IPY_MODEL_cefb300ded0d4be488b632412c3ece10",
        "IPY_MODEL_c123ce81682c422088d21128ac00be5c"
       ],
       "layout": "IPY_MODEL_ac3ac6cb724c4188a0b9d52a66eefecb"
      }
     },
     "8895788a11ca4e54a81a674b5396768e": {
      "model_module": "@jupyter-widgets/controls",
      "model_module_version": "2.0.0",
      "model_name": "ProgressStyleModel",
      "state": {
       "description_width": ""
      }
     },
     "88d13e322823430cacd105085f6b2dfe": {
      "model_module": "@jupyter-widgets/controls",
      "model_module_version": "2.0.0",
      "model_name": "HTMLModel",
      "state": {
       "layout": "IPY_MODEL_2b6917dae40c408ba306fb884ac553c7",
       "style": "IPY_MODEL_036b37ecc61c4e69a683a483d1e0f7c6",
       "value": "Executing: 100%"
      }
     },
     "88d481daeee44ba3ba5bd7d926b308f6": {
      "model_module": "@jupyter-widgets/controls",
      "model_module_version": "2.0.0",
      "model_name": "HBoxModel",
      "state": {
       "children": [
        "IPY_MODEL_3a62fff6a8a84a54ad72521dc535a059",
        "IPY_MODEL_9247eeae661e4592b6f202e78e4ae56d",
        "IPY_MODEL_1bdf8dd9153f48f68ad66542e47a8cdf"
       ],
       "layout": "IPY_MODEL_123d47a3616c4bb38fc04d1daa24e2a0"
      }
     },
     "88ea1661dd8c4798b9e5165c30430d05": {
      "model_module": "@jupyter-widgets/base",
      "model_module_version": "2.0.0",
      "model_name": "LayoutModel",
      "state": {}
     },
     "88f09bcaeb2f40cdb796da293bbb1e65": {
      "model_module": "@jupyter-widgets/controls",
      "model_module_version": "2.0.0",
      "model_name": "HTMLModel",
      "state": {
       "layout": "IPY_MODEL_9e326b3b20cc41aabf1784de9e705c81",
       "style": "IPY_MODEL_a58ebad785cd4949a8a32e1ea0e5d317",
       "value": "Executing: 100%"
      }
     },
     "895cd481d4ae43469a729aaf61f915d0": {
      "model_module": "@jupyter-widgets/controls",
      "model_module_version": "2.0.0",
      "model_name": "FloatProgressModel",
      "state": {
       "bar_style": "success",
       "layout": "IPY_MODEL_ca6160ee8d174dac983705d28a497682",
       "max": 9,
       "style": "IPY_MODEL_fdf944815e2443e78f7de119a686af51",
       "value": 9
      }
     },
     "8a02dc5ec82443809068d4933523517a": {
      "model_module": "@jupyter-widgets/controls",
      "model_module_version": "2.0.0",
      "model_name": "HTMLStyleModel",
      "state": {
       "description_width": "",
       "font_size": null,
       "text_color": null
      }
     },
     "8adfb882fa5649daae81c898dfe386e1": {
      "model_module": "@jupyter-widgets/base",
      "model_module_version": "2.0.0",
      "model_name": "LayoutModel",
      "state": {}
     },
     "8b0e95d306c54697b49e398fdff87bbd": {
      "model_module": "@jupyter-widgets/controls",
      "model_module_version": "2.0.0",
      "model_name": "ProgressStyleModel",
      "state": {
       "description_width": ""
      }
     },
     "8b5d0054443d47f78573892d50fb4463": {
      "model_module": "@jupyter-widgets/base",
      "model_module_version": "2.0.0",
      "model_name": "LayoutModel",
      "state": {}
     },
     "8b72166d217f46818152b6efb9404ec0": {
      "model_module": "@jupyter-widgets/controls",
      "model_module_version": "2.0.0",
      "model_name": "HTMLModel",
      "state": {
       "layout": "IPY_MODEL_6a176b45d96448a08d039803fc9561bb",
       "style": "IPY_MODEL_bfba7ab03cc54a259d8aafcdef56a2a2",
       "value": "Executing: 100%"
      }
     },
     "8b92e22a8258425192f0f4cc349b8ba2": {
      "model_module": "@jupyter-widgets/base",
      "model_module_version": "2.0.0",
      "model_name": "LayoutModel",
      "state": {}
     },
     "8c3278b782f4434ab8512e620c143633": {
      "model_module": "@jupyter-widgets/controls",
      "model_module_version": "2.0.0",
      "model_name": "HTMLModel",
      "state": {
       "layout": "IPY_MODEL_71f0c43ec2ed433abb9a22866eda9df5",
       "style": "IPY_MODEL_1e1642609ec44971a2b1dfe563ba3c5d",
       "value": " 9/9 [00:11&lt;00:00,  1.09s/cell]"
      }
     },
     "8c5e8c9bedfb4549bacc26860affc7fd": {
      "model_module": "@jupyter-widgets/controls",
      "model_module_version": "2.0.0",
      "model_name": "HTMLStyleModel",
      "state": {
       "description_width": "",
       "font_size": null,
       "text_color": null
      }
     },
     "8c6d04ab075a44b2a88a90f8e589f2c5": {
      "model_module": "@jupyter-widgets/controls",
      "model_module_version": "2.0.0",
      "model_name": "HTMLStyleModel",
      "state": {
       "description_width": "",
       "font_size": null,
       "text_color": null
      }
     },
     "8c7790faba734e39b5d0011f29269aba": {
      "model_module": "@jupyter-widgets/base",
      "model_module_version": "2.0.0",
      "model_name": "LayoutModel",
      "state": {}
     },
     "8c7c83e989144fd8b9d8f65b9c421565": {
      "model_module": "@jupyter-widgets/controls",
      "model_module_version": "2.0.0",
      "model_name": "HTMLModel",
      "state": {
       "layout": "IPY_MODEL_6a2b49a4d8924c7a9c7e6a8e48e078ec",
       "style": "IPY_MODEL_8c6d04ab075a44b2a88a90f8e589f2c5",
       "value": "Executing: 100%"
      }
     },
     "8cea4abd264a40648b1e1ffc5f4af92f": {
      "model_module": "@jupyter-widgets/controls",
      "model_module_version": "2.0.0",
      "model_name": "HBoxModel",
      "state": {
       "children": [
        "IPY_MODEL_7eaa8b20a81c4e788ca720176a10aa05",
        "IPY_MODEL_454be62cee7d4e23a6095d3a5893734b",
        "IPY_MODEL_f6bed1bd47e847f99a18cc74e0578a9a"
       ],
       "layout": "IPY_MODEL_651a86a35baa4f9cb0986edc474bebd7"
      }
     },
     "8d703357ccc045d88a0efe651c246659": {
      "model_module": "@jupyter-widgets/base",
      "model_module_version": "2.0.0",
      "model_name": "LayoutModel",
      "state": {}
     },
     "8dfa0ed02eae42c7955893ff97fef9e5": {
      "model_module": "@jupyter-widgets/controls",
      "model_module_version": "2.0.0",
      "model_name": "HTMLModel",
      "state": {
       "layout": "IPY_MODEL_da4d12b95f5b45f89e0ccf6e1d04d327",
       "style": "IPY_MODEL_8021e0741664468db165b81fac719b2e",
       "value": "Executing: 100%"
      }
     },
     "8ec34654ff7a49979172040096be71e0": {
      "model_module": "@jupyter-widgets/base",
      "model_module_version": "2.0.0",
      "model_name": "LayoutModel",
      "state": {}
     },
     "8f39bfbf7fe54daea8326ebb6fb67f1c": {
      "model_module": "@jupyter-widgets/controls",
      "model_module_version": "2.0.0",
      "model_name": "HTMLModel",
      "state": {
       "layout": "IPY_MODEL_1a7da5b9441b4ef6b3e2a615d1ae168f",
       "style": "IPY_MODEL_1a8b8ae93eac4bf5b7b7948baaf9f7c9",
       "value": " 9/9 [00:19&lt;00:00,  2.15s/cell]"
      }
     },
     "8f7743f562c0490c99e7ef4c220544ea": {
      "model_module": "@jupyter-widgets/controls",
      "model_module_version": "2.0.0",
      "model_name": "HTMLStyleModel",
      "state": {
       "description_width": "",
       "font_size": null,
       "text_color": null
      }
     },
     "8f911bc933d5483ba4aeb372fe1fb6d4": {
      "model_module": "@jupyter-widgets/controls",
      "model_module_version": "2.0.0",
      "model_name": "HTMLModel",
      "state": {
       "layout": "IPY_MODEL_09cd4435b7c2427e8bc33af028539abe",
       "style": "IPY_MODEL_6eeb28b56565471bbc55db083c067405",
       "value": " 9/9 [00:11&lt;00:00,  1.07s/cell]"
      }
     },
     "8fd8722a772645eb91cd7c2ef9104b0d": {
      "model_module": "@jupyter-widgets/controls",
      "model_module_version": "2.0.0",
      "model_name": "HTMLModel",
      "state": {
       "layout": "IPY_MODEL_3455afb3464d4a5dae13da41a055d377",
       "style": "IPY_MODEL_4cad378ab9784b41a5ca3c3c479b42f2",
       "value": " 9/9 [00:25&lt;00:00,  3.33s/cell]"
      }
     },
     "90026cb9e3cb46f4a231764259511e4c": {
      "model_module": "@jupyter-widgets/controls",
      "model_module_version": "2.0.0",
      "model_name": "HTMLModel",
      "state": {
       "layout": "IPY_MODEL_d3753e97f08e4d079eafe1c8593b5028",
       "style": "IPY_MODEL_31e425a76882401ca507295a3b7aaeea",
       "value": "Executing: 100%"
      }
     },
     "906e10e84ab64199ad5bcbe40dbd37ee": {
      "model_module": "@jupyter-widgets/controls",
      "model_module_version": "2.0.0",
      "model_name": "HBoxModel",
      "state": {
       "children": [
        "IPY_MODEL_673c6c94100744ceb25f7b87193c8a51",
        "IPY_MODEL_1bcacf3018434c7692907c965eabf400",
        "IPY_MODEL_5f0ecc9b0c86429c8fc8e8f1a04c5dfe"
       ],
       "layout": "IPY_MODEL_c56e46e30fbd425aa53551c302fb2bea"
      }
     },
     "909d4e02a20842b885f2b93ff511a0ca": {
      "model_module": "@jupyter-widgets/controls",
      "model_module_version": "2.0.0",
      "model_name": "HTMLStyleModel",
      "state": {
       "description_width": "",
       "font_size": null,
       "text_color": null
      }
     },
     "90db59a5bac54ebf97ca065646f36658": {
      "model_module": "@jupyter-widgets/base",
      "model_module_version": "2.0.0",
      "model_name": "LayoutModel",
      "state": {}
     },
     "91ccdfb8e0b940f9966aa3643eb6cb51": {
      "model_module": "@jupyter-widgets/controls",
      "model_module_version": "2.0.0",
      "model_name": "HTMLStyleModel",
      "state": {
       "description_width": "",
       "font_size": null,
       "text_color": null
      }
     },
     "922fd2967a7c4cbb9afe1814ffb807cc": {
      "model_module": "@jupyter-widgets/controls",
      "model_module_version": "2.0.0",
      "model_name": "HTMLStyleModel",
      "state": {
       "description_width": "",
       "font_size": null,
       "text_color": null
      }
     },
     "9247eeae661e4592b6f202e78e4ae56d": {
      "model_module": "@jupyter-widgets/controls",
      "model_module_version": "2.0.0",
      "model_name": "FloatProgressModel",
      "state": {
       "bar_style": "success",
       "layout": "IPY_MODEL_994152bf005746f0b5ba08fd07272976",
       "max": 9,
       "style": "IPY_MODEL_01a25ce269b44bf980e4be01d1d5c987",
       "value": 9
      }
     },
     "925330eb9f29451dbdd8e6a247cbe9b0": {
      "model_module": "@jupyter-widgets/controls",
      "model_module_version": "2.0.0",
      "model_name": "ProgressStyleModel",
      "state": {
       "description_width": ""
      }
     },
     "925a74ad4ceb458db19ec5aac91a6897": {
      "model_module": "@jupyter-widgets/base",
      "model_module_version": "2.0.0",
      "model_name": "LayoutModel",
      "state": {}
     },
     "92af60d3a7b34e61bdd1f4413ca2404e": {
      "model_module": "@jupyter-widgets/controls",
      "model_module_version": "2.0.0",
      "model_name": "FloatProgressModel",
      "state": {
       "bar_style": "success",
       "layout": "IPY_MODEL_dab7207e81ea4ad99257b74e6854dfe1",
       "max": 9,
       "style": "IPY_MODEL_d887d86e301d44399c7d9459c1042215",
       "value": 9
      }
     },
     "935f28c2d9fb4d4da0d4e2a85ab5a8f5": {
      "model_module": "@jupyter-widgets/controls",
      "model_module_version": "2.0.0",
      "model_name": "HBoxModel",
      "state": {
       "children": [
        "IPY_MODEL_9f614a2869284753b6d4dcc0e67183e6",
        "IPY_MODEL_774f1c780912425b8fa1b0db75746ac7",
        "IPY_MODEL_595f2fa456fd4dd9897ccf1235cbb57f"
       ],
       "layout": "IPY_MODEL_723a7b1d86804b72b71372d8184e11a7"
      }
     },
     "93b58fe194254150b3a0e239e396ba39": {
      "model_module": "@jupyter-widgets/controls",
      "model_module_version": "2.0.0",
      "model_name": "HTMLModel",
      "state": {
       "layout": "IPY_MODEL_4ec90007e0cd4b48a92d20f633b9a31d",
       "style": "IPY_MODEL_533837a48c50482da47d903b883ef518",
       "value": "Executing: 100%"
      }
     },
     "93c61215a26e4a75baeaa5992eb5019e": {
      "model_module": "@jupyter-widgets/controls",
      "model_module_version": "2.0.0",
      "model_name": "HTMLStyleModel",
      "state": {
       "description_width": "",
       "font_size": null,
       "text_color": null
      }
     },
     "942d375462fd44b893097189b3b5cf24": {
      "model_module": "@jupyter-widgets/base",
      "model_module_version": "2.0.0",
      "model_name": "LayoutModel",
      "state": {}
     },
     "94436da6b90646b78b3a97594000075b": {
      "model_module": "@jupyter-widgets/base",
      "model_module_version": "2.0.0",
      "model_name": "LayoutModel",
      "state": {}
     },
     "948f4fef663a4bdbb9caaed9a51077f7": {
      "model_module": "@jupyter-widgets/controls",
      "model_module_version": "2.0.0",
      "model_name": "HTMLStyleModel",
      "state": {
       "description_width": "",
       "font_size": null,
       "text_color": null
      }
     },
     "9573c260bba842eea6258f19c8b8eca7": {
      "model_module": "@jupyter-widgets/controls",
      "model_module_version": "2.0.0",
      "model_name": "HTMLModel",
      "state": {
       "layout": "IPY_MODEL_e07301d181324458a67be5cf5256a537",
       "style": "IPY_MODEL_2936c6c938bb4b65ac12c5fe4204f444",
       "value": "Executing: 100%"
      }
     },
     "95ab75fb3f0c49548a82b30f266f54ef": {
      "model_module": "@jupyter-widgets/base",
      "model_module_version": "2.0.0",
      "model_name": "LayoutModel",
      "state": {}
     },
     "95cc75687f9545748c5cf396cf6fb2af": {
      "model_module": "@jupyter-widgets/controls",
      "model_module_version": "2.0.0",
      "model_name": "FloatProgressModel",
      "state": {
       "bar_style": "success",
       "layout": "IPY_MODEL_ecb5712685b34e1bbc4efa31a431c5bc",
       "max": 9,
       "style": "IPY_MODEL_4d237722b0ea41b2a99ecb3c90f08b9c",
       "value": 9
      }
     },
     "9608b03465cf4f69b998462e5b4b9da9": {
      "model_module": "@jupyter-widgets/controls",
      "model_module_version": "2.0.0",
      "model_name": "HBoxModel",
      "state": {
       "children": [
        "IPY_MODEL_faf887e1cabb4560a49a5d6bf697f88d",
        "IPY_MODEL_4eb582a093af40348076ab72b66457e2",
        "IPY_MODEL_8c3278b782f4434ab8512e620c143633"
       ],
       "layout": "IPY_MODEL_624e1ad69ed246cf977fc75cd4f0c5cc"
      }
     },
     "9763f669d41a4801b940df188ce0db48": {
      "model_module": "@jupyter-widgets/controls",
      "model_module_version": "2.0.0",
      "model_name": "HTMLStyleModel",
      "state": {
       "description_width": "",
       "font_size": null,
       "text_color": null
      }
     },
     "97ea71885ddc4664b7e216aeff7b8e24": {
      "model_module": "@jupyter-widgets/base",
      "model_module_version": "2.0.0",
      "model_name": "LayoutModel",
      "state": {}
     },
     "98538e4a452a40318937271f0721b498": {
      "model_module": "@jupyter-widgets/controls",
      "model_module_version": "2.0.0",
      "model_name": "FloatProgressModel",
      "state": {
       "bar_style": "success",
       "layout": "IPY_MODEL_709c98166470422faf1286afe362feca",
       "max": 9,
       "style": "IPY_MODEL_6a02f14765ec435f9fd5efaf136d91d9",
       "value": 9
      }
     },
     "994152bf005746f0b5ba08fd07272976": {
      "model_module": "@jupyter-widgets/base",
      "model_module_version": "2.0.0",
      "model_name": "LayoutModel",
      "state": {}
     },
     "99681495a96b4367bfcee7228ce8726d": {
      "model_module": "@jupyter-widgets/controls",
      "model_module_version": "2.0.0",
      "model_name": "HTMLModel",
      "state": {
       "layout": "IPY_MODEL_9d9782f627d746e38f9d0662d436d26f",
       "style": "IPY_MODEL_1ca15017636f41d3b19408a33cfd2359",
       "value": " 9/9 [00:16&lt;00:00,  1.74s/cell]"
      }
     },
     "9a868622ebed43c3ad5484a1263e763a": {
      "model_module": "@jupyter-widgets/controls",
      "model_module_version": "2.0.0",
      "model_name": "HTMLModel",
      "state": {
       "layout": "IPY_MODEL_08782582b5304f59a781acb87a7363cd",
       "style": "IPY_MODEL_e21cdd870da14bbcb3c2e2b1d6ddde8f",
       "value": " 9/9 [00:19&lt;00:00,  2.46s/cell]"
      }
     },
     "9acc4d7aa4904649a2b38dbaed285d11": {
      "model_module": "@jupyter-widgets/controls",
      "model_module_version": "2.0.0",
      "model_name": "FloatProgressModel",
      "state": {
       "bar_style": "success",
       "layout": "IPY_MODEL_5441d02cda97472f926497efe665a463",
       "max": 9,
       "style": "IPY_MODEL_6252154e3c0944d3a3cd2d33d498bd1e",
       "value": 9
      }
     },
     "9ad2548c56e14099adf6db1bb2023723": {
      "model_module": "@jupyter-widgets/base",
      "model_module_version": "2.0.0",
      "model_name": "LayoutModel",
      "state": {}
     },
     "9ae746680f2c4195a424fd86daf2984f": {
      "model_module": "@jupyter-widgets/base",
      "model_module_version": "2.0.0",
      "model_name": "LayoutModel",
      "state": {}
     },
     "9b492fd90f4f496792a53e490a4d0db1": {
      "model_module": "@jupyter-widgets/controls",
      "model_module_version": "2.0.0",
      "model_name": "HTMLStyleModel",
      "state": {
       "description_width": "",
       "font_size": null,
       "text_color": null
      }
     },
     "9b83abb04df84444854a9403a1d73755": {
      "model_module": "@jupyter-widgets/base",
      "model_module_version": "2.0.0",
      "model_name": "LayoutModel",
      "state": {}
     },
     "9bee48b116784a7691faa77afea3234b": {
      "model_module": "@jupyter-widgets/base",
      "model_module_version": "2.0.0",
      "model_name": "LayoutModel",
      "state": {}
     },
     "9c94e284bb09479bba6e5c0015d8cd05": {
      "model_module": "@jupyter-widgets/controls",
      "model_module_version": "2.0.0",
      "model_name": "HTMLModel",
      "state": {
       "layout": "IPY_MODEL_0d630fe80c0a4880bae63d2f26fbe4a2",
       "style": "IPY_MODEL_b5736871802a4e69a4cfcad491794cf7",
       "value": "Executing: 100%"
      }
     },
     "9cab8d1554254d85a13575a6276c521c": {
      "model_module": "@jupyter-widgets/controls",
      "model_module_version": "2.0.0",
      "model_name": "HTMLStyleModel",
      "state": {
       "description_width": "",
       "font_size": null,
       "text_color": null
      }
     },
     "9d2cdf490cad477f9e5c12d5dd072352": {
      "model_module": "@jupyter-widgets/controls",
      "model_module_version": "2.0.0",
      "model_name": "FloatProgressModel",
      "state": {
       "bar_style": "success",
       "layout": "IPY_MODEL_06dce1180f8545d0acd4404f4977334f",
       "max": 9,
       "style": "IPY_MODEL_0c4bd75b9b364aafa5d9ae8c1002d5d0",
       "value": 9
      }
     },
     "9d438abe493d421e819a9bee9cb3c9d1": {
      "model_module": "@jupyter-widgets/base",
      "model_module_version": "2.0.0",
      "model_name": "LayoutModel",
      "state": {}
     },
     "9d9782f627d746e38f9d0662d436d26f": {
      "model_module": "@jupyter-widgets/base",
      "model_module_version": "2.0.0",
      "model_name": "LayoutModel",
      "state": {}
     },
     "9e185295441b4b5a9cfc0adc53acb634": {
      "model_module": "@jupyter-widgets/controls",
      "model_module_version": "2.0.0",
      "model_name": "ProgressStyleModel",
      "state": {
       "description_width": ""
      }
     },
     "9e326b3b20cc41aabf1784de9e705c81": {
      "model_module": "@jupyter-widgets/base",
      "model_module_version": "2.0.0",
      "model_name": "LayoutModel",
      "state": {}
     },
     "9f614a2869284753b6d4dcc0e67183e6": {
      "model_module": "@jupyter-widgets/controls",
      "model_module_version": "2.0.0",
      "model_name": "HTMLModel",
      "state": {
       "layout": "IPY_MODEL_db98fadd34e34e2e89e395197b846a71",
       "style": "IPY_MODEL_a59e29b52366435e8844139d11f2babd",
       "value": "Executing: 100%"
      }
     },
     "a0e20c2700cf47a2a7cf3ed9689b64c0": {
      "model_module": "@jupyter-widgets/controls",
      "model_module_version": "2.0.0",
      "model_name": "HTMLStyleModel",
      "state": {
       "description_width": "",
       "font_size": null,
       "text_color": null
      }
     },
     "a119baead0574b779cf98c932320037c": {
      "model_module": "@jupyter-widgets/controls",
      "model_module_version": "2.0.0",
      "model_name": "HTMLStyleModel",
      "state": {
       "description_width": "",
       "font_size": null,
       "text_color": null
      }
     },
     "a1655b3686ae4edd98198b4e3999e5aa": {
      "model_module": "@jupyter-widgets/controls",
      "model_module_version": "2.0.0",
      "model_name": "HTMLModel",
      "state": {
       "layout": "IPY_MODEL_17939df8bb304e15aa7ba4ae365189fc",
       "style": "IPY_MODEL_30339098f18c4723afca3176cda67799",
       "value": " 9/9 [00:42&lt;00:00,  5.30s/cell]"
      }
     },
     "a1804edf883d45be9450a9ca8812cb60": {
      "model_module": "@jupyter-widgets/base",
      "model_module_version": "2.0.0",
      "model_name": "LayoutModel",
      "state": {}
     },
     "a1e01dad0da94406872dd4663e59a1c1": {
      "model_module": "@jupyter-widgets/controls",
      "model_module_version": "2.0.0",
      "model_name": "FloatProgressModel",
      "state": {
       "bar_style": "success",
       "layout": "IPY_MODEL_0a95d0cbc352475faf287cd7c49e667d",
       "max": 9,
       "style": "IPY_MODEL_eec7b311243c4b9c9d4e2a50d29a6c03",
       "value": 9
      }
     },
     "a2703f18981f457d834eebc3f028ed2c": {
      "model_module": "@jupyter-widgets/controls",
      "model_module_version": "2.0.0",
      "model_name": "HBoxModel",
      "state": {
       "children": [
        "IPY_MODEL_b5bb1d61a31e4e1db152fa366f19bcb6",
        "IPY_MODEL_e030e1dcad3d44c6a5eee9430b937176",
        "IPY_MODEL_c4b101f502534420888b4310e9535811"
       ],
       "layout": "IPY_MODEL_45c69bee22d348d4a411f9854d6f659b"
      }
     },
     "a29d6f99a04649ff8ddf1696bedd773e": {
      "model_module": "@jupyter-widgets/controls",
      "model_module_version": "2.0.0",
      "model_name": "FloatProgressModel",
      "state": {
       "bar_style": "success",
       "layout": "IPY_MODEL_1d69d7e1fa5a40f0a0a34c68127e609b",
       "max": 9,
       "style": "IPY_MODEL_666375fa292e45209bbdaa71406c86c2",
       "value": 9
      }
     },
     "a2b367573430448cb3a377901669a593": {
      "model_module": "@jupyter-widgets/controls",
      "model_module_version": "2.0.0",
      "model_name": "ProgressStyleModel",
      "state": {
       "description_width": ""
      }
     },
     "a31b8ba71ced4724b14b44a575141505": {
      "model_module": "@jupyter-widgets/controls",
      "model_module_version": "2.0.0",
      "model_name": "HTMLStyleModel",
      "state": {
       "description_width": "",
       "font_size": null,
       "text_color": null
      }
     },
     "a3bd7629077e4a5c885af6f6fe2befd9": {
      "model_module": "@jupyter-widgets/base",
      "model_module_version": "2.0.0",
      "model_name": "LayoutModel",
      "state": {}
     },
     "a4041edf53034480b2d7da49c8e19124": {
      "model_module": "@jupyter-widgets/controls",
      "model_module_version": "2.0.0",
      "model_name": "HTMLModel",
      "state": {
       "layout": "IPY_MODEL_d0db2ef342c34b64848b4f48cf1af50d",
       "style": "IPY_MODEL_87f4c65fa11a4030b025a41a1a5df49c",
       "value": " 9/9 [00:30&lt;00:00,  4.26s/cell]"
      }
     },
     "a58ebad785cd4949a8a32e1ea0e5d317": {
      "model_module": "@jupyter-widgets/controls",
      "model_module_version": "2.0.0",
      "model_name": "HTMLStyleModel",
      "state": {
       "description_width": "",
       "font_size": null,
       "text_color": null
      }
     },
     "a59e29b52366435e8844139d11f2babd": {
      "model_module": "@jupyter-widgets/controls",
      "model_module_version": "2.0.0",
      "model_name": "HTMLStyleModel",
      "state": {
       "description_width": "",
       "font_size": null,
       "text_color": null
      }
     },
     "a5ab1a529afa477291f243d9f9803b66": {
      "model_module": "@jupyter-widgets/base",
      "model_module_version": "2.0.0",
      "model_name": "LayoutModel",
      "state": {}
     },
     "a600ae57f61c4122a6a41f6902ce3a80": {
      "model_module": "@jupyter-widgets/controls",
      "model_module_version": "2.0.0",
      "model_name": "HBoxModel",
      "state": {
       "children": [
        "IPY_MODEL_a83fb77455a94627826dc1548d23c0f2",
        "IPY_MODEL_a29d6f99a04649ff8ddf1696bedd773e",
        "IPY_MODEL_33ad6ac511bd42ec8e6e1cd5587499e2"
       ],
       "layout": "IPY_MODEL_4b2fe6ba98ac40a3b6009ee91427752e"
      }
     },
     "a6273ccd40fb4ae38eda6b609a3084e3": {
      "model_module": "@jupyter-widgets/controls",
      "model_module_version": "2.0.0",
      "model_name": "HTMLModel",
      "state": {
       "layout": "IPY_MODEL_ef76b42ed08e422e9a82789435a7569f",
       "style": "IPY_MODEL_7147fce5f62f4c71bad71478d00dd93c",
       "value": " 9/9 [00:30&lt;00:00,  4.18s/cell]"
      }
     },
     "a6f5d0dec84f48e3a6fc99af96476e71": {
      "model_module": "@jupyter-widgets/controls",
      "model_module_version": "2.0.0",
      "model_name": "HBoxModel",
      "state": {
       "children": [
        "IPY_MODEL_88d13e322823430cacd105085f6b2dfe",
        "IPY_MODEL_895cd481d4ae43469a729aaf61f915d0",
        "IPY_MODEL_a4041edf53034480b2d7da49c8e19124"
       ],
       "layout": "IPY_MODEL_88042852737f4c5184e6d8a7f0c450d2"
      }
     },
     "a6fd5efff45440eb886adab289c53374": {
      "model_module": "@jupyter-widgets/controls",
      "model_module_version": "2.0.0",
      "model_name": "HBoxModel",
      "state": {
       "children": [
        "IPY_MODEL_d5dadd4369cc44f3b523f6a71899a503",
        "IPY_MODEL_868a8a8206134b3ea66d557cf15dba3f",
        "IPY_MODEL_24acc4ab6a224c33b1285a5adb66b7f8"
       ],
       "layout": "IPY_MODEL_b5b61f778b4d444ab2e1e7b92c55585b"
      }
     },
     "a7f51f735f1e4e75a6be0ca2842ea8b3": {
      "model_module": "@jupyter-widgets/base",
      "model_module_version": "2.0.0",
      "model_name": "LayoutModel",
      "state": {}
     },
     "a80d74bb3ff543dba9a5945898866b6f": {
      "model_module": "@jupyter-widgets/base",
      "model_module_version": "2.0.0",
      "model_name": "LayoutModel",
      "state": {}
     },
     "a83299a583f74241a0395e67b7200a07": {
      "model_module": "@jupyter-widgets/controls",
      "model_module_version": "2.0.0",
      "model_name": "ProgressStyleModel",
      "state": {
       "description_width": ""
      }
     },
     "a83702ca06ae4eeaad308de20d10b017": {
      "model_module": "@jupyter-widgets/controls",
      "model_module_version": "2.0.0",
      "model_name": "HTMLModel",
      "state": {
       "layout": "IPY_MODEL_ba131e0335504def934a81b6fe3a475d",
       "style": "IPY_MODEL_62f9643c10f146a1b35d44dc76470241",
       "value": "Executing: 100%"
      }
     },
     "a83fb77455a94627826dc1548d23c0f2": {
      "model_module": "@jupyter-widgets/controls",
      "model_module_version": "2.0.0",
      "model_name": "HTMLModel",
      "state": {
       "layout": "IPY_MODEL_d477fc5207fb4ab395b377c92cf4c7fc",
       "style": "IPY_MODEL_1a612738966e4a4f839e73d7c195ce87",
       "value": "Executing: 100%"
      }
     },
     "a90242aad6e14e2295d643d15413a1ed": {
      "model_module": "@jupyter-widgets/base",
      "model_module_version": "2.0.0",
      "model_name": "LayoutModel",
      "state": {}
     },
     "a94dbed3b4fe430fb349d8d985bf89e2": {
      "model_module": "@jupyter-widgets/base",
      "model_module_version": "2.0.0",
      "model_name": "LayoutModel",
      "state": {}
     },
     "a9635fe1b95f4833bfb99b6e5cf0cfcc": {
      "model_module": "@jupyter-widgets/controls",
      "model_module_version": "2.0.0",
      "model_name": "FloatProgressModel",
      "state": {
       "bar_style": "success",
       "layout": "IPY_MODEL_183ddd2e6b3c4eb8895e75e160aa05c6",
       "max": 9,
       "style": "IPY_MODEL_3969f40e6e0f41468b0fcb514117693e",
       "value": 9
      }
     },
     "a9964076331e40c6b5abd7e13a9be717": {
      "model_module": "@jupyter-widgets/base",
      "model_module_version": "2.0.0",
      "model_name": "LayoutModel",
      "state": {}
     },
     "a9d0677f6952430ab47fe22be07d2ef2": {
      "model_module": "@jupyter-widgets/controls",
      "model_module_version": "2.0.0",
      "model_name": "HTMLStyleModel",
      "state": {
       "description_width": "",
       "font_size": null,
       "text_color": null
      }
     },
     "aa30e59178974aa28d9bb8359a2e6b67": {
      "model_module": "@jupyter-widgets/controls",
      "model_module_version": "2.0.0",
      "model_name": "HTMLModel",
      "state": {
       "layout": "IPY_MODEL_7597f0647a024d0bab7619ddcde7bd65",
       "style": "IPY_MODEL_4fa6a059b2384bef8e14193efa3c4056",
       "value": "Executing: 100%"
      }
     },
     "aa40268b8b6244269233035fb42bb042": {
      "model_module": "@jupyter-widgets/controls",
      "model_module_version": "2.0.0",
      "model_name": "ProgressStyleModel",
      "state": {
       "description_width": ""
      }
     },
     "aab66dd440eb4102955651ff976b523e": {
      "model_module": "@jupyter-widgets/controls",
      "model_module_version": "2.0.0",
      "model_name": "FloatProgressModel",
      "state": {
       "bar_style": "success",
       "layout": "IPY_MODEL_2cb40363b86746e58339593708010955",
       "max": 9,
       "style": "IPY_MODEL_925330eb9f29451dbdd8e6a247cbe9b0",
       "value": 9
      }
     },
     "aae9a3e540344ef49de62617c3b1d93b": {
      "model_module": "@jupyter-widgets/controls",
      "model_module_version": "2.0.0",
      "model_name": "HTMLStyleModel",
      "state": {
       "description_width": "",
       "font_size": null,
       "text_color": null
      }
     },
     "aaeabda2a7d0449f821a064eff25e7de": {
      "model_module": "@jupyter-widgets/controls",
      "model_module_version": "2.0.0",
      "model_name": "HTMLModel",
      "state": {
       "layout": "IPY_MODEL_a94dbed3b4fe430fb349d8d985bf89e2",
       "style": "IPY_MODEL_2aa5037fb7fd486a81b6b9ffe998a23b",
       "value": " 9/9 [00:13&lt;00:00,  1.34s/cell]"
      }
     },
     "aaf0fba2f5ea4b8d940cfdc9d2258c12": {
      "model_module": "@jupyter-widgets/controls",
      "model_module_version": "2.0.0",
      "model_name": "HTMLModel",
      "state": {
       "layout": "IPY_MODEL_4d21f0e330bc46eb9b2ed9b62b571ac2",
       "style": "IPY_MODEL_7d92f8dfd4f24c8aa0c1ec159aa0266b",
       "value": "Executing: 100%"
      }
     },
     "abbd0b1cc94e478d86d9c5d67eaf95da": {
      "model_module": "@jupyter-widgets/controls",
      "model_module_version": "2.0.0",
      "model_name": "HTMLStyleModel",
      "state": {
       "description_width": "",
       "font_size": null,
       "text_color": null
      }
     },
     "abf997954c314b9b846b4337b37a036d": {
      "model_module": "@jupyter-widgets/controls",
      "model_module_version": "2.0.0",
      "model_name": "HTMLStyleModel",
      "state": {
       "description_width": "",
       "font_size": null,
       "text_color": null
      }
     },
     "ac3ac6cb724c4188a0b9d52a66eefecb": {
      "model_module": "@jupyter-widgets/base",
      "model_module_version": "2.0.0",
      "model_name": "LayoutModel",
      "state": {}
     },
     "ac61d97703e8452ebdbd9a4ac48e58a4": {
      "model_module": "@jupyter-widgets/controls",
      "model_module_version": "2.0.0",
      "model_name": "HTMLModel",
      "state": {
       "layout": "IPY_MODEL_b2af9fb8d2ac484ab17c52a4fc0e0652",
       "style": "IPY_MODEL_1a27bed6bb7d47628e3eca2c76a55e48",
       "value": " 9/9 [00:30&lt;00:00,  2.99s/cell]"
      }
     },
     "aca168b5923a491ea0ebd3393987c873": {
      "model_module": "@jupyter-widgets/controls",
      "model_module_version": "2.0.0",
      "model_name": "HTMLStyleModel",
      "state": {
       "description_width": "",
       "font_size": null,
       "text_color": null
      }
     },
     "ad5b4d564288413e8d0d68bb5f341b29": {
      "model_module": "@jupyter-widgets/controls",
      "model_module_version": "2.0.0",
      "model_name": "HBoxModel",
      "state": {
       "children": [
        "IPY_MODEL_93b58fe194254150b3a0e239e396ba39",
        "IPY_MODEL_d08dd2935b1049509a1b46cafc99eab7",
        "IPY_MODEL_32888038ec4e460997e63e900e41dfac"
       ],
       "layout": "IPY_MODEL_5465f98cfdfa4a59b2f61afdf2dfcf0b"
      }
     },
     "ad8bc249375748d1a19e01391e48b4a8": {
      "model_module": "@jupyter-widgets/controls",
      "model_module_version": "2.0.0",
      "model_name": "HTMLModel",
      "state": {
       "layout": "IPY_MODEL_4db76a037f2b4cb6b997fdb6ebe73faf",
       "style": "IPY_MODEL_d777309ca7ff4261bf6de4139d5d7617",
       "value": " 9/9 [00:25&lt;00:00,  3.48s/cell]"
      }
     },
     "adc0677c968c40d3b884b0b895c670eb": {
      "model_module": "@jupyter-widgets/controls",
      "model_module_version": "2.0.0",
      "model_name": "HTMLStyleModel",
      "state": {
       "description_width": "",
       "font_size": null,
       "text_color": null
      }
     },
     "ae05ccb8a03f488891bcb1d54b56341d": {
      "model_module": "@jupyter-widgets/controls",
      "model_module_version": "2.0.0",
      "model_name": "HBoxModel",
      "state": {
       "children": [
        "IPY_MODEL_9c94e284bb09479bba6e5c0015d8cd05",
        "IPY_MODEL_291cb6b2ff554d528366208e38ea7abc",
        "IPY_MODEL_f379e4eb6f05426dab18a55c51c23f1c"
       ],
       "layout": "IPY_MODEL_011ffdf778004cbbaf146e09bc68b5c2"
      }
     },
     "ae20c4a1842c4cf5ab068b075b3bac90": {
      "model_module": "@jupyter-widgets/controls",
      "model_module_version": "2.0.0",
      "model_name": "HTMLModel",
      "state": {
       "layout": "IPY_MODEL_baf5418d48fe4bf9823fe7d34745eb24",
       "style": "IPY_MODEL_2622ac41e6284a278fa981633237bfe6",
       "value": "Executing: 100%"
      }
     },
     "ae216d46af7a4fb0befb10a35a0aabad": {
      "model_module": "@jupyter-widgets/base",
      "model_module_version": "2.0.0",
      "model_name": "LayoutModel",
      "state": {}
     },
     "ae4f9aae4a6341f68f5a0a458e3d3e9f": {
      "model_module": "@jupyter-widgets/controls",
      "model_module_version": "2.0.0",
      "model_name": "HTMLModel",
      "state": {
       "layout": "IPY_MODEL_76d3e5e8cd8542cc8d3c209df45727ad",
       "style": "IPY_MODEL_d2e58260987b4f1ca61d4f53b23985a1",
       "value": "Executing: 100%"
      }
     },
     "ae84bc99af0b4c37a7a24c84b07322b8": {
      "model_module": "@jupyter-widgets/base",
      "model_module_version": "2.0.0",
      "model_name": "LayoutModel",
      "state": {}
     },
     "ae90d39005e94e338640610b53cefce6": {
      "model_module": "@jupyter-widgets/base",
      "model_module_version": "2.0.0",
      "model_name": "LayoutModel",
      "state": {}
     },
     "aebf4020477a4b48993754e3e86a5078": {
      "model_module": "@jupyter-widgets/controls",
      "model_module_version": "2.0.0",
      "model_name": "HTMLModel",
      "state": {
       "layout": "IPY_MODEL_12a3909ae4e24e139b886cd6a1a673ec",
       "style": "IPY_MODEL_9763f669d41a4801b940df188ce0db48",
       "value": " 9/9 [00:31&lt;00:00,  3.67s/cell]"
      }
     },
     "af9a402e7de8473db00b21a2074bf566": {
      "model_module": "@jupyter-widgets/base",
      "model_module_version": "2.0.0",
      "model_name": "LayoutModel",
      "state": {}
     },
     "afe5ca9adbb6443887ce512bee4b81f1": {
      "model_module": "@jupyter-widgets/base",
      "model_module_version": "2.0.0",
      "model_name": "LayoutModel",
      "state": {}
     },
     "b007ae3a081c4697b6be5ef17ed136bb": {
      "model_module": "@jupyter-widgets/base",
      "model_module_version": "2.0.0",
      "model_name": "LayoutModel",
      "state": {}
     },
     "b020d91edb644e62be18e7ab87ce438d": {
      "model_module": "@jupyter-widgets/base",
      "model_module_version": "2.0.0",
      "model_name": "LayoutModel",
      "state": {}
     },
     "b06aa9a836324ec6af51c59886a9fe6c": {
      "model_module": "@jupyter-widgets/base",
      "model_module_version": "2.0.0",
      "model_name": "LayoutModel",
      "state": {}
     },
     "b108f0d7f5d64c2bb492e32021a895a1": {
      "model_module": "@jupyter-widgets/base",
      "model_module_version": "2.0.0",
      "model_name": "LayoutModel",
      "state": {}
     },
     "b1456c4457464a5aa9de15748679ff3e": {
      "model_module": "@jupyter-widgets/controls",
      "model_module_version": "2.0.0",
      "model_name": "HBoxModel",
      "state": {
       "children": [
        "IPY_MODEL_dbc871b565dc41c99578d39b6182214d",
        "IPY_MODEL_bbbec93d3d914332b8df6ec612cb9b38",
        "IPY_MODEL_876c271af16d4efbaa98293a11fff0f1"
       ],
       "layout": "IPY_MODEL_33e4b6f2fb2340dd97a898ce2c33401e"
      }
     },
     "b147e5e16f1c41968fae45ecf649c95e": {
      "model_module": "@jupyter-widgets/controls",
      "model_module_version": "2.0.0",
      "model_name": "HBoxModel",
      "state": {
       "children": [
        "IPY_MODEL_b6cfeb301a874133aa11c263766634be",
        "IPY_MODEL_5102f763e5c546ea9a6877aa0da774b6",
        "IPY_MODEL_eaa77a4e80d24589ac87531af0c418b6"
       ],
       "layout": "IPY_MODEL_e562f4a34a0e4ac08ea362e158e6b41a"
      }
     },
     "b17e825986a14ea5825e449347880e72": {
      "model_module": "@jupyter-widgets/base",
      "model_module_version": "2.0.0",
      "model_name": "LayoutModel",
      "state": {}
     },
     "b1ce5b49f2ab40209e5de4955d898fe8": {
      "model_module": "@jupyter-widgets/base",
      "model_module_version": "2.0.0",
      "model_name": "LayoutModel",
      "state": {}
     },
     "b29446779d4b4a3ea628d6911d0ba78a": {
      "model_module": "@jupyter-widgets/controls",
      "model_module_version": "2.0.0",
      "model_name": "ProgressStyleModel",
      "state": {
       "description_width": ""
      }
     },
     "b29d4870d5514181914abc87588a8a3e": {
      "model_module": "@jupyter-widgets/base",
      "model_module_version": "2.0.0",
      "model_name": "LayoutModel",
      "state": {}
     },
     "b2af9fb8d2ac484ab17c52a4fc0e0652": {
      "model_module": "@jupyter-widgets/base",
      "model_module_version": "2.0.0",
      "model_name": "LayoutModel",
      "state": {}
     },
     "b32d88794e25455ba5032e3d61d5fa55": {
      "model_module": "@jupyter-widgets/controls",
      "model_module_version": "2.0.0",
      "model_name": "HTMLModel",
      "state": {
       "layout": "IPY_MODEL_477c1eb7edef451485eb116097c77513",
       "style": "IPY_MODEL_e37098558a7c46c5b6d135ec9d605293",
       "value": " 9/9 [00:26&lt;00:00,  3.22s/cell]"
      }
     },
     "b34f89b649b64efbbe3ca32d4fce3884": {
      "model_module": "@jupyter-widgets/controls",
      "model_module_version": "2.0.0",
      "model_name": "HTMLStyleModel",
      "state": {
       "description_width": "",
       "font_size": null,
       "text_color": null
      }
     },
     "b3763ecbc39a4b699e4b37ff68a4a0d9": {
      "model_module": "@jupyter-widgets/base",
      "model_module_version": "2.0.0",
      "model_name": "LayoutModel",
      "state": {}
     },
     "b3b45e8d7245414f9324455d4d455ecc": {
      "model_module": "@jupyter-widgets/controls",
      "model_module_version": "2.0.0",
      "model_name": "HBoxModel",
      "state": {
       "children": [
        "IPY_MODEL_55de9c5576fd4c2da4151c7cedda76cf",
        "IPY_MODEL_110189d9669a43929b5788e549ad60cc",
        "IPY_MODEL_a6273ccd40fb4ae38eda6b609a3084e3"
       ],
       "layout": "IPY_MODEL_52acea841e11400bb3bcb7a0dadbabbd"
      }
     },
     "b3b94650855944ecb957153cbad2593f": {
      "model_module": "@jupyter-widgets/base",
      "model_module_version": "2.0.0",
      "model_name": "LayoutModel",
      "state": {}
     },
     "b3e1068c3efb468190d3fb99285eca48": {
      "model_module": "@jupyter-widgets/controls",
      "model_module_version": "2.0.0",
      "model_name": "HTMLModel",
      "state": {
       "layout": "IPY_MODEL_c942e2d21ea64a059139dd840853a330",
       "style": "IPY_MODEL_1d1c011d0cc44b9cb133a53223c431e8",
       "value": " 9/9 [00:13&lt;00:00,  1.47s/cell]"
      }
     },
     "b3e3c00edcdd42f381a21843f2ae7101": {
      "model_module": "@jupyter-widgets/base",
      "model_module_version": "2.0.0",
      "model_name": "LayoutModel",
      "state": {}
     },
     "b4407f285eae4eb39bc961577c483a1d": {
      "model_module": "@jupyter-widgets/controls",
      "model_module_version": "2.0.0",
      "model_name": "HBoxModel",
      "state": {
       "children": [
        "IPY_MODEL_8b72166d217f46818152b6efb9404ec0",
        "IPY_MODEL_f4949536ce91493592d44577db2edd14",
        "IPY_MODEL_99681495a96b4367bfcee7228ce8726d"
       ],
       "layout": "IPY_MODEL_ba75a0c01d484f209a03f0c26a103bc9"
      }
     },
     "b5736871802a4e69a4cfcad491794cf7": {
      "model_module": "@jupyter-widgets/controls",
      "model_module_version": "2.0.0",
      "model_name": "HTMLStyleModel",
      "state": {
       "description_width": "",
       "font_size": null,
       "text_color": null
      }
     },
     "b5b61f778b4d444ab2e1e7b92c55585b": {
      "model_module": "@jupyter-widgets/base",
      "model_module_version": "2.0.0",
      "model_name": "LayoutModel",
      "state": {}
     },
     "b5bb1d61a31e4e1db152fa366f19bcb6": {
      "model_module": "@jupyter-widgets/controls",
      "model_module_version": "2.0.0",
      "model_name": "HTMLModel",
      "state": {
       "layout": "IPY_MODEL_1e649c54ac1b44e8aa6dcae95fce102b",
       "style": "IPY_MODEL_a31b8ba71ced4724b14b44a575141505",
       "value": "Executing: 100%"
      }
     },
     "b66b4c2892004da68b43ba2f1f8646a5": {
      "model_module": "@jupyter-widgets/controls",
      "model_module_version": "2.0.0",
      "model_name": "ProgressStyleModel",
      "state": {
       "description_width": ""
      }
     },
     "b6b69767804c4409885f5ab5d0098fc7": {
      "model_module": "@jupyter-widgets/controls",
      "model_module_version": "2.0.0",
      "model_name": "HTMLStyleModel",
      "state": {
       "description_width": "",
       "font_size": null,
       "text_color": null
      }
     },
     "b6cb7ae7b57649969317b2429ba54f65": {
      "model_module": "@jupyter-widgets/base",
      "model_module_version": "2.0.0",
      "model_name": "LayoutModel",
      "state": {}
     },
     "b6cfeb301a874133aa11c263766634be": {
      "model_module": "@jupyter-widgets/controls",
      "model_module_version": "2.0.0",
      "model_name": "HTMLModel",
      "state": {
       "layout": "IPY_MODEL_7e6f534995e148f89d0ad293e193fa9a",
       "style": "IPY_MODEL_d880031fa98a4772b56708137b8ed924",
       "value": "Executing: 100%"
      }
     },
     "b6dfabde0a25442486be1e8f64dd9c04": {
      "model_module": "@jupyter-widgets/controls",
      "model_module_version": "2.0.0",
      "model_name": "HTMLModel",
      "state": {
       "layout": "IPY_MODEL_28ab392384454ec58a6d6b3e7553c00b",
       "style": "IPY_MODEL_0db4de825d5a43d696ccb73a2fb1e3bc",
       "value": "Executing: 100%"
      }
     },
     "b6e7a7db6ad44f7ba30129ab46a4b22b": {
      "model_module": "@jupyter-widgets/controls",
      "model_module_version": "2.0.0",
      "model_name": "FloatProgressModel",
      "state": {
       "bar_style": "success",
       "layout": "IPY_MODEL_dc9ea3d18b6b49738e246258dc9fe443",
       "max": 9,
       "style": "IPY_MODEL_d6a49f093439476da7c8b7a3ba128490",
       "value": 9
      }
     },
     "b728b258214944ff9c63c5f5019d66d1": {
      "model_module": "@jupyter-widgets/controls",
      "model_module_version": "2.0.0",
      "model_name": "HTMLStyleModel",
      "state": {
       "description_width": "",
       "font_size": null,
       "text_color": null
      }
     },
     "b739c8e4a89e4af284a7de59657b7756": {
      "model_module": "@jupyter-widgets/controls",
      "model_module_version": "2.0.0",
      "model_name": "HBoxModel",
      "state": {
       "children": [
        "IPY_MODEL_cb28be4fea4d4379b84b541f27d6c154",
        "IPY_MODEL_789ebcdb03784ba1a3b46418c8193368",
        "IPY_MODEL_1ad5413a699a4480b8803b61f523f5ac"
       ],
       "layout": "IPY_MODEL_c7f9e816446b40259a7c1a2c296434c8"
      }
     },
     "b7a8e7aa806b4f76b57a66050f8df4a5": {
      "model_module": "@jupyter-widgets/controls",
      "model_module_version": "2.0.0",
      "model_name": "FloatProgressModel",
      "state": {
       "bar_style": "success",
       "layout": "IPY_MODEL_ccdb707fb4684e53b2154f8aa4803f84",
       "max": 9,
       "style": "IPY_MODEL_b66b4c2892004da68b43ba2f1f8646a5",
       "value": 9
      }
     },
     "b810ac9a7f4744caae9195ee80534802": {
      "model_module": "@jupyter-widgets/base",
      "model_module_version": "2.0.0",
      "model_name": "LayoutModel",
      "state": {}
     },
     "b943b18e29794e66b280b7aa4717d759": {
      "model_module": "@jupyter-widgets/controls",
      "model_module_version": "2.0.0",
      "model_name": "HTMLModel",
      "state": {
       "layout": "IPY_MODEL_edf8c379dc624a35a5bd5bef78d157b2",
       "style": "IPY_MODEL_bb05ed81267c421c8286a507255de744",
       "value": " 9/9 [00:16&lt;00:00,  1.71s/cell]"
      }
     },
     "b9d1b4579a2b45e6add5882c05f71e89": {
      "model_module": "@jupyter-widgets/base",
      "model_module_version": "2.0.0",
      "model_name": "LayoutModel",
      "state": {}
     },
     "ba131e0335504def934a81b6fe3a475d": {
      "model_module": "@jupyter-widgets/base",
      "model_module_version": "2.0.0",
      "model_name": "LayoutModel",
      "state": {}
     },
     "ba2a20520c41406ca3b08fa5fbb8851f": {
      "model_module": "@jupyter-widgets/controls",
      "model_module_version": "2.0.0",
      "model_name": "HTMLStyleModel",
      "state": {
       "description_width": "",
       "font_size": null,
       "text_color": null
      }
     },
     "ba69b68a39234fe5ab1a7d7eb023d879": {
      "model_module": "@jupyter-widgets/controls",
      "model_module_version": "2.0.0",
      "model_name": "HTMLStyleModel",
      "state": {
       "description_width": "",
       "font_size": null,
       "text_color": null
      }
     },
     "ba6b57db09cf412ab31a5c0db36b81e3": {
      "model_module": "@jupyter-widgets/controls",
      "model_module_version": "2.0.0",
      "model_name": "HTMLModel",
      "state": {
       "layout": "IPY_MODEL_9ae746680f2c4195a424fd86daf2984f",
       "style": "IPY_MODEL_3ff34ff70e2448238ef89457f4c9efb2",
       "value": "Executing: 100%"
      }
     },
     "ba75a0c01d484f209a03f0c26a103bc9": {
      "model_module": "@jupyter-widgets/base",
      "model_module_version": "2.0.0",
      "model_name": "LayoutModel",
      "state": {}
     },
     "ba93545faf784371bb88b9537ef909ff": {
      "model_module": "@jupyter-widgets/base",
      "model_module_version": "2.0.0",
      "model_name": "LayoutModel",
      "state": {}
     },
     "baa77adb787a46f088989ee1f7a67ca3": {
      "model_module": "@jupyter-widgets/controls",
      "model_module_version": "2.0.0",
      "model_name": "HBoxModel",
      "state": {
       "children": [
        "IPY_MODEL_9573c260bba842eea6258f19c8b8eca7",
        "IPY_MODEL_4ee0f3314e324dcdbe5ffde30d2f6115",
        "IPY_MODEL_ee03e4ca067946ebbdc860fcc3a6e767"
       ],
       "layout": "IPY_MODEL_3821b27fbd6f443b882ce00ebf8f0b10"
      }
     },
     "baa9c07deed54cdaaf4733ac4eb8c4d3": {
      "model_module": "@jupyter-widgets/controls",
      "model_module_version": "2.0.0",
      "model_name": "HTMLModel",
      "state": {
       "layout": "IPY_MODEL_28765ce57ada497c8416ce916d413111",
       "style": "IPY_MODEL_df7d8b3f303b408790a33eef91c08739",
       "value": " 9/9 [00:31&lt;00:00,  3.74s/cell]"
      }
     },
     "baba13350cfd465ca8e6f494cb2331b5": {
      "model_module": "@jupyter-widgets/controls",
      "model_module_version": "2.0.0",
      "model_name": "HBoxModel",
      "state": {
       "children": [
        "IPY_MODEL_12824ccd84c24154876b1ea50ec24f74",
        "IPY_MODEL_74816bd4975b4d82976c4e0ec798b87a",
        "IPY_MODEL_fa64248446da464cbd6618eec820b766"
       ],
       "layout": "IPY_MODEL_5b7cc55af6ec4432a65fc18609e26569"
      }
     },
     "baf5418d48fe4bf9823fe7d34745eb24": {
      "model_module": "@jupyter-widgets/base",
      "model_module_version": "2.0.0",
      "model_name": "LayoutModel",
      "state": {}
     },
     "bb046246167f4c048800bae100110e59": {
      "model_module": "@jupyter-widgets/base",
      "model_module_version": "2.0.0",
      "model_name": "LayoutModel",
      "state": {}
     },
     "bb05ed81267c421c8286a507255de744": {
      "model_module": "@jupyter-widgets/controls",
      "model_module_version": "2.0.0",
      "model_name": "HTMLStyleModel",
      "state": {
       "description_width": "",
       "font_size": null,
       "text_color": null
      }
     },
     "bb3bae27ed4b468f879a1eddb6800687": {
      "model_module": "@jupyter-widgets/base",
      "model_module_version": "2.0.0",
      "model_name": "LayoutModel",
      "state": {}
     },
     "bb7c9472e88449c09be12539820dbf49": {
      "model_module": "@jupyter-widgets/base",
      "model_module_version": "2.0.0",
      "model_name": "LayoutModel",
      "state": {}
     },
     "bbbec93d3d914332b8df6ec612cb9b38": {
      "model_module": "@jupyter-widgets/controls",
      "model_module_version": "2.0.0",
      "model_name": "FloatProgressModel",
      "state": {
       "bar_style": "success",
       "layout": "IPY_MODEL_4fd5b69aba3f4d35840bcad4f1f2f5af",
       "max": 9,
       "style": "IPY_MODEL_c6876517db324f59be60b3df5915ee44",
       "value": 9
      }
     },
     "bbc75920cbb44f9d8a587507b420e5c9": {
      "model_module": "@jupyter-widgets/controls",
      "model_module_version": "2.0.0",
      "model_name": "FloatProgressModel",
      "state": {
       "bar_style": "success",
       "layout": "IPY_MODEL_6442561e22ee44a5b4d08007e26f3b0d",
       "max": 9,
       "style": "IPY_MODEL_8895788a11ca4e54a81a674b5396768e",
       "value": 9
      }
     },
     "bcf1c3aca2424bf1a7757b8013069468": {
      "model_module": "@jupyter-widgets/controls",
      "model_module_version": "2.0.0",
      "model_name": "HTMLModel",
      "state": {
       "layout": "IPY_MODEL_4e61e2aa9488415ca6a93945b70ed735",
       "style": "IPY_MODEL_2f163ed3b3c944bd8d6e978d3ab81ff7",
       "value": " 9/9 [00:13&lt;00:00,  1.36s/cell]"
      }
     },
     "bd7288463e9a4df8a455838bb7163309": {
      "model_module": "@jupyter-widgets/controls",
      "model_module_version": "2.0.0",
      "model_name": "FloatProgressModel",
      "state": {
       "bar_style": "success",
       "layout": "IPY_MODEL_afe5ca9adbb6443887ce512bee4b81f1",
       "max": 9,
       "style": "IPY_MODEL_a2b367573430448cb3a377901669a593",
       "value": 9
      }
     },
     "be1af176ef194dc8b91d8c0852941653": {
      "model_module": "@jupyter-widgets/controls",
      "model_module_version": "2.0.0",
      "model_name": "FloatProgressModel",
      "state": {
       "bar_style": "success",
       "layout": "IPY_MODEL_f4e6a496369049cead64292c7415cdbf",
       "max": 9,
       "style": "IPY_MODEL_511ecf90bbc746ba9e2cffe3a2fbfd2c",
       "value": 9
      }
     },
     "be4e5445abbb4161aca5b2e7d8fabfd0": {
      "model_module": "@jupyter-widgets/controls",
      "model_module_version": "2.0.0",
      "model_name": "FloatProgressModel",
      "state": {
       "bar_style": "success",
       "layout": "IPY_MODEL_464c12e214554369bc37dad26c77baf8",
       "max": 9,
       "style": "IPY_MODEL_72f6aab94ca04c548d19f1ef778c9ca1",
       "value": 9
      }
     },
     "be5f771321434292b7ccf654084a3497": {
      "model_module": "@jupyter-widgets/controls",
      "model_module_version": "2.0.0",
      "model_name": "ProgressStyleModel",
      "state": {
       "description_width": ""
      }
     },
     "befe51c2d2654d218a97eddbe48d55cf": {
      "model_module": "@jupyter-widgets/base",
      "model_module_version": "2.0.0",
      "model_name": "LayoutModel",
      "state": {}
     },
     "bf63d50a135644fdad599ce807caf2d1": {
      "model_module": "@jupyter-widgets/controls",
      "model_module_version": "2.0.0",
      "model_name": "FloatProgressModel",
      "state": {
       "bar_style": "success",
       "layout": "IPY_MODEL_51a460f860b24633983d0659a08e9d86",
       "max": 9,
       "style": "IPY_MODEL_d4a1f2474faa4676b95637e16731ae5a",
       "value": 9
      }
     },
     "bf683858709f4794ae393840681bc326": {
      "model_module": "@jupyter-widgets/base",
      "model_module_version": "2.0.0",
      "model_name": "LayoutModel",
      "state": {}
     },
     "bf8cd42371d64439a60818e6604a1c8a": {
      "model_module": "@jupyter-widgets/base",
      "model_module_version": "2.0.0",
      "model_name": "LayoutModel",
      "state": {}
     },
     "bfba7ab03cc54a259d8aafcdef56a2a2": {
      "model_module": "@jupyter-widgets/controls",
      "model_module_version": "2.0.0",
      "model_name": "HTMLStyleModel",
      "state": {
       "description_width": "",
       "font_size": null,
       "text_color": null
      }
     },
     "bfec000c2d0a45358087763f55630671": {
      "model_module": "@jupyter-widgets/base",
      "model_module_version": "2.0.0",
      "model_name": "LayoutModel",
      "state": {}
     },
     "c04d4aac2fdd47859eaa7e7f8edc1ccb": {
      "model_module": "@jupyter-widgets/base",
      "model_module_version": "2.0.0",
      "model_name": "LayoutModel",
      "state": {}
     },
     "c0c53ac3dc524bd5ba23c3a4f3f84997": {
      "model_module": "@jupyter-widgets/controls",
      "model_module_version": "2.0.0",
      "model_name": "FloatProgressModel",
      "state": {
       "bar_style": "success",
       "layout": "IPY_MODEL_3ae63a60c38c42f5830d788da9dde9be",
       "max": 9,
       "style": "IPY_MODEL_f3b0d619a6664735a2f8da287efd7ca7",
       "value": 9
      }
     },
     "c101f0ae64344e9a9db979ccb410e2be": {
      "model_module": "@jupyter-widgets/controls",
      "model_module_version": "2.0.0",
      "model_name": "HTMLStyleModel",
      "state": {
       "description_width": "",
       "font_size": null,
       "text_color": null
      }
     },
     "c123ce81682c422088d21128ac00be5c": {
      "model_module": "@jupyter-widgets/controls",
      "model_module_version": "2.0.0",
      "model_name": "HTMLModel",
      "state": {
       "layout": "IPY_MODEL_3b9a2fde7f3c489299ef08ae5260bfc8",
       "style": "IPY_MODEL_2ade1593202b4f83aaf356dba938df3d",
       "value": " 9/9 [00:11&lt;00:00,  1.12s/cell]"
      }
     },
     "c15bfd1060f14db0817dac732c9f3995": {
      "model_module": "@jupyter-widgets/controls",
      "model_module_version": "2.0.0",
      "model_name": "FloatProgressModel",
      "state": {
       "bar_style": "success",
       "layout": "IPY_MODEL_b6cb7ae7b57649969317b2429ba54f65",
       "max": 9,
       "style": "IPY_MODEL_aa40268b8b6244269233035fb42bb042",
       "value": 9
      }
     },
     "c2acd41b52d34fda8700100a47e93786": {
      "model_module": "@jupyter-widgets/controls",
      "model_module_version": "2.0.0",
      "model_name": "ProgressStyleModel",
      "state": {
       "description_width": ""
      }
     },
     "c2fe21fe73dd4abc8fe3fd2f458d5081": {
      "model_module": "@jupyter-widgets/controls",
      "model_module_version": "2.0.0",
      "model_name": "HTMLModel",
      "state": {
       "layout": "IPY_MODEL_022c199cb4c644009607c42326df531a",
       "style": "IPY_MODEL_5088f782a638461ba13d5dabf8903b36",
       "value": "100%"
      }
     },
     "c3951e0d51ff49dca08aa0fea9a58402": {
      "model_module": "@jupyter-widgets/controls",
      "model_module_version": "2.0.0",
      "model_name": "HTMLModel",
      "state": {
       "layout": "IPY_MODEL_2aabf77cdfe84747b4407ada2db4289a",
       "style": "IPY_MODEL_404303c46a224b6e8fa6bfbe5e28310e",
       "value": " 9/9 [00:11&lt;00:00,  1.13s/cell]"
      }
     },
     "c3dabbd20c85479b922a0db42ebb12f9": {
      "model_module": "@jupyter-widgets/controls",
      "model_module_version": "2.0.0",
      "model_name": "HTMLModel",
      "state": {
       "layout": "IPY_MODEL_97ea71885ddc4664b7e216aeff7b8e24",
       "style": "IPY_MODEL_e2b17097bc1943b7b552c62c5fbe2dd6",
       "value": " 9/9 [00:16&lt;00:00,  1.80s/cell]"
      }
     },
     "c4b101f502534420888b4310e9535811": {
      "model_module": "@jupyter-widgets/controls",
      "model_module_version": "2.0.0",
      "model_name": "HTMLModel",
      "state": {
       "layout": "IPY_MODEL_757e0631387a460e9d2e6108b668a5ed",
       "style": "IPY_MODEL_a0e20c2700cf47a2a7cf3ed9689b64c0",
       "value": " 9/9 [00:16&lt;00:00,  1.91s/cell]"
      }
     },
     "c4c2abe37feb4821ad655fd4793251af": {
      "model_module": "@jupyter-widgets/controls",
      "model_module_version": "2.0.0",
      "model_name": "HBoxModel",
      "state": {
       "children": [
        "IPY_MODEL_6afe4865a5454a9c800cb3a22e4aa67d",
        "IPY_MODEL_9acc4d7aa4904649a2b38dbaed285d11",
        "IPY_MODEL_0cff69cebb43497490aca36a0ea4ba5e"
       ],
       "layout": "IPY_MODEL_2934abc39d1f42839fe5ae6d9d30fc3c"
      }
     },
     "c4e24fbcbc7b437f86ea816b697f739e": {
      "model_module": "@jupyter-widgets/controls",
      "model_module_version": "2.0.0",
      "model_name": "HTMLStyleModel",
      "state": {
       "description_width": "",
       "font_size": null,
       "text_color": null
      }
     },
     "c51e6080c3e1492493fcc2f6e24982b4": {
      "model_module": "@jupyter-widgets/controls",
      "model_module_version": "2.0.0",
      "model_name": "FloatProgressModel",
      "state": {
       "bar_style": "success",
       "layout": "IPY_MODEL_bb7c9472e88449c09be12539820dbf49",
       "max": 9,
       "style": "IPY_MODEL_623b0e77cba14f62bfbe679ecb59635b",
       "value": 9
      }
     },
     "c56e46e30fbd425aa53551c302fb2bea": {
      "model_module": "@jupyter-widgets/base",
      "model_module_version": "2.0.0",
      "model_name": "LayoutModel",
      "state": {}
     },
     "c6876517db324f59be60b3df5915ee44": {
      "model_module": "@jupyter-widgets/controls",
      "model_module_version": "2.0.0",
      "model_name": "ProgressStyleModel",
      "state": {
       "description_width": ""
      }
     },
     "c7036db7fa614aaba546861e32e5019a": {
      "model_module": "@jupyter-widgets/controls",
      "model_module_version": "2.0.0",
      "model_name": "HTMLModel",
      "state": {
       "layout": "IPY_MODEL_ce1978d51daa46cead91e221fc1b114d",
       "style": "IPY_MODEL_ba69b68a39234fe5ab1a7d7eb023d879",
       "value": " 9/9 [00:26&lt;00:00,  3.25s/cell]"
      }
     },
     "c70980d3a7ff46e796c3e8752c42b401": {
      "model_module": "@jupyter-widgets/controls",
      "model_module_version": "2.0.0",
      "model_name": "FloatProgressModel",
      "state": {
       "bar_style": "success",
       "layout": "IPY_MODEL_5c878a2dc2a948b38828489b82d5539c",
       "max": 9,
       "style": "IPY_MODEL_64688f9c56954c87acac4cbe6aa522a6",
       "value": 9
      }
     },
     "c774b32b467244b7a8e7503193622de3": {
      "model_module": "@jupyter-widgets/base",
      "model_module_version": "2.0.0",
      "model_name": "LayoutModel",
      "state": {}
     },
     "c7d4cf00a6c8436c9bf798e4bbcd1366": {
      "model_module": "@jupyter-widgets/controls",
      "model_module_version": "2.0.0",
      "model_name": "HTMLModel",
      "state": {
       "layout": "IPY_MODEL_7fcfe5ba18eb40c49d101e3b73797d05",
       "style": "IPY_MODEL_aae9a3e540344ef49de62617c3b1d93b",
       "value": "Executing: 100%"
      }
     },
     "c7f9e816446b40259a7c1a2c296434c8": {
      "model_module": "@jupyter-widgets/base",
      "model_module_version": "2.0.0",
      "model_name": "LayoutModel",
      "state": {}
     },
     "c80ca11d82054c44972dc433861e01b0": {
      "model_module": "@jupyter-widgets/controls",
      "model_module_version": "2.0.0",
      "model_name": "ProgressStyleModel",
      "state": {
       "description_width": ""
      }
     },
     "c813e6315dab4c4daac0cc4af1f69f7c": {
      "model_module": "@jupyter-widgets/controls",
      "model_module_version": "2.0.0",
      "model_name": "HTMLModel",
      "state": {
       "layout": "IPY_MODEL_f09eaf0fb2d144a19848f15ec5ad0232",
       "style": "IPY_MODEL_aca168b5923a491ea0ebd3393987c873",
       "value": "Executing: 100%"
      }
     },
     "c89470349cfe4cdb9e35d14efcea999c": {
      "model_module": "@jupyter-widgets/controls",
      "model_module_version": "2.0.0",
      "model_name": "ProgressStyleModel",
      "state": {
       "description_width": ""
      }
     },
     "c8ae270018b440aba4972e13d02d7c60": {
      "model_module": "@jupyter-widgets/controls",
      "model_module_version": "2.0.0",
      "model_name": "ProgressStyleModel",
      "state": {
       "description_width": ""
      }
     },
     "c942e2d21ea64a059139dd840853a330": {
      "model_module": "@jupyter-widgets/base",
      "model_module_version": "2.0.0",
      "model_name": "LayoutModel",
      "state": {}
     },
     "ca5d40b6caf64fcc8bfdf8535da4b02b": {
      "model_module": "@jupyter-widgets/controls",
      "model_module_version": "2.0.0",
      "model_name": "HTMLStyleModel",
      "state": {
       "description_width": "",
       "font_size": null,
       "text_color": null
      }
     },
     "ca6160ee8d174dac983705d28a497682": {
      "model_module": "@jupyter-widgets/base",
      "model_module_version": "2.0.0",
      "model_name": "LayoutModel",
      "state": {}
     },
     "ca6218eb78894c2296ae97c98bb8ebe1": {
      "model_module": "@jupyter-widgets/base",
      "model_module_version": "2.0.0",
      "model_name": "LayoutModel",
      "state": {}
     },
     "ca6d24e92f9e4c7fb49026bd62e0012f": {
      "model_module": "@jupyter-widgets/controls",
      "model_module_version": "2.0.0",
      "model_name": "HTMLStyleModel",
      "state": {
       "description_width": "",
       "font_size": null,
       "text_color": null
      }
     },
     "cad76962f989493cb9684249662b54c9": {
      "model_module": "@jupyter-widgets/base",
      "model_module_version": "2.0.0",
      "model_name": "LayoutModel",
      "state": {}
     },
     "cb28be4fea4d4379b84b541f27d6c154": {
      "model_module": "@jupyter-widgets/controls",
      "model_module_version": "2.0.0",
      "model_name": "HTMLModel",
      "state": {
       "layout": "IPY_MODEL_407097d804eb422d8e3745e3368dce9e",
       "style": "IPY_MODEL_e5a414c1df054b6aa2698ba673d286d9",
       "value": "Executing: 100%"
      }
     },
     "cbaaeef18c6845eb914dbbe4a8ade8cb": {
      "model_module": "@jupyter-widgets/base",
      "model_module_version": "2.0.0",
      "model_name": "LayoutModel",
      "state": {}
     },
     "cc30aba4eb5041598a1a16954f263a2e": {
      "model_module": "@jupyter-widgets/controls",
      "model_module_version": "2.0.0",
      "model_name": "HTMLModel",
      "state": {
       "layout": "IPY_MODEL_f90bb9d3cf80422a9bc13cc6538e80ab",
       "style": "IPY_MODEL_820e0c91269b4be895af2f706ae3baa6",
       "value": "Executing: 100%"
      }
     },
     "cc3c608dea104cc88d980669ba66d6c8": {
      "model_module": "@jupyter-widgets/base",
      "model_module_version": "2.0.0",
      "model_name": "LayoutModel",
      "state": {}
     },
     "cc6def6781a7452c81217cf4f42c25eb": {
      "model_module": "@jupyter-widgets/controls",
      "model_module_version": "2.0.0",
      "model_name": "ProgressStyleModel",
      "state": {
       "description_width": ""
      }
     },
     "ccdb707fb4684e53b2154f8aa4803f84": {
      "model_module": "@jupyter-widgets/base",
      "model_module_version": "2.0.0",
      "model_name": "LayoutModel",
      "state": {}
     },
     "cd49c2af532647a1aa2143b264a458b8": {
      "model_module": "@jupyter-widgets/controls",
      "model_module_version": "2.0.0",
      "model_name": "HBoxModel",
      "state": {
       "children": [
        "IPY_MODEL_8c7c83e989144fd8b9d8f65b9c421565",
        "IPY_MODEL_e2e8c64096b245db920a5f77a11901c6",
        "IPY_MODEL_ac61d97703e8452ebdbd9a4ac48e58a4"
       ],
       "layout": "IPY_MODEL_c774b32b467244b7a8e7503193622de3"
      }
     },
     "ce1978d51daa46cead91e221fc1b114d": {
      "model_module": "@jupyter-widgets/base",
      "model_module_version": "2.0.0",
      "model_name": "LayoutModel",
      "state": {}
     },
     "ceb96c0502214a518ccb5742a7aff2b7": {
      "model_module": "@jupyter-widgets/controls",
      "model_module_version": "2.0.0",
      "model_name": "HBoxModel",
      "state": {
       "children": [
        "IPY_MODEL_c813e6315dab4c4daac0cc4af1f69f7c",
        "IPY_MODEL_c70980d3a7ff46e796c3e8752c42b401",
        "IPY_MODEL_845c3c7cdd584492a4003800d931a1ee"
       ],
       "layout": "IPY_MODEL_d8bbd514218b4e81aaae74bca462371d"
      }
     },
     "cefb300ded0d4be488b632412c3ece10": {
      "model_module": "@jupyter-widgets/controls",
      "model_module_version": "2.0.0",
      "model_name": "FloatProgressModel",
      "state": {
       "bar_style": "success",
       "layout": "IPY_MODEL_0235d11806be4f1ab020c005d06f3fe2",
       "max": 9,
       "style": "IPY_MODEL_f214319fb706415c8ddde36e32ee7ec1",
       "value": 9
      }
     },
     "cfb7129cf02f4182ac178a28ad0ca4f0": {
      "model_module": "@jupyter-widgets/controls",
      "model_module_version": "2.0.0",
      "model_name": "FloatProgressModel",
      "state": {
       "bar_style": "success",
       "layout": "IPY_MODEL_2de689efb4ce455b803a842d7f6cd9c3",
       "max": 9,
       "style": "IPY_MODEL_d95033f06b814b2a83646e04ae75b692",
       "value": 9
      }
     },
     "cfe79e351cc640a3b99a22937c22c638": {
      "model_module": "@jupyter-widgets/controls",
      "model_module_version": "2.0.0",
      "model_name": "FloatProgressModel",
      "state": {
       "bar_style": "success",
       "layout": "IPY_MODEL_b06aa9a836324ec6af51c59886a9fe6c",
       "max": 9,
       "style": "IPY_MODEL_5c3fd5d598734ae7a4ff46d664e66e50",
       "value": 9
      }
     },
     "cff3015f4b704a8096a309ee80f10271": {
      "model_module": "@jupyter-widgets/controls",
      "model_module_version": "2.0.0",
      "model_name": "HTMLStyleModel",
      "state": {
       "description_width": "",
       "font_size": null,
       "text_color": null
      }
     },
     "d01725ef618548af89c552101a1a6799": {
      "model_module": "@jupyter-widgets/base",
      "model_module_version": "2.0.0",
      "model_name": "LayoutModel",
      "state": {}
     },
     "d0252802a13e441a98b55d7655169d86": {
      "model_module": "@jupyter-widgets/controls",
      "model_module_version": "2.0.0",
      "model_name": "HTMLModel",
      "state": {
       "layout": "IPY_MODEL_f6a0d078f8b04f549017b4007d4e5f5d",
       "style": "IPY_MODEL_7f65d00d9d64419c8dc4407ef2cb6454",
       "value": "Executing: 100%"
      }
     },
     "d08dd2935b1049509a1b46cafc99eab7": {
      "model_module": "@jupyter-widgets/controls",
      "model_module_version": "2.0.0",
      "model_name": "FloatProgressModel",
      "state": {
       "bar_style": "success",
       "layout": "IPY_MODEL_ec7defa3ee244398b791ac7af528c59a",
       "max": 9,
       "style": "IPY_MODEL_5cb91294ecbf44528a6357918642030c",
       "value": 9
      }
     },
     "d0db2ef342c34b64848b4f48cf1af50d": {
      "model_module": "@jupyter-widgets/base",
      "model_module_version": "2.0.0",
      "model_name": "LayoutModel",
      "state": {}
     },
     "d0eac22470e04c309c5e429dbe685277": {
      "model_module": "@jupyter-widgets/controls",
      "model_module_version": "2.0.0",
      "model_name": "HTMLModel",
      "state": {
       "layout": "IPY_MODEL_8c7790faba734e39b5d0011f29269aba",
       "style": "IPY_MODEL_cff3015f4b704a8096a309ee80f10271",
       "value": " 64/64 [23:04&lt;00:00, 23.90s/it]"
      }
     },
     "d2796b1395e34471a8abc88c28c1c88b": {
      "model_module": "@jupyter-widgets/controls",
      "model_module_version": "2.0.0",
      "model_name": "HBoxModel",
      "state": {
       "children": [
        "IPY_MODEL_681096ecdacd475d97baab7f64b4f890",
        "IPY_MODEL_1a74d58397fc491dbfc408474a476c61",
        "IPY_MODEL_3c6ef026eca9496e81e938373cea1a29"
       ],
       "layout": "IPY_MODEL_257619313214477a87f0351df445d988"
      }
     },
     "d280e529b5ac46398db4020789c2674c": {
      "model_module": "@jupyter-widgets/base",
      "model_module_version": "2.0.0",
      "model_name": "LayoutModel",
      "state": {}
     },
     "d2a79df06c644f22a8306d1ad94392d4": {
      "model_module": "@jupyter-widgets/controls",
      "model_module_version": "2.0.0",
      "model_name": "HTMLStyleModel",
      "state": {
       "description_width": "",
       "font_size": null,
       "text_color": null
      }
     },
     "d2e58260987b4f1ca61d4f53b23985a1": {
      "model_module": "@jupyter-widgets/controls",
      "model_module_version": "2.0.0",
      "model_name": "HTMLStyleModel",
      "state": {
       "description_width": "",
       "font_size": null,
       "text_color": null
      }
     },
     "d3753e97f08e4d079eafe1c8593b5028": {
      "model_module": "@jupyter-widgets/base",
      "model_module_version": "2.0.0",
      "model_name": "LayoutModel",
      "state": {}
     },
     "d391442f10ec49f2bdc2304f1a79e8ec": {
      "model_module": "@jupyter-widgets/controls",
      "model_module_version": "2.0.0",
      "model_name": "HTMLModel",
      "state": {
       "layout": "IPY_MODEL_68e746f689dc47d796d41b6747cb34a2",
       "style": "IPY_MODEL_42a1d3209b9b4570804c370c06364cd0",
       "value": " 9/9 [00:13&lt;00:00,  1.37s/cell]"
      }
     },
     "d3b8416e67454928b1a87146aba145d9": {
      "model_module": "@jupyter-widgets/base",
      "model_module_version": "2.0.0",
      "model_name": "LayoutModel",
      "state": {}
     },
     "d4200cf6c685499cb87e9242031ac779": {
      "model_module": "@jupyter-widgets/controls",
      "model_module_version": "2.0.0",
      "model_name": "HTMLStyleModel",
      "state": {
       "description_width": "",
       "font_size": null,
       "text_color": null
      }
     },
     "d444838bd1f64f1591dcd12ed82b9bc8": {
      "model_module": "@jupyter-widgets/base",
      "model_module_version": "2.0.0",
      "model_name": "LayoutModel",
      "state": {}
     },
     "d477fc5207fb4ab395b377c92cf4c7fc": {
      "model_module": "@jupyter-widgets/base",
      "model_module_version": "2.0.0",
      "model_name": "LayoutModel",
      "state": {}
     },
     "d4a1f2474faa4676b95637e16731ae5a": {
      "model_module": "@jupyter-widgets/controls",
      "model_module_version": "2.0.0",
      "model_name": "ProgressStyleModel",
      "state": {
       "description_width": ""
      }
     },
     "d57ef6b5796a41d9b2491c103eba5727": {
      "model_module": "@jupyter-widgets/base",
      "model_module_version": "2.0.0",
      "model_name": "LayoutModel",
      "state": {}
     },
     "d5dadd4369cc44f3b523f6a71899a503": {
      "model_module": "@jupyter-widgets/controls",
      "model_module_version": "2.0.0",
      "model_name": "HTMLModel",
      "state": {
       "layout": "IPY_MODEL_8adfb882fa5649daae81c898dfe386e1",
       "style": "IPY_MODEL_7069d196b29c431cbf37ed71bfbe7dc7",
       "value": "Executing: 100%"
      }
     },
     "d6a49f093439476da7c8b7a3ba128490": {
      "model_module": "@jupyter-widgets/controls",
      "model_module_version": "2.0.0",
      "model_name": "ProgressStyleModel",
      "state": {
       "description_width": ""
      }
     },
     "d777309ca7ff4261bf6de4139d5d7617": {
      "model_module": "@jupyter-widgets/controls",
      "model_module_version": "2.0.0",
      "model_name": "HTMLStyleModel",
      "state": {
       "description_width": "",
       "font_size": null,
       "text_color": null
      }
     },
     "d880031fa98a4772b56708137b8ed924": {
      "model_module": "@jupyter-widgets/controls",
      "model_module_version": "2.0.0",
      "model_name": "HTMLStyleModel",
      "state": {
       "description_width": "",
       "font_size": null,
       "text_color": null
      }
     },
     "d887d86e301d44399c7d9459c1042215": {
      "model_module": "@jupyter-widgets/controls",
      "model_module_version": "2.0.0",
      "model_name": "ProgressStyleModel",
      "state": {
       "description_width": ""
      }
     },
     "d8bbd514218b4e81aaae74bca462371d": {
      "model_module": "@jupyter-widgets/base",
      "model_module_version": "2.0.0",
      "model_name": "LayoutModel",
      "state": {}
     },
     "d92111c8306c4995bde08ad228f53e56": {
      "model_module": "@jupyter-widgets/base",
      "model_module_version": "2.0.0",
      "model_name": "LayoutModel",
      "state": {}
     },
     "d95033f06b814b2a83646e04ae75b692": {
      "model_module": "@jupyter-widgets/controls",
      "model_module_version": "2.0.0",
      "model_name": "ProgressStyleModel",
      "state": {
       "description_width": ""
      }
     },
     "d983bfca510c4905bbd95f75e3d48a14": {
      "model_module": "@jupyter-widgets/base",
      "model_module_version": "2.0.0",
      "model_name": "LayoutModel",
      "state": {}
     },
     "d9d11f19fa2645a68c03c913f50fa4dc": {
      "model_module": "@jupyter-widgets/base",
      "model_module_version": "2.0.0",
      "model_name": "LayoutModel",
      "state": {}
     },
     "da4d12b95f5b45f89e0ccf6e1d04d327": {
      "model_module": "@jupyter-widgets/base",
      "model_module_version": "2.0.0",
      "model_name": "LayoutModel",
      "state": {}
     },
     "da59935d992f450794345f7e2d185fea": {
      "model_module": "@jupyter-widgets/controls",
      "model_module_version": "2.0.0",
      "model_name": "HTMLStyleModel",
      "state": {
       "description_width": "",
       "font_size": null,
       "text_color": null
      }
     },
     "da6922b5ea504f1abee0a4683bbfcb80": {
      "model_module": "@jupyter-widgets/base",
      "model_module_version": "2.0.0",
      "model_name": "LayoutModel",
      "state": {}
     },
     "da7d60a60eb84b80a4eef9bb376488bd": {
      "model_module": "@jupyter-widgets/controls",
      "model_module_version": "2.0.0",
      "model_name": "HTMLStyleModel",
      "state": {
       "description_width": "",
       "font_size": null,
       "text_color": null
      }
     },
     "daa20e8aceb14a358b889f0ca75e614c": {
      "model_module": "@jupyter-widgets/controls",
      "model_module_version": "2.0.0",
      "model_name": "HTMLModel",
      "state": {
       "layout": "IPY_MODEL_b29d4870d5514181914abc87588a8a3e",
       "style": "IPY_MODEL_da59935d992f450794345f7e2d185fea",
       "value": "Executing: 100%"
      }
     },
     "dab7207e81ea4ad99257b74e6854dfe1": {
      "model_module": "@jupyter-widgets/base",
      "model_module_version": "2.0.0",
      "model_name": "LayoutModel",
      "state": {}
     },
     "db840ae4424f47e4a00ba24e585b3087": {
      "model_module": "@jupyter-widgets/base",
      "model_module_version": "2.0.0",
      "model_name": "LayoutModel",
      "state": {}
     },
     "db98fadd34e34e2e89e395197b846a71": {
      "model_module": "@jupyter-widgets/base",
      "model_module_version": "2.0.0",
      "model_name": "LayoutModel",
      "state": {}
     },
     "dba1bf809ec646f3aec4ba9592ff8092": {
      "model_module": "@jupyter-widgets/base",
      "model_module_version": "2.0.0",
      "model_name": "LayoutModel",
      "state": {}
     },
     "dbc871b565dc41c99578d39b6182214d": {
      "model_module": "@jupyter-widgets/controls",
      "model_module_version": "2.0.0",
      "model_name": "HTMLModel",
      "state": {
       "layout": "IPY_MODEL_bb046246167f4c048800bae100110e59",
       "style": "IPY_MODEL_e65e23b7f380487f87e08fee2339df3a",
       "value": "Executing: 100%"
      }
     },
     "dc9ea3d18b6b49738e246258dc9fe443": {
      "model_module": "@jupyter-widgets/base",
      "model_module_version": "2.0.0",
      "model_name": "LayoutModel",
      "state": {}
     },
     "dcb46157cca64c949262759ac8e2c8d6": {
      "model_module": "@jupyter-widgets/base",
      "model_module_version": "2.0.0",
      "model_name": "LayoutModel",
      "state": {}
     },
     "dd31d7e0de6f41bca92736142aad78cb": {
      "model_module": "@jupyter-widgets/base",
      "model_module_version": "2.0.0",
      "model_name": "LayoutModel",
      "state": {}
     },
     "dd493582e17549daaac68ad88979e9a2": {
      "model_module": "@jupyter-widgets/controls",
      "model_module_version": "2.0.0",
      "model_name": "HTMLModel",
      "state": {
       "layout": "IPY_MODEL_77f13d2758a0480688ce4d22454201cd",
       "style": "IPY_MODEL_91ccdfb8e0b940f9966aa3643eb6cb51",
       "value": " 9/9 [00:31&lt;00:00,  3.65s/cell]"
      }
     },
     "dd59cea379214b4c91f2494dd6b634fe": {
      "model_module": "@jupyter-widgets/controls",
      "model_module_version": "2.0.0",
      "model_name": "HBoxModel",
      "state": {
       "children": [
        "IPY_MODEL_cc30aba4eb5041598a1a16954f263a2e",
        "IPY_MODEL_bbc75920cbb44f9d8a587507b420e5c9",
        "IPY_MODEL_2f95ab0bb7904378ac589f9c27f68aa5"
       ],
       "layout": "IPY_MODEL_ca6218eb78894c2296ae97c98bb8ebe1"
      }
     },
     "de1e53b2f64d4656a5af236ec20f6c4b": {
      "model_module": "@jupyter-widgets/base",
      "model_module_version": "2.0.0",
      "model_name": "LayoutModel",
      "state": {}
     },
     "de463c41d5554b41b0b3c15b9a60b019": {
      "model_module": "@jupyter-widgets/controls",
      "model_module_version": "2.0.0",
      "model_name": "HTMLModel",
      "state": {
       "layout": "IPY_MODEL_e73e4377402044d5b4fc8b68f883e211",
       "style": "IPY_MODEL_18d3fee5e13d4fb09d46613aed31213c",
       "value": " 9/9 [00:29&lt;00:00,  4.02s/cell]"
      }
     },
     "de9bb6df982149438481089c00280bf8": {
      "model_module": "@jupyter-widgets/base",
      "model_module_version": "2.0.0",
      "model_name": "LayoutModel",
      "state": {}
     },
     "df094fbfdb2a46518fc5bbbb6884eb23": {
      "model_module": "@jupyter-widgets/controls",
      "model_module_version": "2.0.0",
      "model_name": "FloatProgressModel",
      "state": {
       "bar_style": "success",
       "layout": "IPY_MODEL_f0cb20be61b3498f9b4dde1ca70d43c3",
       "max": 9,
       "style": "IPY_MODEL_2fa27eea892d47168e96d879f7f88bfd",
       "value": 9
      }
     },
     "df5d089c33cb431198a3297f8187c46e": {
      "model_module": "@jupyter-widgets/controls",
      "model_module_version": "2.0.0",
      "model_name": "HTMLModel",
      "state": {
       "layout": "IPY_MODEL_eecacca3cc4d4dd6a4abeda52e816b9f",
       "style": "IPY_MODEL_2e2e3bb3fb0746e0bb3b434e32eb06dc",
       "value": "Executing: 100%"
      }
     },
     "df7d8b3f303b408790a33eef91c08739": {
      "model_module": "@jupyter-widgets/controls",
      "model_module_version": "2.0.0",
      "model_name": "HTMLStyleModel",
      "state": {
       "description_width": "",
       "font_size": null,
       "text_color": null
      }
     },
     "dfedbc3286aa4d9685c3f333b460c57e": {
      "model_module": "@jupyter-widgets/base",
      "model_module_version": "2.0.0",
      "model_name": "LayoutModel",
      "state": {}
     },
     "dff1b89f4fbe4fbda171cb64069398a2": {
      "model_module": "@jupyter-widgets/controls",
      "model_module_version": "2.0.0",
      "model_name": "FloatProgressModel",
      "state": {
       "bar_style": "success",
       "layout": "IPY_MODEL_408c6c6f382048f8990db5e8d04325a4",
       "max": 9,
       "style": "IPY_MODEL_354b555b37ee486b95ba4f3e6bb2f6fc",
       "value": 9
      }
     },
     "e005845f545948b196a52d54ffe7dcf3": {
      "model_module": "@jupyter-widgets/controls",
      "model_module_version": "2.0.0",
      "model_name": "HTMLModel",
      "state": {
       "layout": "IPY_MODEL_d57ef6b5796a41d9b2491c103eba5727",
       "style": "IPY_MODEL_5437556e798f4736bc0125ecb7989971",
       "value": " 9/9 [00:18&lt;00:00,  2.34s/cell]"
      }
     },
     "e0297da44cc5430aa236bdb3a18746b6": {
      "model_module": "@jupyter-widgets/base",
      "model_module_version": "2.0.0",
      "model_name": "LayoutModel",
      "state": {}
     },
     "e030e1dcad3d44c6a5eee9430b937176": {
      "model_module": "@jupyter-widgets/controls",
      "model_module_version": "2.0.0",
      "model_name": "FloatProgressModel",
      "state": {
       "bar_style": "success",
       "layout": "IPY_MODEL_2f625003b98e496c9fe58323683e7e65",
       "max": 9,
       "style": "IPY_MODEL_03977957ebde4fb0a4070323126cb973",
       "value": 9
      }
     },
     "e046aa1ddfee4b0cb5a9ec40d736cd46": {
      "model_module": "@jupyter-widgets/controls",
      "model_module_version": "2.0.0",
      "model_name": "HBoxModel",
      "state": {
       "children": [
        "IPY_MODEL_6bb55123346a4833bbf79da5be1931c0",
        "IPY_MODEL_efa5bb396d774b8d849f283799d0cd63",
        "IPY_MODEL_bcf1c3aca2424bf1a7757b8013069468"
       ],
       "layout": "IPY_MODEL_d92111c8306c4995bde08ad228f53e56"
      }
     },
     "e0726f67b75241ef90ef3388174db5f9": {
      "model_module": "@jupyter-widgets/controls",
      "model_module_version": "2.0.0",
      "model_name": "HTMLStyleModel",
      "state": {
       "description_width": "",
       "font_size": null,
       "text_color": null
      }
     },
     "e07301d181324458a67be5cf5256a537": {
      "model_module": "@jupyter-widgets/base",
      "model_module_version": "2.0.0",
      "model_name": "LayoutModel",
      "state": {}
     },
     "e09a166a4b314476b9185b1db4f57579": {
      "model_module": "@jupyter-widgets/controls",
      "model_module_version": "2.0.0",
      "model_name": "FloatProgressModel",
      "state": {
       "bar_style": "danger",
       "layout": "IPY_MODEL_14120d6c75bc4d989d1f1dbe21e274e8",
       "max": 9,
       "style": "IPY_MODEL_6e7664f794bf4825a85de9dde458fb2a",
       "value": 6
      }
     },
     "e128065f340548e08309656dc863daeb": {
      "model_module": "@jupyter-widgets/base",
      "model_module_version": "2.0.0",
      "model_name": "LayoutModel",
      "state": {}
     },
     "e14eabc5fe6f40a0b7f8446b71a76231": {
      "model_module": "@jupyter-widgets/base",
      "model_module_version": "2.0.0",
      "model_name": "LayoutModel",
      "state": {}
     },
     "e1a57cf51939428ba1306d563467b80a": {
      "model_module": "@jupyter-widgets/controls",
      "model_module_version": "2.0.0",
      "model_name": "HTMLStyleModel",
      "state": {
       "description_width": "",
       "font_size": null,
       "text_color": null
      }
     },
     "e1c2b6ce04344d3fa51952f77aeb2a3e": {
      "model_module": "@jupyter-widgets/controls",
      "model_module_version": "2.0.0",
      "model_name": "FloatProgressModel",
      "state": {
       "bar_style": "success",
       "layout": "IPY_MODEL_da6922b5ea504f1abee0a4683bbfcb80",
       "max": 9,
       "style": "IPY_MODEL_757e59e0804a49e283c0296ea6076dcc",
       "value": 9
      }
     },
     "e1cf84f6eb324bc0a09613320f6bc1a2": {
      "model_module": "@jupyter-widgets/controls",
      "model_module_version": "2.0.0",
      "model_name": "HBoxModel",
      "state": {
       "children": [
        "IPY_MODEL_058f82287ba7457197c1d9ec4e80ac9c",
        "IPY_MODEL_f7ef8ef3bfed4d11a8df7fddb82f4d39",
        "IPY_MODEL_0ac28d05b0ea460d947f6e2b39448dfa"
       ],
       "layout": "IPY_MODEL_1547e1421d1947e19e012c55af63ec72"
      }
     },
     "e21cdd870da14bbcb3c2e2b1d6ddde8f": {
      "model_module": "@jupyter-widgets/controls",
      "model_module_version": "2.0.0",
      "model_name": "HTMLStyleModel",
      "state": {
       "description_width": "",
       "font_size": null,
       "text_color": null
      }
     },
     "e253d327c96e43768bb894777744d2e1": {
      "model_module": "@jupyter-widgets/controls",
      "model_module_version": "2.0.0",
      "model_name": "HTMLModel",
      "state": {
       "layout": "IPY_MODEL_2fb642edb7a1462bb984b134bb1b8690",
       "style": "IPY_MODEL_5e892edfc7ac4850b556d054824953d9",
       "value": " 9/9 [00:16&lt;00:00,  1.96s/cell]"
      }
     },
     "e2726e54b838410b8aa45c22f0485a1e": {
      "model_module": "@jupyter-widgets/base",
      "model_module_version": "2.0.0",
      "model_name": "LayoutModel",
      "state": {}
     },
     "e287aff9800643068d36ca6c9b4cf08f": {
      "model_module": "@jupyter-widgets/controls",
      "model_module_version": "2.0.0",
      "model_name": "HTMLModel",
      "state": {
       "layout": "IPY_MODEL_db840ae4424f47e4a00ba24e585b3087",
       "style": "IPY_MODEL_f5d6a0afa6004183bdac8a1f8e7c1029",
       "value": " 9/9 [00:18&lt;00:00,  2.14s/cell]"
      }
     },
     "e2a6e82cd144418d97663cbcdcdab649": {
      "model_module": "@jupyter-widgets/controls",
      "model_module_version": "2.0.0",
      "model_name": "FloatProgressModel",
      "state": {
       "bar_style": "success",
       "layout": "IPY_MODEL_fe4624b154c641199269b64c7d5e3ff5",
       "max": 9,
       "style": "IPY_MODEL_0727fd8299174b6cbfec6ef065f9a3e3",
       "value": 9
      }
     },
     "e2b17097bc1943b7b552c62c5fbe2dd6": {
      "model_module": "@jupyter-widgets/controls",
      "model_module_version": "2.0.0",
      "model_name": "HTMLStyleModel",
      "state": {
       "description_width": "",
       "font_size": null,
       "text_color": null
      }
     },
     "e2e8c64096b245db920a5f77a11901c6": {
      "model_module": "@jupyter-widgets/controls",
      "model_module_version": "2.0.0",
      "model_name": "FloatProgressModel",
      "state": {
       "bar_style": "success",
       "layout": "IPY_MODEL_3efc9e365ac94ee38b387c23182c6a94",
       "max": 9,
       "style": "IPY_MODEL_f91af7b784e44b40bbd73dc3826ba18e",
       "value": 9
      }
     },
     "e350a42349784b499f3141252cdf8ef9": {
      "model_module": "@jupyter-widgets/base",
      "model_module_version": "2.0.0",
      "model_name": "LayoutModel",
      "state": {}
     },
     "e357cdc0ef3d42b3809fef28cf3ab94a": {
      "model_module": "@jupyter-widgets/controls",
      "model_module_version": "2.0.0",
      "model_name": "HTMLModel",
      "state": {
       "layout": "IPY_MODEL_335f17cafdb642fba9f7277d3aa41a33",
       "style": "IPY_MODEL_7235fc0620e04089994840e57f450533",
       "value": " 9/9 [00:29&lt;00:00,  3.97s/cell]"
      }
     },
     "e37098558a7c46c5b6d135ec9d605293": {
      "model_module": "@jupyter-widgets/controls",
      "model_module_version": "2.0.0",
      "model_name": "HTMLStyleModel",
      "state": {
       "description_width": "",
       "font_size": null,
       "text_color": null
      }
     },
     "e373d2b083614a4b98ed5ec759597267": {
      "model_module": "@jupyter-widgets/base",
      "model_module_version": "2.0.0",
      "model_name": "LayoutModel",
      "state": {}
     },
     "e3fa65928e6d4e5ab5e649dc7f2dbbc6": {
      "model_module": "@jupyter-widgets/base",
      "model_module_version": "2.0.0",
      "model_name": "LayoutModel",
      "state": {}
     },
     "e41d3ec778ce40cda1ae0f40a07a31ee": {
      "model_module": "@jupyter-widgets/controls",
      "model_module_version": "2.0.0",
      "model_name": "HBoxModel",
      "state": {
       "children": [
        "IPY_MODEL_8dfa0ed02eae42c7955893ff97fef9e5",
        "IPY_MODEL_f4bd40a9e95e4e3aa90b0d20a0ceaeee",
        "IPY_MODEL_1e5e2eea96e641cb959fed7700c1a508"
       ],
       "layout": "IPY_MODEL_14b46f1c7fe74cbcb295fdd0133e0ad5"
      }
     },
     "e4d5f0b19944452a9049a0001f6a6cfe": {
      "model_module": "@jupyter-widgets/base",
      "model_module_version": "2.0.0",
      "model_name": "LayoutModel",
      "state": {}
     },
     "e50b355d8fe64de1ab00c86f2d99961f": {
      "model_module": "@jupyter-widgets/base",
      "model_module_version": "2.0.0",
      "model_name": "LayoutModel",
      "state": {}
     },
     "e562f4a34a0e4ac08ea362e158e6b41a": {
      "model_module": "@jupyter-widgets/base",
      "model_module_version": "2.0.0",
      "model_name": "LayoutModel",
      "state": {}
     },
     "e5a414c1df054b6aa2698ba673d286d9": {
      "model_module": "@jupyter-widgets/controls",
      "model_module_version": "2.0.0",
      "model_name": "HTMLStyleModel",
      "state": {
       "description_width": "",
       "font_size": null,
       "text_color": null
      }
     },
     "e5ace6dce5f640d397735ecc686977fe": {
      "model_module": "@jupyter-widgets/base",
      "model_module_version": "2.0.0",
      "model_name": "LayoutModel",
      "state": {}
     },
     "e6554dce3bf045348baf2fe4b70949bd": {
      "model_module": "@jupyter-widgets/controls",
      "model_module_version": "2.0.0",
      "model_name": "HBoxModel",
      "state": {
       "children": [
        "IPY_MODEL_e964443b3170423195ec0ea849e04d75",
        "IPY_MODEL_e09a166a4b314476b9185b1db4f57579",
        "IPY_MODEL_5dd43845564640a08103c68f9bb320a6"
       ],
       "layout": "IPY_MODEL_3f6c310c01e744d8890aa34183f4f7de"
      }
     },
     "e65e23b7f380487f87e08fee2339df3a": {
      "model_module": "@jupyter-widgets/controls",
      "model_module_version": "2.0.0",
      "model_name": "HTMLStyleModel",
      "state": {
       "description_width": "",
       "font_size": null,
       "text_color": null
      }
     },
     "e73e4377402044d5b4fc8b68f883e211": {
      "model_module": "@jupyter-widgets/base",
      "model_module_version": "2.0.0",
      "model_name": "LayoutModel",
      "state": {}
     },
     "e77e2242a3bb4696adb0cae3f85a74c3": {
      "model_module": "@jupyter-widgets/controls",
      "model_module_version": "2.0.0",
      "model_name": "HBoxModel",
      "state": {
       "children": [
        "IPY_MODEL_885761ef14814e1abfba66a983ed19fe",
        "IPY_MODEL_aab66dd440eb4102955651ff976b523e",
        "IPY_MODEL_aebf4020477a4b48993754e3e86a5078"
       ],
       "layout": "IPY_MODEL_d444838bd1f64f1591dcd12ed82b9bc8"
      }
     },
     "e8c4a341615d45acb043a6e4567f66cd": {
      "model_module": "@jupyter-widgets/controls",
      "model_module_version": "2.0.0",
      "model_name": "HTMLStyleModel",
      "state": {
       "description_width": "",
       "font_size": null,
       "text_color": null
      }
     },
     "e94316d862b343d9b9aaaa49aaf72cc9": {
      "model_module": "@jupyter-widgets/controls",
      "model_module_version": "2.0.0",
      "model_name": "HTMLModel",
      "state": {
       "layout": "IPY_MODEL_5d04e33387ec46fda854569576ac0112",
       "style": "IPY_MODEL_e1a57cf51939428ba1306d563467b80a",
       "value": "Executing: 100%"
      }
     },
     "e964443b3170423195ec0ea849e04d75": {
      "model_module": "@jupyter-widgets/controls",
      "model_module_version": "2.0.0",
      "model_name": "HTMLModel",
      "state": {
       "layout": "IPY_MODEL_02ed249b7c204b4887462ce176d53154",
       "style": "IPY_MODEL_77ed5de1f1da4db795ec0acf26c94326",
       "value": "Executing:  67%"
      }
     },
     "ea745d467d684587afb1cbeeb1af8d6e": {
      "model_module": "@jupyter-widgets/base",
      "model_module_version": "2.0.0",
      "model_name": "LayoutModel",
      "state": {}
     },
     "ea9f5949cb3448df97782e08e00bcf47": {
      "model_module": "@jupyter-widgets/controls",
      "model_module_version": "2.0.0",
      "model_name": "ProgressStyleModel",
      "state": {
       "description_width": ""
      }
     },
     "eaa77a4e80d24589ac87531af0c418b6": {
      "model_module": "@jupyter-widgets/controls",
      "model_module_version": "2.0.0",
      "model_name": "HTMLModel",
      "state": {
       "layout": "IPY_MODEL_e373d2b083614a4b98ed5ec759597267",
       "style": "IPY_MODEL_717ae492a84d4f8dba744eb06d2f116a",
       "value": " 9/9 [00:19&lt;00:00,  2.41s/cell]"
      }
     },
     "eab0395ac4084b22819f05b0116e5e81": {
      "model_module": "@jupyter-widgets/controls",
      "model_module_version": "2.0.0",
      "model_name": "HTMLModel",
      "state": {
       "layout": "IPY_MODEL_cc3c608dea104cc88d980669ba66d6c8",
       "style": "IPY_MODEL_2ab141a8988c4088980f93fec977cce7",
       "value": "Executing: 100%"
      }
     },
     "eb75164092c240ea80965083a9fe770b": {
      "model_module": "@jupyter-widgets/controls",
      "model_module_version": "2.0.0",
      "model_name": "FloatProgressModel",
      "state": {
       "bar_style": "success",
       "layout": "IPY_MODEL_a5ab1a529afa477291f243d9f9803b66",
       "max": 9,
       "style": "IPY_MODEL_0185647edded4cd4b7b442d896a47c85",
       "value": 9
      }
     },
     "ec7defa3ee244398b791ac7af528c59a": {
      "model_module": "@jupyter-widgets/base",
      "model_module_version": "2.0.0",
      "model_name": "LayoutModel",
      "state": {}
     },
     "ecb5712685b34e1bbc4efa31a431c5bc": {
      "model_module": "@jupyter-widgets/base",
      "model_module_version": "2.0.0",
      "model_name": "LayoutModel",
      "state": {}
     },
     "ed4ca14b93d4466aac9e2dae2106b00e": {
      "model_module": "@jupyter-widgets/base",
      "model_module_version": "2.0.0",
      "model_name": "LayoutModel",
      "state": {}
     },
     "ed95b0273ae94e31a4e5dea9a9bf11ef": {
      "model_module": "@jupyter-widgets/base",
      "model_module_version": "2.0.0",
      "model_name": "LayoutModel",
      "state": {}
     },
     "edd7dc57b7ed4c089a201f9e3cabedb0": {
      "model_module": "@jupyter-widgets/controls",
      "model_module_version": "2.0.0",
      "model_name": "HTMLStyleModel",
      "state": {
       "description_width": "",
       "font_size": null,
       "text_color": null
      }
     },
     "edf8c379dc624a35a5bd5bef78d157b2": {
      "model_module": "@jupyter-widgets/base",
      "model_module_version": "2.0.0",
      "model_name": "LayoutModel",
      "state": {}
     },
     "ee03e4ca067946ebbdc860fcc3a6e767": {
      "model_module": "@jupyter-widgets/controls",
      "model_module_version": "2.0.0",
      "model_name": "HTMLModel",
      "state": {
       "layout": "IPY_MODEL_513eece986504995a8a101a77b4b3d84",
       "style": "IPY_MODEL_01322588150241efab6b579c3f191dd8",
       "value": " 9/9 [00:37&lt;00:00,  4.64s/cell]"
      }
     },
     "ee8a50e8bfa142b7960535fb28c110bc": {
      "model_module": "@jupyter-widgets/base",
      "model_module_version": "2.0.0",
      "model_name": "LayoutModel",
      "state": {}
     },
     "ee8be27b5aa84b33a6965014aad756e1": {
      "model_module": "@jupyter-widgets/controls",
      "model_module_version": "2.0.0",
      "model_name": "HTMLStyleModel",
      "state": {
       "description_width": "",
       "font_size": null,
       "text_color": null
      }
     },
     "eeae8a8d51d34ee7bbeef247abd060f5": {
      "model_module": "@jupyter-widgets/controls",
      "model_module_version": "2.0.0",
      "model_name": "HBoxModel",
      "state": {
       "children": [
        "IPY_MODEL_aaf0fba2f5ea4b8d940cfdc9d2258c12",
        "IPY_MODEL_98538e4a452a40318937271f0721b498",
        "IPY_MODEL_63c6305155cb4dc395d04e34c0854235"
       ],
       "layout": "IPY_MODEL_9d438abe493d421e819a9bee9cb3c9d1"
      }
     },
     "eec7b311243c4b9c9d4e2a50d29a6c03": {
      "model_module": "@jupyter-widgets/controls",
      "model_module_version": "2.0.0",
      "model_name": "ProgressStyleModel",
      "state": {
       "description_width": ""
      }
     },
     "eecacca3cc4d4dd6a4abeda52e816b9f": {
      "model_module": "@jupyter-widgets/base",
      "model_module_version": "2.0.0",
      "model_name": "LayoutModel",
      "state": {}
     },
     "ef76b42ed08e422e9a82789435a7569f": {
      "model_module": "@jupyter-widgets/base",
      "model_module_version": "2.0.0",
      "model_name": "LayoutModel",
      "state": {}
     },
     "efa5bb396d774b8d849f283799d0cd63": {
      "model_module": "@jupyter-widgets/controls",
      "model_module_version": "2.0.0",
      "model_name": "FloatProgressModel",
      "state": {
       "bar_style": "success",
       "layout": "IPY_MODEL_ae90d39005e94e338640610b53cefce6",
       "max": 9,
       "style": "IPY_MODEL_f51f90b21b7f4427ae71c71ed7d0bb42",
       "value": 9
      }
     },
     "f07cea20da1e4c2dbfcab43ad7f9f33e": {
      "model_module": "@jupyter-widgets/base",
      "model_module_version": "2.0.0",
      "model_name": "LayoutModel",
      "state": {}
     },
     "f09eaf0fb2d144a19848f15ec5ad0232": {
      "model_module": "@jupyter-widgets/base",
      "model_module_version": "2.0.0",
      "model_name": "LayoutModel",
      "state": {}
     },
     "f0cb20be61b3498f9b4dde1ca70d43c3": {
      "model_module": "@jupyter-widgets/base",
      "model_module_version": "2.0.0",
      "model_name": "LayoutModel",
      "state": {}
     },
     "f12b1cfd4b404671ab2345cdb9a1b6ac": {
      "model_module": "@jupyter-widgets/controls",
      "model_module_version": "2.0.0",
      "model_name": "HTMLModel",
      "state": {
       "layout": "IPY_MODEL_56506932da1d4bdcbe32651f65f5005c",
       "style": "IPY_MODEL_85b913d2bdf54a498f3a7aff5fbda609",
       "value": "Executing: 100%"
      }
     },
     "f1509b0572d140b5995ab071d9cbada2": {
      "model_module": "@jupyter-widgets/base",
      "model_module_version": "2.0.0",
      "model_name": "LayoutModel",
      "state": {}
     },
     "f156673d15b24efab9c607af4594c10e": {
      "model_module": "@jupyter-widgets/base",
      "model_module_version": "2.0.0",
      "model_name": "LayoutModel",
      "state": {}
     },
     "f1689d12808842baac3b0af8b50ab63e": {
      "model_module": "@jupyter-widgets/controls",
      "model_module_version": "2.0.0",
      "model_name": "ProgressStyleModel",
      "state": {
       "description_width": ""
      }
     },
     "f214319fb706415c8ddde36e32ee7ec1": {
      "model_module": "@jupyter-widgets/controls",
      "model_module_version": "2.0.0",
      "model_name": "ProgressStyleModel",
      "state": {
       "description_width": ""
      }
     },
     "f295933bbf3c4051bcc275d8897585d2": {
      "model_module": "@jupyter-widgets/controls",
      "model_module_version": "2.0.0",
      "model_name": "HBoxModel",
      "state": {
       "children": [
        "IPY_MODEL_24693dd31d5d445587b49092c65497ec",
        "IPY_MODEL_7bfa4ae94df6429d99154abaf2e1feb2",
        "IPY_MODEL_a1655b3686ae4edd98198b4e3999e5aa"
       ],
       "layout": "IPY_MODEL_f7b986e4255041f3854f4201fb398882"
      }
     },
     "f2d8566093384d11a7e73bc63e4a51ee": {
      "model_module": "@jupyter-widgets/base",
      "model_module_version": "2.0.0",
      "model_name": "LayoutModel",
      "state": {}
     },
     "f379e4eb6f05426dab18a55c51c23f1c": {
      "model_module": "@jupyter-widgets/controls",
      "model_module_version": "2.0.0",
      "model_name": "HTMLModel",
      "state": {
       "layout": "IPY_MODEL_e4d5f0b19944452a9049a0001f6a6cfe",
       "style": "IPY_MODEL_8c5e8c9bedfb4549bacc26860affc7fd",
       "value": " 9/9 [00:12&lt;00:00,  1.18s/cell]"
      }
     },
     "f3b0d619a6664735a2f8da287efd7ca7": {
      "model_module": "@jupyter-widgets/controls",
      "model_module_version": "2.0.0",
      "model_name": "ProgressStyleModel",
      "state": {
       "description_width": ""
      }
     },
     "f487843c7a1a498395d6525a9168f477": {
      "model_module": "@jupyter-widgets/base",
      "model_module_version": "2.0.0",
      "model_name": "LayoutModel",
      "state": {}
     },
     "f4949536ce91493592d44577db2edd14": {
      "model_module": "@jupyter-widgets/controls",
      "model_module_version": "2.0.0",
      "model_name": "FloatProgressModel",
      "state": {
       "bar_style": "success",
       "layout": "IPY_MODEL_cad76962f989493cb9684249662b54c9",
       "max": 9,
       "style": "IPY_MODEL_7188b8818832494ba96c29d3f88e3bd9",
       "value": 9
      }
     },
     "f4bd40a9e95e4e3aa90b0d20a0ceaeee": {
      "model_module": "@jupyter-widgets/controls",
      "model_module_version": "2.0.0",
      "model_name": "FloatProgressModel",
      "state": {
       "bar_style": "success",
       "layout": "IPY_MODEL_f9df67a7f643410e84d3ac3088ced11f",
       "max": 9,
       "style": "IPY_MODEL_be5f771321434292b7ccf654084a3497",
       "value": 9
      }
     },
     "f4e6a496369049cead64292c7415cdbf": {
      "model_module": "@jupyter-widgets/base",
      "model_module_version": "2.0.0",
      "model_name": "LayoutModel",
      "state": {}
     },
     "f4ff33d021684273b51b7ad3e1e57a2a": {
      "model_module": "@jupyter-widgets/base",
      "model_module_version": "2.0.0",
      "model_name": "LayoutModel",
      "state": {}
     },
     "f51f90b21b7f4427ae71c71ed7d0bb42": {
      "model_module": "@jupyter-widgets/controls",
      "model_module_version": "2.0.0",
      "model_name": "ProgressStyleModel",
      "state": {
       "description_width": ""
      }
     },
     "f525eb5c0e1c4e0097101e4c07e78a06": {
      "model_module": "@jupyter-widgets/base",
      "model_module_version": "2.0.0",
      "model_name": "LayoutModel",
      "state": {}
     },
     "f55e30f33cb94c7fbafc8062a76529fb": {
      "model_module": "@jupyter-widgets/controls",
      "model_module_version": "2.0.0",
      "model_name": "HTMLModel",
      "state": {
       "layout": "IPY_MODEL_b007ae3a081c4697b6be5ef17ed136bb",
       "style": "IPY_MODEL_fad9e232fdd24b40960619971f0329cc",
       "value": " 9/9 [00:14&lt;00:00,  1.53s/cell]"
      }
     },
     "f5d6a0afa6004183bdac8a1f8e7c1029": {
      "model_module": "@jupyter-widgets/controls",
      "model_module_version": "2.0.0",
      "model_name": "HTMLStyleModel",
      "state": {
       "description_width": "",
       "font_size": null,
       "text_color": null
      }
     },
     "f6a0d078f8b04f549017b4007d4e5f5d": {
      "model_module": "@jupyter-widgets/base",
      "model_module_version": "2.0.0",
      "model_name": "LayoutModel",
      "state": {}
     },
     "f6bed1bd47e847f99a18cc74e0578a9a": {
      "model_module": "@jupyter-widgets/controls",
      "model_module_version": "2.0.0",
      "model_name": "HTMLModel",
      "state": {
       "layout": "IPY_MODEL_ae216d46af7a4fb0befb10a35a0aabad",
       "style": "IPY_MODEL_3b493152593449308a4f02fed5a88e57",
       "value": " 0/64 [00:00&lt;?, ?it/s]"
      }
     },
     "f7b986e4255041f3854f4201fb398882": {
      "model_module": "@jupyter-widgets/base",
      "model_module_version": "2.0.0",
      "model_name": "LayoutModel",
      "state": {}
     },
     "f7ef8ef3bfed4d11a8df7fddb82f4d39": {
      "model_module": "@jupyter-widgets/controls",
      "model_module_version": "2.0.0",
      "model_name": "FloatProgressModel",
      "state": {
       "bar_style": "success",
       "layout": "IPY_MODEL_617b78de16724e83982709e47d104902",
       "max": 9,
       "style": "IPY_MODEL_161d952d8dd0480e9f16e4ddb0e61e42",
       "value": 9
      }
     },
     "f7f56d2824a44406b2b89f52c870635c": {
      "model_module": "@jupyter-widgets/controls",
      "model_module_version": "2.0.0",
      "model_name": "HBoxModel",
      "state": {
       "children": [
        "IPY_MODEL_e94316d862b343d9b9aaaa49aaf72cc9",
        "IPY_MODEL_03210f895cd6408f816ce45d8a055849",
        "IPY_MODEL_087a15586ec84ef0946c3acc5a1c0f9b"
       ],
       "layout": "IPY_MODEL_cbaaeef18c6845eb914dbbe4a8ade8cb"
      }
     },
     "f86681a9fafa464a8a19427bf567071f": {
      "model_module": "@jupyter-widgets/controls",
      "model_module_version": "2.0.0",
      "model_name": "HBoxModel",
      "state": {
       "children": [
        "IPY_MODEL_3a0e050f96ff464f83ed4a6e35906e62",
        "IPY_MODEL_5dd60b7260fc4b6085b7235519e8d3b0",
        "IPY_MODEL_e357cdc0ef3d42b3809fef28cf3ab94a"
       ],
       "layout": "IPY_MODEL_79853335de92418f8cef2ab5e09d2bc4"
      }
     },
     "f872d129cf504d848e734637ff7100da": {
      "model_module": "@jupyter-widgets/controls",
      "model_module_version": "2.0.0",
      "model_name": "HBoxModel",
      "state": {
       "children": [
        "IPY_MODEL_3d170843ba184dbeb43a4ec2ea77381a",
        "IPY_MODEL_eb75164092c240ea80965083a9fe770b",
        "IPY_MODEL_6d38e5e5024644038d36267560ff6380"
       ],
       "layout": "IPY_MODEL_bf683858709f4794ae393840681bc326"
      }
     },
     "f889081668de44f1b155df4e4db93def": {
      "model_module": "@jupyter-widgets/controls",
      "model_module_version": "2.0.0",
      "model_name": "FloatProgressModel",
      "state": {
       "bar_style": "success",
       "layout": "IPY_MODEL_6d1148caf206474faf58218d008c9646",
       "max": 9,
       "style": "IPY_MODEL_2bed831558a14f0181f27abcb662c39d",
       "value": 9
      }
     },
     "f899933024e84bdda2d7109958fef0a7": {
      "model_module": "@jupyter-widgets/controls",
      "model_module_version": "2.0.0",
      "model_name": "HTMLModel",
      "state": {
       "layout": "IPY_MODEL_63db4a3dfb544ece8801e00e2d49f721",
       "style": "IPY_MODEL_1492dfb890d5476588ea0c524b2f1d21",
       "value": "Executing: 100%"
      }
     },
     "f8b92d4029aa4c47af5ded1481c15180": {
      "model_module": "@jupyter-widgets/base",
      "model_module_version": "2.0.0",
      "model_name": "LayoutModel",
      "state": {}
     },
     "f8d5c0546c8d4e829248166a2fb314ed": {
      "model_module": "@jupyter-widgets/controls",
      "model_module_version": "2.0.0",
      "model_name": "HBoxModel",
      "state": {
       "children": [
        "IPY_MODEL_813bb6917def42699750e01dfcf8fb3b",
        "IPY_MODEL_e2a6e82cd144418d97663cbcdcdab649",
        "IPY_MODEL_20ca38961d134d8ba616101553217320"
       ],
       "layout": "IPY_MODEL_2b8176b68168448a8683289af2dd9274"
      }
     },
     "f90bb9d3cf80422a9bc13cc6538e80ab": {
      "model_module": "@jupyter-widgets/base",
      "model_module_version": "2.0.0",
      "model_name": "LayoutModel",
      "state": {}
     },
     "f91af7b784e44b40bbd73dc3826ba18e": {
      "model_module": "@jupyter-widgets/controls",
      "model_module_version": "2.0.0",
      "model_name": "ProgressStyleModel",
      "state": {
       "description_width": ""
      }
     },
     "f9df67a7f643410e84d3ac3088ced11f": {
      "model_module": "@jupyter-widgets/base",
      "model_module_version": "2.0.0",
      "model_name": "LayoutModel",
      "state": {}
     },
     "f9e0343cdf314aa7b2790dbc874aeaff": {
      "model_module": "@jupyter-widgets/controls",
      "model_module_version": "2.0.0",
      "model_name": "ProgressStyleModel",
      "state": {
       "description_width": ""
      }
     },
     "fa168ef066b9412d8cf8b43e580288b3": {
      "model_module": "@jupyter-widgets/controls",
      "model_module_version": "2.0.0",
      "model_name": "HBoxModel",
      "state": {
       "children": [
        "IPY_MODEL_33f8116a27624601b2fb461002bdc4a9",
        "IPY_MODEL_f889081668de44f1b155df4e4db93def",
        "IPY_MODEL_5cc3b496f4b34301ac745d29284aaa06"
       ],
       "layout": "IPY_MODEL_5dbfd032d0464791b6ec9f34f3494db5"
      }
     },
     "fa5083e454b24b6191234b454901eecb": {
      "model_module": "@jupyter-widgets/base",
      "model_module_version": "2.0.0",
      "model_name": "LayoutModel",
      "state": {}
     },
     "fa64248446da464cbd6618eec820b766": {
      "model_module": "@jupyter-widgets/controls",
      "model_module_version": "2.0.0",
      "model_name": "HTMLModel",
      "state": {
       "layout": "IPY_MODEL_925a74ad4ceb458db19ec5aac91a6897",
       "style": "IPY_MODEL_4c035657462b4da6a6875856ab7d36a8",
       "value": " 9/9 [00:25&lt;00:00,  3.44s/cell]"
      }
     },
     "facccc3e3fc84c23a9554441cc392212": {
      "model_module": "@jupyter-widgets/controls",
      "model_module_version": "2.0.0",
      "model_name": "HTMLModel",
      "state": {
       "layout": "IPY_MODEL_e2726e54b838410b8aa45c22f0485a1e",
       "style": "IPY_MODEL_595312e53aff4e32b569c538ee320a4a",
       "value": "Executing: 100%"
      }
     },
     "fad9e232fdd24b40960619971f0329cc": {
      "model_module": "@jupyter-widgets/controls",
      "model_module_version": "2.0.0",
      "model_name": "HTMLStyleModel",
      "state": {
       "description_width": "",
       "font_size": null,
       "text_color": null
      }
     },
     "faf887e1cabb4560a49a5d6bf697f88d": {
      "model_module": "@jupyter-widgets/controls",
      "model_module_version": "2.0.0",
      "model_name": "HTMLModel",
      "state": {
       "layout": "IPY_MODEL_e14eabc5fe6f40a0b7f8446b71a76231",
       "style": "IPY_MODEL_72d6daea3aad47c7b44ff47590742858",
       "value": "Executing: 100%"
      }
     },
     "fd3eaafbe4c748e388ace5ba6e34c251": {
      "model_module": "@jupyter-widgets/controls",
      "model_module_version": "2.0.0",
      "model_name": "HTMLModel",
      "state": {
       "layout": "IPY_MODEL_f1509b0572d140b5995ab071d9cbada2",
       "style": "IPY_MODEL_9b492fd90f4f496792a53e490a4d0db1",
       "value": " 9/9 [00:13&lt;00:00,  1.40s/cell]"
      }
     },
     "fd5eb78d71174620a8541fcc237f520b": {
      "model_module": "@jupyter-widgets/controls",
      "model_module_version": "2.0.0",
      "model_name": "HBoxModel",
      "state": {
       "children": [
        "IPY_MODEL_1912322e72744c27aa847ba65fcd7797",
        "IPY_MODEL_be1af176ef194dc8b91d8c0852941653",
        "IPY_MODEL_5ba836fb9dbc43e3ae9d7f60f01328e0"
       ],
       "layout": "IPY_MODEL_513de51254894f6ea678f88402d37e5a"
      }
     },
     "fdeeea8c845d40b59443ca9785f02cd1": {
      "model_module": "@jupyter-widgets/controls",
      "model_module_version": "2.0.0",
      "model_name": "HBoxModel",
      "state": {
       "children": [
        "IPY_MODEL_a83702ca06ae4eeaad308de20d10b017",
        "IPY_MODEL_95cc75687f9545748c5cf396cf6fb2af",
        "IPY_MODEL_6786e6d15f24446698bb51b878c71b99"
       ],
       "layout": "IPY_MODEL_226cf39bf33f45b780b0bd6ae8c58dab"
      }
     },
     "fdf944815e2443e78f7de119a686af51": {
      "model_module": "@jupyter-widgets/controls",
      "model_module_version": "2.0.0",
      "model_name": "ProgressStyleModel",
      "state": {
       "description_width": ""
      }
     },
     "fe4624b154c641199269b64c7d5e3ff5": {
      "model_module": "@jupyter-widgets/base",
      "model_module_version": "2.0.0",
      "model_name": "LayoutModel",
      "state": {}
     },
     "fe673f882c784b3c9f9aaf3c74d7681f": {
      "model_module": "@jupyter-widgets/controls",
      "model_module_version": "2.0.0",
      "model_name": "HTMLStyleModel",
      "state": {
       "description_width": "",
       "font_size": null,
       "text_color": null
      }
     },
     "ff82aa9437fb4a87875bbf70d1282c0e": {
      "model_module": "@jupyter-widgets/controls",
      "model_module_version": "2.0.0",
      "model_name": "HTMLStyleModel",
      "state": {
       "description_width": "",
       "font_size": null,
       "text_color": null
      }
     }
    },
    "version_major": 2,
    "version_minor": 0
   }
  }
 },
 "nbformat": 4,
 "nbformat_minor": 5
}
