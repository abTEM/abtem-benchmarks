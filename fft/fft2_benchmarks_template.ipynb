{
 "cells": [
  {
   "cell_type": "code",
   "execution_count": 2,
   "id": "b6f252cc-ffb2-49d3-a637-bf2391455dee",
   "metadata": {},
   "outputs": [],
   "source": [
    "import numpy as np\n",
    "import scrapbook as sb\n",
    "from abtem.core import config\n",
    "from abtem.core.fft import fft2, ifft2"
   ]
  },
  {
   "cell_type": "code",
   "execution_count": 16,
   "id": "c98df2e7-9b1a-4c42-bd96-fe69e0523f00",
   "metadata": {
    "tags": [
     "parameters"
    ]
   },
   "outputs": [],
   "source": [
    "batch_size = 2\n",
    "size = 1024\n",
    "threads = 8\n",
    "dtype = np.complex64"
   ]
  },
  {
   "cell_type": "code",
   "execution_count": 17,
   "id": "0b83f288-da97-443b-af5e-0cd6421f2d6a",
   "metadata": {},
   "outputs": [],
   "source": [
    "array = np.random.rand(batch_size, size, size).astype(dtype)"
   ]
  },
  {
   "cell_type": "code",
   "execution_count": 18,
   "id": "1d7b94f0-d178-4bb7-9385-f97793c4ff7a",
   "metadata": {},
   "outputs": [],
   "source": [
    "with config.set({\"fft\": \"fftw\", f\"fftw.threads\": threads}):\n",
    "    fft2(array, overwrite_x=True)"
   ]
  },
  {
   "cell_type": "code",
   "execution_count": 19,
   "id": "7759940b-0624-43bf-94e7-9080ee232008",
   "metadata": {},
   "outputs": [
    {
     "name": "stdout",
     "output_type": "stream",
     "text": [
      "301 ms ± 4.25 ms per loop (mean ± std. dev. of 7 runs, 1 loop each)\n"
     ]
    },
    {
     "data": {
      "text/plain": [
       "<TimeitResult : 301 ms ± 4.25 ms per loop (mean ± std. dev. of 7 runs, 1 loop each)>"
      ]
     },
     "execution_count": 19,
     "metadata": {},
     "output_type": "execute_result"
    }
   ],
   "source": [
    "%%timeit -o\n",
    "\n",
    "with config.set({\"fft\": \"fftw\", f\"fftw.threads\": threads}):\n",
    "    fft2(array, overwrite_x=True, allow_new_wisdom=False)"
   ]
  },
  {
   "cell_type": "code",
   "execution_count": 10,
   "id": "eca6f64a-b93d-4f23-86ec-b28790960ef4",
   "metadata": {},
   "outputs": [
    {
     "data": {
      "application/scrapbook.scrap.json+json": {
       "data": 0.009911010394285711,
       "encoder": "json",
       "name": "fftw.average",
       "version": 1
      }
     },
     "metadata": {
      "scrapbook": {
       "data": true,
       "display": false,
       "name": "fftw.average"
      }
     },
     "output_type": "display_data"
    },
    {
     "data": {
      "application/scrapbook.scrap.json+json": {
       "data": 9.816365931637797e-05,
       "encoder": "json",
       "name": "fftw.stdev",
       "version": 1
      }
     },
     "metadata": {
      "scrapbook": {
       "data": true,
       "display": false,
       "name": "fftw.stdev"
      }
     },
     "output_type": "display_data"
    }
   ],
   "source": [
    "sb.glue(\"fftw.average\", _.average)\n",
    "sb.glue(\"fftw.stdev\", _.stdev)\n",
    "sb.glue(\"fftw.best\", _.best)\n",
    "sb.glue(\"fftw.worst\", _.worst)"
   ]
  },
  {
   "cell_type": "code",
   "execution_count": 11,
   "id": "1fde053f-b2d0-4abd-93ab-88d9e19ac5fb",
   "metadata": {},
   "outputs": [
    {
     "name": "stdout",
     "output_type": "stream",
     "text": [
      "12.7 ms ± 416 µs per loop (mean ± std. dev. of 7 runs, 10 loops each)\n"
     ]
    },
    {
     "data": {
      "text/plain": [
       "<TimeitResult : 12.7 ms ± 416 µs per loop (mean ± std. dev. of 7 runs, 10 loops each)>"
      ]
     },
     "execution_count": 11,
     "metadata": {},
     "output_type": "execute_result"
    }
   ],
   "source": [
    "%%timeit -o\n",
    "\n",
    "with config.set({\"fft\": \"mkl\", f\"mkl.threads\": threads}):\n",
    "    fft2(array, overwrite_x=True)"
   ]
  },
  {
   "cell_type": "code",
   "execution_count": 12,
   "id": "783d82bd-7202-4791-a7ac-d10158267b2e",
   "metadata": {},
   "outputs": [
    {
     "data": {
      "application/scrapbook.scrap.json+json": {
       "data": 0.012671869257142884,
       "encoder": "json",
       "name": "mkl.average",
       "version": 1
      }
     },
     "metadata": {
      "scrapbook": {
       "data": true,
       "display": false,
       "name": "mkl.average"
      }
     },
     "output_type": "display_data"
    },
    {
     "data": {
      "application/scrapbook.scrap.json+json": {
       "data": 0.0004163786348934275,
       "encoder": "json",
       "name": "mkl.stdev",
       "version": 1
      }
     },
     "metadata": {
      "scrapbook": {
       "data": true,
       "display": false,
       "name": "mkl.stdev"
      }
     },
     "output_type": "display_data"
    }
   ],
   "source": [
    "sb.glue(\"mkl.average\", _.average)\n",
    "sb.glue(\"mkl.stdev\", _.stdev)\n",
    "sb.glue(\"mkl.best\", _.best)\n",
    "sb.glue(\"mkl.worst\", _.worst)"
   ]
  }
 ],
 "metadata": {
  "kernelspec": {
   "display_name": "abtem-dask",
   "language": "python",
   "name": "abtem-dask"
  },
  "language_info": {
   "codemirror_mode": {
    "name": "ipython",
    "version": 3
   },
   "file_extension": ".py",
   "mimetype": "text/x-python",
   "name": "python",
   "nbconvert_exporter": "python",
   "pygments_lexer": "ipython3",
   "version": "3.9.15"
  },
  "widgets": {
   "application/vnd.jupyter.widget-state+json": {
    "state": {},
    "version_major": 2,
    "version_minor": 0
   }
  }
 },
 "nbformat": 4,
 "nbformat_minor": 5
}
