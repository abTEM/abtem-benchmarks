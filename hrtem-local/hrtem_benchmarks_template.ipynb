{
 "cells": [
  {
   "cell_type": "code",
   "execution_count": 2,
   "id": "bdae0dd1-6efb-4e38-8c49-4ee7c2c181aa",
   "metadata": {},
   "outputs": [],
   "source": [
    "import abtem\n",
    "import dask\n",
    "import matplotlib.pyplot as plt\n",
    "import numpy as np\n",
    "import scrapbook as sb\n",
    "from abtem.core import config\n",
    "import ase"
   ]
  },
  {
   "cell_type": "code",
   "execution_count": 3,
   "id": "61540508-d178-4347-a2dc-f6a0bfdca7a1",
   "metadata": {
    "tags": [
     "parameters"
    ]
   },
   "outputs": [],
   "source": [
    "gpts = 1024\n",
    "sampling = 0.05\n",
    "num_configs = 8\n",
    "threads = 1"
   ]
  },
  {
   "cell_type": "code",
   "execution_count": 4,
   "id": "0ddccb89-5343-4ebe-82fd-f070bccb8fe2",
   "metadata": {},
   "outputs": [],
   "source": [
    "extent = gpts * sampling\n",
    "slope = 12 / 60.2762953922335\n",
    "\n",
    "p = int(np.floor(slope * extent))\n",
    "q = max(p // 5, 1)\n",
    "\n",
    "atoms = ase.cluster.Decahedron(\"Au\", p, q, 0)\n",
    "atoms.rotate(\"x\", 30)\n",
    "atoms.cell[0, 0] = atoms.cell[1, 1] = extent\n",
    "atoms.center()\n",
    "atoms.center(axis=2, vacuum=4)"
   ]
  },
  {
   "cell_type": "code",
   "execution_count": 18,
   "id": "60042cdb-87fe-4d05-a121-a1176d9b8ade",
   "metadata": {},
   "outputs": [],
   "source": [
    "frozen_phonons = abtem.FrozenPhonons(atoms, num_configs, sigmas=0.1)\n",
    "\n",
    "potential = abtem.Potential(\n",
    "    atoms,\n",
    "    gpts=gpts,\n",
    "    projection=\"infinite\",\n",
    "    slice_thickness=2,\n",
    ")\n",
    "\n",
    "wave = abtem.Probe(energy=200e3, semiangle_cutoff=30, defocus=np.linspace(0,100,10))\n",
    "wave.grid.match(potential)"
   ]
  },
  {
   "cell_type": "code",
   "execution_count": 6,
   "id": "41b00f9b-0bc1-4a6b-a36c-bfb84b86d961",
   "metadata": {},
   "outputs": [],
   "source": [
    "%load_ext memray"
   ]
  },
  {
   "cell_type": "code",
   "execution_count": 19,
   "id": "5aa9e1b2-6ff3-4d06-8c52-e7eee6e5bf79",
   "metadata": {},
   "outputs": [
    {
     "data": {
      "text/plain": [
       "(10, 1024, 1024)"
      ]
     },
     "execution_count": 19,
     "metadata": {},
     "output_type": "execute_result"
    }
   ],
   "source": [
    "waves = wave.build(lazy=False)\n",
    "\n",
    "waves.shape"
   ]
  },
  {
   "cell_type": "code",
   "execution_count": 23,
   "id": "3ccfe950-3da6-4282-b32a-b211ebd681e6",
   "metadata": {},
   "outputs": [
    {
     "data": {
      "text/html": [
       "<table>\n",
       "    <tr>\n",
       "        <td>\n",
       "            <table style=\"border-collapse: collapse;\">\n",
       "                <thead>\n",
       "                    <tr>\n",
       "                        <td> </td>\n",
       "                        <th> Array </th>\n",
       "                        <th> Chunk </th>\n",
       "                    </tr>\n",
       "                </thead>\n",
       "                <tbody>\n",
       "                    \n",
       "                    <tr>\n",
       "                        <th> Bytes </th>\n",
       "                        <td> 80.00 MiB </td>\n",
       "                        <td> 80.00 MiB </td>\n",
       "                    </tr>\n",
       "                    \n",
       "                    <tr>\n",
       "                        <th> Shape </th>\n",
       "                        <td> (10, 1024, 1024) </td>\n",
       "                        <td> (10, 1024, 1024) </td>\n",
       "                    </tr>\n",
       "                    <tr>\n",
       "                        <th> Dask graph </th>\n",
       "                        <td colspan=\"2\"> 1 chunks in 5 graph layers </td>\n",
       "                    </tr>\n",
       "                    <tr>\n",
       "                        <th> Data type </th>\n",
       "                        <td colspan=\"2\"> complex64 numpy.ndarray </td>\n",
       "                    </tr>\n",
       "                </tbody>\n",
       "            </table>\n",
       "        </td>\n",
       "        <td>\n",
       "        <svg width=\"194\" height=\"184\" style=\"stroke:rgb(0,0,0);stroke-width:1\" >\n",
       "\n",
       "  <!-- Horizontal lines -->\n",
       "  <line x1=\"10\" y1=\"0\" x2=\"24\" y2=\"14\" style=\"stroke-width:2\" />\n",
       "  <line x1=\"10\" y1=\"120\" x2=\"24\" y2=\"134\" style=\"stroke-width:2\" />\n",
       "\n",
       "  <!-- Vertical lines -->\n",
       "  <line x1=\"10\" y1=\"0\" x2=\"10\" y2=\"120\" style=\"stroke-width:2\" />\n",
       "  <line x1=\"24\" y1=\"14\" x2=\"24\" y2=\"134\" style=\"stroke-width:2\" />\n",
       "\n",
       "  <!-- Colored Rectangle -->\n",
       "  <polygon points=\"10.0,0.0 24.9485979497544,14.948597949754403 24.9485979497544,134.9485979497544 10.0,120.0\" style=\"fill:#ECB172A0;stroke-width:0\"/>\n",
       "\n",
       "  <!-- Horizontal lines -->\n",
       "  <line x1=\"10\" y1=\"0\" x2=\"130\" y2=\"0\" style=\"stroke-width:2\" />\n",
       "  <line x1=\"24\" y1=\"14\" x2=\"144\" y2=\"14\" style=\"stroke-width:2\" />\n",
       "\n",
       "  <!-- Vertical lines -->\n",
       "  <line x1=\"10\" y1=\"0\" x2=\"24\" y2=\"14\" style=\"stroke-width:2\" />\n",
       "  <line x1=\"130\" y1=\"0\" x2=\"144\" y2=\"14\" style=\"stroke-width:2\" />\n",
       "\n",
       "  <!-- Colored Rectangle -->\n",
       "  <polygon points=\"10.0,0.0 130.0,0.0 144.9485979497544,14.948597949754403 24.9485979497544,14.948597949754403\" style=\"fill:#ECB172A0;stroke-width:0\"/>\n",
       "\n",
       "  <!-- Horizontal lines -->\n",
       "  <line x1=\"24\" y1=\"14\" x2=\"144\" y2=\"14\" style=\"stroke-width:2\" />\n",
       "  <line x1=\"24\" y1=\"134\" x2=\"144\" y2=\"134\" style=\"stroke-width:2\" />\n",
       "\n",
       "  <!-- Vertical lines -->\n",
       "  <line x1=\"24\" y1=\"14\" x2=\"24\" y2=\"134\" style=\"stroke-width:2\" />\n",
       "  <line x1=\"144\" y1=\"14\" x2=\"144\" y2=\"134\" style=\"stroke-width:2\" />\n",
       "\n",
       "  <!-- Colored Rectangle -->\n",
       "  <polygon points=\"24.9485979497544,14.948597949754403 144.9485979497544,14.948597949754403 144.9485979497544,134.9485979497544 24.9485979497544,134.9485979497544\" style=\"fill:#ECB172A0;stroke-width:0\"/>\n",
       "\n",
       "  <!-- Text -->\n",
       "  <text x=\"84.948598\" y=\"154.948598\" font-size=\"1.0rem\" font-weight=\"100\" text-anchor=\"middle\" >1024</text>\n",
       "  <text x=\"164.948598\" y=\"74.948598\" font-size=\"1.0rem\" font-weight=\"100\" text-anchor=\"middle\" transform=\"rotate(-90,164.948598,74.948598)\">1024</text>\n",
       "  <text x=\"7.474299\" y=\"147.474299\" font-size=\"1.0rem\" font-weight=\"100\" text-anchor=\"middle\" transform=\"rotate(45,7.474299,147.474299)\">10</text>\n",
       "</svg>\n",
       "        </td>\n",
       "    </tr>\n",
       "</table>"
      ],
      "text/plain": [
       "dask.array<getitem, shape=(10, 1024, 1024), dtype=complex64, chunksize=(10, 1024, 1024), chunktype=numpy.ndarray>"
      ]
     },
     "execution_count": 23,
     "metadata": {},
     "output_type": "execute_result"
    }
   ],
   "source": [
    "wave.build(lazy=True).array"
   ]
  },
  {
   "cell_type": "code",
   "execution_count": 29,
   "id": "af81e9cf-a4d8-4eca-a3a8-2eadede4f78f",
   "metadata": {},
   "outputs": [
    {
     "data": {
      "text/html": [
       "<pre style=\"white-space:pre;overflow-x:auto;line-height:normal;font-family:Menlo,'DejaVu Sans Mono',consolas,'Courier New',monospace\"></pre>\n"
      ],
      "text/plain": [
       "\u001b[?25l"
      ]
     },
     "metadata": {},
     "output_type": "display_data"
    },
    {
     "data": {
      "application/vnd.jupyter.widget-view+json": {
       "model_id": "",
       "version_major": 2,
       "version_minor": 0
      },
      "text/plain": [
       "Output()"
      ]
     },
     "metadata": {},
     "output_type": "display_data"
    },
    {
     "data": {
      "text/html": [
       "<pre style=\"white-space:pre;overflow-x:auto;line-height:normal;font-family:Menlo,'DejaVu Sans Mono',consolas,'Courier New',monospace\">\n",
       "</pre>\n"
      ],
      "text/plain": [
       "\n",
       "\u001b[?25h\r",
       "\u001b[1A\u001b[2K"
      ]
     },
     "metadata": {},
     "output_type": "display_data"
    },
    {
     "data": {
      "text/html": [
       "<pre style=\"white-space:pre;overflow-x:auto;line-height:normal;font-family:Menlo,'DejaVu Sans Mono',consolas,'Courier New',monospace\"></pre>\n"
      ],
      "text/plain": [
       "\u001b[?25l"
      ]
     },
     "metadata": {},
     "output_type": "display_data"
    },
    {
     "data": {
      "application/vnd.jupyter.widget-view+json": {
       "model_id": "",
       "version_major": 2,
       "version_minor": 0
      },
      "text/plain": [
       "Output()"
      ]
     },
     "metadata": {},
     "output_type": "display_data"
    },
    {
     "data": {
      "text/html": [
       "<pre style=\"white-space:pre;overflow-x:auto;line-height:normal;font-family:Menlo,'DejaVu Sans Mono',consolas,'Courier New',monospace\">\n",
       "</pre>\n"
      ],
      "text/plain": [
       "\n",
       "\u001b[?25h\r",
       "\u001b[1A\u001b[2K"
      ]
     },
     "metadata": {},
     "output_type": "display_data"
    },
    {
     "data": {
      "text/html": [
       "<pre style=\"white-space:pre;overflow-x:auto;line-height:normal;font-family:Menlo,'DejaVu Sans Mono',consolas,'Courier New',monospace\">Results saved to <span style=\"color: #000080; text-decoration-color: #000080; font-weight: bold\">memray-results/tmpne9cfzcy/flamegraph.html</span>\n",
       "</pre>\n"
      ],
      "text/plain": [
       "Results saved to \u001b[1;34mmemray-results/tmpne9cfzcy/flamegraph.html\u001b[0m\n"
      ]
     },
     "metadata": {},
     "output_type": "display_data"
    },
    {
     "data": {
      "text/html": [
       "\n",
       "        <iframe\n",
       "            width=\"100%\"\n",
       "            height=\"600\"\n",
       "            src=\"memray-results/tmpne9cfzcy/flamegraph.html\"\n",
       "            frameborder=\"0\"\n",
       "            allowfullscreen\n",
       "            \n",
       "        ></iframe>\n",
       "        "
      ],
      "text/plain": [
       "<IPython.lib.display.IFrame at 0x7fd4ff420130>"
      ]
     },
     "metadata": {},
     "output_type": "display_data"
    }
   ],
   "source": [
    "%%memray_flamegraph\n",
    "with config.set({\"fft\": \"mkl\", \"fftw.threads\": threads}):\n",
    "    wave.build(lazy=False).multislice(potential)\n",
    "\n",
    "#with config.set({\"fft\": \"fftw\", \"fftw.threads\": threads}):\n",
    "#    exit_wave.compute()"
   ]
  },
  {
   "cell_type": "code",
   "execution_count": 6,
   "id": "b494fd9b-6e0e-4609-8ead-51fda8e9a32c",
   "metadata": {},
   "outputs": [
    {
     "name": "stdout",
     "output_type": "stream",
     "text": [
      "[########################################] | 100% Completed | 1.25 ss\n",
      "1.3 s ± 0 ns per loop (mean ± std. dev. of 1 run, 1 loop each)\n"
     ]
    },
    {
     "data": {
      "text/plain": [
       "<TimeitResult : 1.3 s ± 0 ns per loop (mean ± std. dev. of 1 run, 1 loop each)>"
      ]
     },
     "execution_count": 6,
     "metadata": {},
     "output_type": "execute_result"
    }
   ],
   "source": [
    "%%timeit -n1 -r1 -o\n",
    "\n",
    "exit_wave = wave.multislice(potential)\n",
    "\n",
    "with config.set({\"fft\": \"fftw\", \"fftw.threads\": threads}):\n",
    "    exit_wave.compute()"
   ]
  },
  {
   "cell_type": "code",
   "execution_count": 7,
   "id": "268386f7-eb3a-4784-a80d-5780553af269",
   "metadata": {},
   "outputs": [
    {
     "data": {
      "application/scrapbook.scrap.json+json": {
       "data": 1.3000582769999998,
       "encoder": "json",
       "name": "fftw.average",
       "version": 1
      }
     },
     "metadata": {
      "scrapbook": {
       "data": true,
       "display": false,
       "name": "fftw.average"
      }
     },
     "output_type": "display_data"
    },
    {
     "data": {
      "application/scrapbook.scrap.json+json": {
       "data": 0,
       "encoder": "json",
       "name": "fftw.stdev",
       "version": 1
      }
     },
     "metadata": {
      "scrapbook": {
       "data": true,
       "display": false,
       "name": "fftw.stdev"
      }
     },
     "output_type": "display_data"
    },
    {
     "data": {
      "application/scrapbook.scrap.json+json": {
       "data": 1.3000582769999998,
       "encoder": "json",
       "name": "fftw.best",
       "version": 1
      }
     },
     "metadata": {
      "scrapbook": {
       "data": true,
       "display": false,
       "name": "fftw.best"
      }
     },
     "output_type": "display_data"
    },
    {
     "data": {
      "application/scrapbook.scrap.json+json": {
       "data": 1.3000582769999998,
       "encoder": "json",
       "name": "fftw.worst",
       "version": 1
      }
     },
     "metadata": {
      "scrapbook": {
       "data": true,
       "display": false,
       "name": "fftw.worst"
      }
     },
     "output_type": "display_data"
    }
   ],
   "source": [
    "sb.glue(\"fftw.average\", _.average)\n",
    "sb.glue(\"fftw.stdev\", _.stdev)\n",
    "sb.glue(\"fftw.best\", _.best)\n",
    "sb.glue(\"fftw.worst\", _.worst)"
   ]
  },
  {
   "cell_type": "code",
   "execution_count": 8,
   "id": "cffa5a85-76b0-4526-86e3-42b27181888f",
   "metadata": {},
   "outputs": [
    {
     "name": "stdout",
     "output_type": "stream",
     "text": [
      "[########################################] | 100% Completed | 1.62 ss\n",
      "1.66 s ± 0 ns per loop (mean ± std. dev. of 1 run, 1 loop each)\n"
     ]
    },
    {
     "data": {
      "text/plain": [
       "<TimeitResult : 1.66 s ± 0 ns per loop (mean ± std. dev. of 1 run, 1 loop each)>"
      ]
     },
     "execution_count": 8,
     "metadata": {},
     "output_type": "execute_result"
    }
   ],
   "source": [
    "%%timeit -n1 -r1 -o\n",
    "\n",
    "exit_wave = wave.multislice(potential)\n",
    "\n",
    "with config.set({\"fft\": \"mkl\", \"mkl.threads\": threads}):\n",
    "    exit_wave.compute()"
   ]
  },
  {
   "cell_type": "code",
   "execution_count": 9,
   "id": "31cbd39a-4e6b-44db-b462-1241867f561e",
   "metadata": {},
   "outputs": [
    {
     "data": {
      "application/scrapbook.scrap.json+json": {
       "data": 1.6643668919999985,
       "encoder": "json",
       "name": "mkl.average",
       "version": 1
      }
     },
     "metadata": {
      "scrapbook": {
       "data": true,
       "display": false,
       "name": "mkl.average"
      }
     },
     "output_type": "display_data"
    },
    {
     "data": {
      "application/scrapbook.scrap.json+json": {
       "data": 0,
       "encoder": "json",
       "name": "mkl.stdev",
       "version": 1
      }
     },
     "metadata": {
      "scrapbook": {
       "data": true,
       "display": false,
       "name": "mkl.stdev"
      }
     },
     "output_type": "display_data"
    },
    {
     "data": {
      "application/scrapbook.scrap.json+json": {
       "data": 1.6643668919999985,
       "encoder": "json",
       "name": "mkl.best",
       "version": 1
      }
     },
     "metadata": {
      "scrapbook": {
       "data": true,
       "display": false,
       "name": "mkl.best"
      }
     },
     "output_type": "display_data"
    },
    {
     "data": {
      "application/scrapbook.scrap.json+json": {
       "data": 1.6643668919999985,
       "encoder": "json",
       "name": "mkl.worst",
       "version": 1
      }
     },
     "metadata": {
      "scrapbook": {
       "data": true,
       "display": false,
       "name": "mkl.worst"
      }
     },
     "output_type": "display_data"
    }
   ],
   "source": [
    "sb.glue(\"mkl.average\", _.average)\n",
    "sb.glue(\"mkl.stdev\", _.stdev)\n",
    "sb.glue(\"mkl.best\", _.best)\n",
    "sb.glue(\"mkl.worst\", _.worst)"
   ]
  }
 ],
 "metadata": {
  "kernelspec": {
   "display_name": "abtem-dask",
   "language": "python",
   "name": "abtem-dask"
  },
  "language_info": {
   "codemirror_mode": {
    "name": "ipython",
    "version": 3
   },
   "file_extension": ".py",
   "mimetype": "text/x-python",
   "name": "python",
   "nbconvert_exporter": "python",
   "pygments_lexer": "ipython3",
   "version": "3.9.15"
  },
  "widgets": {
   "application/vnd.jupyter.widget-state+json": {
    "state": {},
    "version_major": 2,
    "version_minor": 0
   }
  }
 },
 "nbformat": 4,
 "nbformat_minor": 5
}
